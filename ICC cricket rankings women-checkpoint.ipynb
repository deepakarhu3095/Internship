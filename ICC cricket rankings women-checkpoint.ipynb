{
 "cells": [
  {
   "cell_type": "code",
   "execution_count": 1,
   "id": "208e4574",
   "metadata": {},
   "outputs": [
    {
     "name": "stdout",
     "output_type": "stream",
     "text": [
      "Requirement already satisfied: bs4 in c:\\programdata\\anaconda3\\lib\\site-packages (0.0.1)\n",
      "Requirement already satisfied: beautifulsoup4 in c:\\programdata\\anaconda3\\lib\\site-packages (from bs4) (4.10.0)\n",
      "Requirement already satisfied: soupsieve>1.2 in c:\\programdata\\anaconda3\\lib\\site-packages (from beautifulsoup4->bs4) (2.2.1)\n",
      "Requirement already satisfied: requests in c:\\programdata\\anaconda3\\lib\\site-packages (2.26.0)\n",
      "Requirement already satisfied: charset-normalizer~=2.0.0 in c:\\programdata\\anaconda3\\lib\\site-packages (from requests) (2.0.4)\n",
      "Requirement already satisfied: certifi>=2017.4.17 in c:\\programdata\\anaconda3\\lib\\site-packages (from requests) (2021.10.8)\n",
      "Requirement already satisfied: urllib3<1.27,>=1.21.1 in c:\\programdata\\anaconda3\\lib\\site-packages (from requests) (1.26.7)\n",
      "Requirement already satisfied: idna<4,>=2.5 in c:\\programdata\\anaconda3\\lib\\site-packages (from requests) (3.2)\n"
     ]
    }
   ],
   "source": [
    "!pip install bs4\n",
    "!pip install requests"
   ]
  },
  {
   "cell_type": "code",
   "execution_count": 2,
   "id": "f8d88f8c",
   "metadata": {},
   "outputs": [],
   "source": [
    "from bs4 import BeautifulSoup\n",
    "import requests"
   ]
  },
  {
   "cell_type": "code",
   "execution_count": 3,
   "id": "a7ab94fe",
   "metadata": {},
   "outputs": [
    {
     "data": {
      "text/plain": [
       "<Response [200]>"
      ]
     },
     "execution_count": 3,
     "metadata": {},
     "output_type": "execute_result"
    }
   ],
   "source": [
    "ICC_womens = requests.get(\"https://www.icc-cricket.com/rankings/womens/team-rankings/odi\")\n",
    "ICC_womens"
   ]
  },
  {
   "cell_type": "code",
   "execution_count": 4,
   "id": "37b5481e",
   "metadata": {},
   "outputs": [],
   "source": [
    "cric_w_soup = BeautifulSoup(ICC_womens.content,'html.parser')"
   ]
  },
  {
   "cell_type": "code",
   "execution_count": 5,
   "id": "103097a7",
   "metadata": {},
   "outputs": [
    {
     "data": {
      "text/plain": [
       "['Australia',\n",
       " 'South Africa',\n",
       " 'England',\n",
       " 'India',\n",
       " 'New Zealand',\n",
       " 'Bangladesh',\n",
       " 'West Indies',\n",
       " 'Pakistan',\n",
       " 'Ireland',\n",
       " 'Sri Lanka']"
      ]
     },
     "execution_count": 5,
     "metadata": {},
     "output_type": "execute_result"
    }
   ],
   "source": [
    "w_team = cric_w_soup.find_all(['span'], class_ = \"u-hide-phablet\")\n",
    "ODI_w_Team = []\n",
    "\n",
    "for i in w_team:\n",
    "    ODI_w_Team.append(i.text.replace(\"\\n\",\"\"))\n",
    "ODI_w_Team= ODI_w_Team[:10]\n",
    "ODI_w_Team"
   ]
  },
  {
   "cell_type": "code",
   "execution_count": 6,
   "id": "fc85a73e",
   "metadata": {},
   "outputs": [],
   "source": [
    "w_title = cric_w_soup.find_all(['span'], class_ = \"u-hide-mobile\")\n",
    "Title_w = []\n",
    "\n",
    "for i in w_title:\n",
    "    Title_w.append(i.text.replace(\"\\n\",\"\"))\n",
    "    \n",
    "w_Mat = cric_w_soup.find_all(['td'], class_ = \"rankings-block__banner--matches\")\n",
    "w_Matches= []\n",
    "for i in w_Mat:\n",
    "    w_Matches.append(i.text.replace(\"\\n\",\"\"))\n",
    " \n",
    "w_pts = cric_w_soup.find_all(['td'], class_ = \"rankings-block__banner--points\")\n",
    "w_Points= []\n",
    "for i in w_pts:\n",
    "    w_Points.append(i.text.replace(\"\\n\",\"\"))"
   ]
  },
  {
   "cell_type": "code",
   "execution_count": 7,
   "id": "3cc12a56",
   "metadata": {},
   "outputs": [],
   "source": [
    "w_rtg = cric_w_soup.find_all(['td'], class_ = \"rankings-block__banner--rating u-text-right\")\n",
    "w_Ratings= []\n",
    "for i in w_rtg:\n",
    "    w_Ratings.append(i.text.replace(\"\\n\",\"\"))\n",
    "w_Ratings= [i.split('                            ')[1]for i in w_Ratings ] \n",
    "\n",
    "w_stat = cric_w_soup.find_all(['td'], class_ = \"table-body__cell u-center-text\")\n",
    "w_Stats = []\n",
    "\n",
    "for i in w_stat:\n",
    "    w_Stats.append(i.text.replace(\"\\n\",\"\"))\n",
    "    \n",
    "    \n",
    "for i in range(0,len(w_Stats)):\n",
    "    if i == 0 or  i/2 == i//2:\n",
    "        w_Matches.append(w_Stats[i])    \n",
    "    else:\n",
    "        w_Points.append(w_Stats[i])\n",
    "w_Points = w_Points[:10]\n",
    "w_Matches= w_Matches[:10]\n",
    "\n",
    "w_rat = cric_w_soup.find_all(['td'], class_ = \"table-body__cell u-text-right rating\")\n",
    "\n",
    "for i in w_rat:\n",
    "    w_Ratings.append(i.text.replace(\"\\n\",\"\"))\n",
    "w_Ratings= w_Ratings[:10]"
   ]
  },
  {
   "cell_type": "code",
   "execution_count": 8,
   "id": "c7cf4e90",
   "metadata": {},
   "outputs": [],
   "source": [
    "import pandas as pd"
   ]
  },
  {
   "cell_type": "code",
   "execution_count": 9,
   "id": "4aeb8632",
   "metadata": {},
   "outputs": [],
   "source": [
    "ODI_TOP_10_womens = pd.DataFrame({Title_w[0]:ODI_w_Team, Title_w[1]:w_Matches, Title_w[2]: w_Points, Title_w[3]: w_Ratings})\n"
   ]
  },
  {
   "cell_type": "code",
   "execution_count": 10,
   "id": "3aca55b4",
   "metadata": {},
   "outputs": [
    {
     "data": {
      "text/html": [
       "<div>\n",
       "<style scoped>\n",
       "    .dataframe tbody tr th:only-of-type {\n",
       "        vertical-align: middle;\n",
       "    }\n",
       "\n",
       "    .dataframe tbody tr th {\n",
       "        vertical-align: top;\n",
       "    }\n",
       "\n",
       "    .dataframe thead th {\n",
       "        text-align: right;\n",
       "    }\n",
       "</style>\n",
       "<table border=\"1\" class=\"dataframe\">\n",
       "  <thead>\n",
       "    <tr style=\"text-align: right;\">\n",
       "      <th></th>\n",
       "      <th>Team</th>\n",
       "      <th>Matches</th>\n",
       "      <th>Points</th>\n",
       "      <th>Rating</th>\n",
       "    </tr>\n",
       "  </thead>\n",
       "  <tbody>\n",
       "    <tr>\n",
       "      <th>0</th>\n",
       "      <td>Australia</td>\n",
       "      <td>20</td>\n",
       "      <td>3,263</td>\n",
       "      <td>163</td>\n",
       "    </tr>\n",
       "    <tr>\n",
       "      <th>1</th>\n",
       "      <td>South Africa</td>\n",
       "      <td>21</td>\n",
       "      <td>2,580</td>\n",
       "      <td>123</td>\n",
       "    </tr>\n",
       "    <tr>\n",
       "      <th>2</th>\n",
       "      <td>England</td>\n",
       "      <td>21</td>\n",
       "      <td>2,474</td>\n",
       "      <td>118</td>\n",
       "    </tr>\n",
       "    <tr>\n",
       "      <th>3</th>\n",
       "      <td>India</td>\n",
       "      <td>22</td>\n",
       "      <td>2,221</td>\n",
       "      <td>101</td>\n",
       "    </tr>\n",
       "    <tr>\n",
       "      <th>4</th>\n",
       "      <td>New Zealand</td>\n",
       "      <td>24</td>\n",
       "      <td>2,342</td>\n",
       "      <td>98</td>\n",
       "    </tr>\n",
       "    <tr>\n",
       "      <th>5</th>\n",
       "      <td>Bangladesh</td>\n",
       "      <td>5</td>\n",
       "      <td>475</td>\n",
       "      <td>95</td>\n",
       "    </tr>\n",
       "    <tr>\n",
       "      <th>6</th>\n",
       "      <td>West Indies</td>\n",
       "      <td>21</td>\n",
       "      <td>1,801</td>\n",
       "      <td>86</td>\n",
       "    </tr>\n",
       "    <tr>\n",
       "      <th>7</th>\n",
       "      <td>Pakistan</td>\n",
       "      <td>19</td>\n",
       "      <td>1,304</td>\n",
       "      <td>69</td>\n",
       "    </tr>\n",
       "    <tr>\n",
       "      <th>8</th>\n",
       "      <td>Ireland</td>\n",
       "      <td>5</td>\n",
       "      <td>240</td>\n",
       "      <td>48</td>\n",
       "    </tr>\n",
       "    <tr>\n",
       "      <th>9</th>\n",
       "      <td>Sri Lanka</td>\n",
       "      <td>5</td>\n",
       "      <td>233</td>\n",
       "      <td>47</td>\n",
       "    </tr>\n",
       "  </tbody>\n",
       "</table>\n",
       "</div>"
      ],
      "text/plain": [
       "           Team Matches Points Rating\n",
       "0     Australia      20  3,263    163\n",
       "1  South Africa      21  2,580    123\n",
       "2       England      21  2,474    118\n",
       "3         India      22  2,221    101\n",
       "4   New Zealand      24  2,342     98\n",
       "5    Bangladesh       5    475     95\n",
       "6   West Indies      21  1,801     86\n",
       "7      Pakistan      19  1,304     69\n",
       "8       Ireland       5    240     48\n",
       "9     Sri Lanka       5    233     47"
      ]
     },
     "execution_count": 10,
     "metadata": {},
     "output_type": "execute_result"
    }
   ],
   "source": [
    "ODI_TOP_10_womens"
   ]
  },
  {
   "cell_type": "code",
   "execution_count": 11,
   "id": "28987e4e",
   "metadata": {},
   "outputs": [
    {
     "data": {
      "text/plain": [
       "<Response [200]>"
      ]
     },
     "execution_count": 11,
     "metadata": {},
     "output_type": "execute_result"
    }
   ],
   "source": [
    "ICC_Wom = requests.get(\"https://www.icc-cricket.com/rankings/womens/player-rankings/odi\")\n",
    "ICC_Wom"
   ]
  },
  {
   "cell_type": "code",
   "execution_count": 12,
   "id": "6a89b4b5",
   "metadata": {},
   "outputs": [],
   "source": [
    "player_w_soup = BeautifulSoup(ICC_Wom.content,'html.parser')"
   ]
  },
  {
   "cell_type": "code",
   "execution_count": 13,
   "id": "515ab6e1",
   "metadata": {},
   "outputs": [
    {
     "data": {
      "text/plain": [
       "['Alyssa Healy', 'Jess Jonassen', 'Ellyse Perry']"
      ]
     },
     "execution_count": 13,
     "metadata": {},
     "output_type": "execute_result"
    }
   ],
   "source": [
    "player_w_soup = BeautifulSoup(ICC_Wom.content,'html.parser')\n",
    "nam_w = player_w_soup.find_all(['div'], class_ = \"rankings-block__banner--name\")\n",
    "banner_name_w = []\n",
    "\n",
    "for i in nam_w:\n",
    "    banner_name_w.append(i.text.replace(\"\\n\",\"\"))\n",
    "banner_name_w"
   ]
  },
  {
   "cell_type": "code",
   "execution_count": 16,
   "id": "157b2607",
   "metadata": {},
   "outputs": [],
   "source": [
    "nat_w = player_w_soup.find_all(['div'], class_ = \"rankings-block__banner--nationality\")\n",
    "natt_w = []\n",
    "\n",
    "for i in nat_w:\n",
    "    natt_w.append(i.text.replace(\"\\n\",\"\"))\n",
    "\n",
    "rat_w = player_w_soup.find_all(['div'], class_ = \"rankings-block__banner--rating\")\n",
    "ratt_w = []\n",
    "\n",
    "for i in rat_w:\n",
    "    ratt_w.append(i.text.replace(\"\\n\",\"\"))\n",
    "    \n",
    "Batsman_name_w=[banner_name_w[0]]\n",
    "Batsman_nation_w= [natt_w[0]]\n",
    "Batsman_Rattings_w= [ratt_w[0]]\n",
    "allrounder_name_w= [banner_name_w[-1]]\n",
    "allrounder_nation_w= [natt_w[-1]]\n",
    "allrounder_Rattings_w= [ratt_w[-1]]    \n",
    "\n",
    "Nam_w = player_w_soup.find_all(['td'], class_ = \"table-body__cell name\")\n",
    "table_names_w = []\n",
    "for i in Nam_w:\n",
    "    table_names_w.append(i.text.replace(\"\\n\",\"\"))\n",
    "\n",
    "\n",
    "nat1_w = player_w_soup.find_all(['span'], class_ = \"table-body__logo-text\")\n",
    "Nat1_w = []\n",
    "for i in nat1_w:\n",
    "    Nat1_w.append(i.text.replace(\"\\n\",\"\"))\n",
    "\n",
    "rat1_w = player_w_soup.find_all(['td'], class_ = \"table-body__cell u-text-right rating\")\n",
    "Rat1_w = []\n",
    "for i in rat1_w:\n",
    "    Rat1_w.append(i.text.replace(\"\\n\",\"\"))\n",
    "\n",
    "\n",
    "\n",
    "for i in table_names_w[0:9]:\n",
    "    Batsman_name_w.append(i)\n",
    "for i in Nat1_w[0:9]:\n",
    "    Batsman_nation_w.append(i)\n",
    "for i in Rat1_w[0:9]:\n",
    "    Batsman_Rattings_w.append(i)    \n",
    "for i in table_names_w[18:27]:\n",
    "    allrounder_name_w.append(i)\n",
    "for i in Nat1_w[18:27]:\n",
    "    allrounder_nation_w.append(i)\n",
    "for i in Rat1_w[18:27]:\n",
    "    allrounder_Rattings_w.append(i)"
   ]
  },
  {
   "cell_type": "code",
   "execution_count": 17,
   "id": "f950d598",
   "metadata": {},
   "outputs": [],
   "source": [
    "ODI_TOP_10_Batsman_w = pd.DataFrame({\"Batsman_name_W\":Batsman_name_w, \"Batsman_nation_w\":Batsman_nation_w, \"Batsman_Rattings_w\": Batsman_Rattings_w})"
   ]
  },
  {
   "cell_type": "code",
   "execution_count": 18,
   "id": "64bf205a",
   "metadata": {},
   "outputs": [
    {
     "data": {
      "text/html": [
       "<div>\n",
       "<style scoped>\n",
       "    .dataframe tbody tr th:only-of-type {\n",
       "        vertical-align: middle;\n",
       "    }\n",
       "\n",
       "    .dataframe tbody tr th {\n",
       "        vertical-align: top;\n",
       "    }\n",
       "\n",
       "    .dataframe thead th {\n",
       "        text-align: right;\n",
       "    }\n",
       "</style>\n",
       "<table border=\"1\" class=\"dataframe\">\n",
       "  <thead>\n",
       "    <tr style=\"text-align: right;\">\n",
       "      <th></th>\n",
       "      <th>Batsman_name_W</th>\n",
       "      <th>Batsman_nation_w</th>\n",
       "      <th>Batsman_Rattings_w</th>\n",
       "    </tr>\n",
       "  </thead>\n",
       "  <tbody>\n",
       "    <tr>\n",
       "      <th>0</th>\n",
       "      <td>Alyssa Healy</td>\n",
       "      <td>AUS749</td>\n",
       "      <td>749</td>\n",
       "    </tr>\n",
       "    <tr>\n",
       "      <th>1</th>\n",
       "      <td>Mithali Raj</td>\n",
       "      <td>IND</td>\n",
       "      <td>735</td>\n",
       "    </tr>\n",
       "    <tr>\n",
       "      <th>2</th>\n",
       "      <td>Tammy Beaumont</td>\n",
       "      <td>ENG</td>\n",
       "      <td>707</td>\n",
       "    </tr>\n",
       "    <tr>\n",
       "      <th>3</th>\n",
       "      <td>Meg Lanning</td>\n",
       "      <td>AUS</td>\n",
       "      <td>706</td>\n",
       "    </tr>\n",
       "    <tr>\n",
       "      <th>4</th>\n",
       "      <td>Beth Mooney</td>\n",
       "      <td>AUS</td>\n",
       "      <td>705</td>\n",
       "    </tr>\n",
       "    <tr>\n",
       "      <th>5</th>\n",
       "      <td>Lizelle Lee</td>\n",
       "      <td>SA</td>\n",
       "      <td>702</td>\n",
       "    </tr>\n",
       "    <tr>\n",
       "      <th>6</th>\n",
       "      <td>Amy Satterthwaite</td>\n",
       "      <td>NZ</td>\n",
       "      <td>700</td>\n",
       "    </tr>\n",
       "    <tr>\n",
       "      <th>7</th>\n",
       "      <td>Smriti Mandhana</td>\n",
       "      <td>IND</td>\n",
       "      <td>666</td>\n",
       "    </tr>\n",
       "    <tr>\n",
       "      <th>8</th>\n",
       "      <td>Laura Wolvaardt</td>\n",
       "      <td>SA</td>\n",
       "      <td>661</td>\n",
       "    </tr>\n",
       "    <tr>\n",
       "      <th>9</th>\n",
       "      <td>Ellyse Perry</td>\n",
       "      <td>AUS</td>\n",
       "      <td>661</td>\n",
       "    </tr>\n",
       "  </tbody>\n",
       "</table>\n",
       "</div>"
      ],
      "text/plain": [
       "      Batsman_name_W Batsman_nation_w Batsman_Rattings_w\n",
       "0       Alyssa Healy           AUS749                749\n",
       "1        Mithali Raj              IND                735\n",
       "2     Tammy Beaumont              ENG                707\n",
       "3        Meg Lanning              AUS                706\n",
       "4        Beth Mooney              AUS                705\n",
       "5        Lizelle Lee               SA                702\n",
       "6  Amy Satterthwaite               NZ                700\n",
       "7    Smriti Mandhana              IND                666\n",
       "8    Laura Wolvaardt               SA                661\n",
       "9       Ellyse Perry              AUS                661"
      ]
     },
     "execution_count": 18,
     "metadata": {},
     "output_type": "execute_result"
    }
   ],
   "source": [
    "ODI_TOP_10_Batsman_w"
   ]
  },
  {
   "cell_type": "code",
   "execution_count": 19,
   "id": "8f7602c2",
   "metadata": {},
   "outputs": [],
   "source": [
    "ODI_TOP_10_allrounder_w = pd.DataFrame({\"allrounder_name_w\":allrounder_name_w, \"allrounder_nation_w\":allrounder_nation_w, \"allrounder_Rattings_w\": allrounder_Rattings_w})\n"
   ]
  },
  {
   "cell_type": "code",
   "execution_count": 20,
   "id": "a7928de1",
   "metadata": {},
   "outputs": [
    {
     "data": {
      "text/html": [
       "<div>\n",
       "<style scoped>\n",
       "    .dataframe tbody tr th:only-of-type {\n",
       "        vertical-align: middle;\n",
       "    }\n",
       "\n",
       "    .dataframe tbody tr th {\n",
       "        vertical-align: top;\n",
       "    }\n",
       "\n",
       "    .dataframe thead th {\n",
       "        text-align: right;\n",
       "    }\n",
       "</style>\n",
       "<table border=\"1\" class=\"dataframe\">\n",
       "  <thead>\n",
       "    <tr style=\"text-align: right;\">\n",
       "      <th></th>\n",
       "      <th>allrounder_name_w</th>\n",
       "      <th>allrounder_nation_w</th>\n",
       "      <th>allrounder_Rattings_w</th>\n",
       "    </tr>\n",
       "  </thead>\n",
       "  <tbody>\n",
       "    <tr>\n",
       "      <th>0</th>\n",
       "      <td>Ellyse Perry</td>\n",
       "      <td>AUS438</td>\n",
       "      <td>438</td>\n",
       "    </tr>\n",
       "    <tr>\n",
       "      <th>1</th>\n",
       "      <td>Natalie Sciver</td>\n",
       "      <td>ENG</td>\n",
       "      <td>351</td>\n",
       "    </tr>\n",
       "    <tr>\n",
       "      <th>2</th>\n",
       "      <td>Marizanne Kapp</td>\n",
       "      <td>SA</td>\n",
       "      <td>327</td>\n",
       "    </tr>\n",
       "    <tr>\n",
       "      <th>3</th>\n",
       "      <td>Amelia Kerr</td>\n",
       "      <td>NZ</td>\n",
       "      <td>312</td>\n",
       "    </tr>\n",
       "    <tr>\n",
       "      <th>4</th>\n",
       "      <td>Deepti Sharma</td>\n",
       "      <td>IND</td>\n",
       "      <td>309</td>\n",
       "    </tr>\n",
       "    <tr>\n",
       "      <th>5</th>\n",
       "      <td>Katherine Brunt</td>\n",
       "      <td>ENG</td>\n",
       "      <td>273</td>\n",
       "    </tr>\n",
       "    <tr>\n",
       "      <th>6</th>\n",
       "      <td>Jess Jonassen</td>\n",
       "      <td>AUS</td>\n",
       "      <td>263</td>\n",
       "    </tr>\n",
       "    <tr>\n",
       "      <th>7</th>\n",
       "      <td>Stafanie Taylor</td>\n",
       "      <td>WI</td>\n",
       "      <td>262</td>\n",
       "    </tr>\n",
       "    <tr>\n",
       "      <th>8</th>\n",
       "      <td>Ashleigh Gardner</td>\n",
       "      <td>AUS</td>\n",
       "      <td>256</td>\n",
       "    </tr>\n",
       "    <tr>\n",
       "      <th>9</th>\n",
       "      <td>Hayley Matthews</td>\n",
       "      <td>WI</td>\n",
       "      <td>254</td>\n",
       "    </tr>\n",
       "  </tbody>\n",
       "</table>\n",
       "</div>"
      ],
      "text/plain": [
       "  allrounder_name_w allrounder_nation_w allrounder_Rattings_w\n",
       "0      Ellyse Perry              AUS438                   438\n",
       "1    Natalie Sciver                 ENG                   351\n",
       "2    Marizanne Kapp                  SA                   327\n",
       "3       Amelia Kerr                  NZ                   312\n",
       "4     Deepti Sharma                 IND                   309\n",
       "5   Katherine Brunt                 ENG                   273\n",
       "6     Jess Jonassen                 AUS                   263\n",
       "7   Stafanie Taylor                  WI                   262\n",
       "8  Ashleigh Gardner                 AUS                   256\n",
       "9   Hayley Matthews                  WI                   254"
      ]
     },
     "execution_count": 20,
     "metadata": {},
     "output_type": "execute_result"
    }
   ],
   "source": [
    "ODI_TOP_10_allrounder_w"
   ]
  },
  {
   "cell_type": "code",
   "execution_count": null,
   "id": "5f01c137",
   "metadata": {},
   "outputs": [],
   "source": []
  }
 ],
 "metadata": {
  "kernelspec": {
   "display_name": "Python 3 (ipykernel)",
   "language": "python",
   "name": "python3"
  },
  "language_info": {
   "codemirror_mode": {
    "name": "ipython",
    "version": 3
   },
   "file_extension": ".py",
   "mimetype": "text/x-python",
   "name": "python",
   "nbconvert_exporter": "python",
   "pygments_lexer": "ipython3",
   "version": "3.9.7"
  }
 },
 "nbformat": 4,
 "nbformat_minor": 5
}
