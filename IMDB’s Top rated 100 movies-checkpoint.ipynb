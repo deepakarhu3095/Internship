{
 "cells": [
  {
   "cell_type": "code",
   "execution_count": 1,
   "id": "c2c94b13",
   "metadata": {},
   "outputs": [
    {
     "name": "stdout",
     "output_type": "stream",
     "text": [
      "Requirement already satisfied: bs4 in c:\\programdata\\anaconda3\\lib\\site-packages (0.0.1)\n",
      "Requirement already satisfied: beautifulsoup4 in c:\\programdata\\anaconda3\\lib\\site-packages (from bs4) (4.10.0)\n",
      "Requirement already satisfied: soupsieve>1.2 in c:\\programdata\\anaconda3\\lib\\site-packages (from beautifulsoup4->bs4) (2.2.1)\n",
      "Requirement already satisfied: requests in c:\\programdata\\anaconda3\\lib\\site-packages (2.26.0)\n",
      "Requirement already satisfied: certifi>=2017.4.17 in c:\\programdata\\anaconda3\\lib\\site-packages (from requests) (2021.10.8)\n",
      "Requirement already satisfied: urllib3<1.27,>=1.21.1 in c:\\programdata\\anaconda3\\lib\\site-packages (from requests) (1.26.7)\n",
      "Requirement already satisfied: charset-normalizer~=2.0.0 in c:\\programdata\\anaconda3\\lib\\site-packages (from requests) (2.0.4)\n",
      "Requirement already satisfied: idna<4,>=2.5 in c:\\programdata\\anaconda3\\lib\\site-packages (from requests) (3.2)\n"
     ]
    }
   ],
   "source": [
    "!pip install bs4\n",
    "!pip install requests"
   ]
  },
  {
   "cell_type": "code",
   "execution_count": 2,
   "id": "602e0b79",
   "metadata": {},
   "outputs": [],
   "source": [
    "from bs4 import BeautifulSoup\n",
    "import requests"
   ]
  },
  {
   "cell_type": "code",
   "execution_count": 3,
   "id": "302e7877",
   "metadata": {},
   "outputs": [
    {
     "data": {
      "text/plain": [
       "(<Response [200]>, <Response [200]>)"
      ]
     },
     "execution_count": 3,
     "metadata": {},
     "output_type": "execute_result"
    }
   ],
   "source": [
    "iMDb = requests.get(\"https://www.imdb.com/search/title/?groups=top_100&sort=user_rating,desc\")\n",
    "iMDb1 = requests.get(\"https://www.imdb.com/search/title/?groups=top_100&sort=user_rating,desc&start=51&ref_=adv_nxt\")\n",
    "iMDb1, iMDb"
   ]
  },
  {
   "cell_type": "code",
   "execution_count": 4,
   "id": "44d9db60",
   "metadata": {},
   "outputs": [],
   "source": [
    "soup1 = BeautifulSoup(iMDb.content,'html.parser')\n",
    "soup2 = BeautifulSoup(iMDb1.content,'html.parser')"
   ]
  },
  {
   "cell_type": "code",
   "execution_count": 5,
   "id": "97f29278",
   "metadata": {},
   "outputs": [],
   "source": [
    "Movie1 = soup1.find_all(['h3'], class_ = \"lister-item-header\")\n",
    "Movie_name = []\n",
    "\n",
    "for i in Movie1:\n",
    "    Movie_name.append(i.text.replace(\"\\n\",\"\"))\n",
    "Movie2 = soup2.find_all(['h3'], class_ = \"lister-item-header\")\n",
    "for i in Movie2:\n",
    "    Movie_name.append(i.text.replace(\"\\n\",\"\"))\n",
    "    \n",
    "Movie_name = [i.split('.')[1] for i in Movie_name]\n",
    "Movie_name = [i.split('(')[0] for i in Movie_name]"
   ]
  },
  {
   "cell_type": "code",
   "execution_count": 6,
   "id": "ea03545e",
   "metadata": {},
   "outputs": [
    {
     "data": {
      "text/plain": [
       "100"
      ]
     },
     "execution_count": 6,
     "metadata": {},
     "output_type": "execute_result"
    }
   ],
   "source": [
    "Rate1 = soup1.find_all(['div'], class_ = \"inline-block ratings-imdb-rating\")\n",
    "Rate2 = soup2.find_all(['div'], class_ = \"inline-block ratings-imdb-rating\")\n",
    "ratings = []\n",
    "\n",
    "for i in Rate1:\n",
    "    ratings.append(i.get_text().replace('\\n',''))\n",
    "for i in Rate2:\n",
    "    ratings.append(i.get_text().replace('\\n',''))    \n",
    "    \n",
    "len(ratings)"
   ]
  },
  {
   "cell_type": "code",
   "execution_count": 8,
   "id": "76464400",
   "metadata": {},
   "outputs": [],
   "source": [
    "y1 = soup1.find_all(['span'], class_ = \"lister-item-year text-muted unbold\")\n",
    "y2 = soup2.find_all(['span'], class_ = \"lister-item-year text-muted unbold\")\n",
    "\n",
    "year = []\n",
    "\n",
    "for i in y1:\n",
    "    year.append(i.text.replace(\"\\n\",\"\"))\n",
    "for i in y2:\n",
    "    year.append(i.text.replace(\"\\n\",\"\"))\n",
    "    \n",
    "year = [i.split('(')[-1] for i in year] \n",
    "year = [i.split(')')[0] for i in year]"
   ]
  },
  {
   "cell_type": "code",
   "execution_count": 9,
   "id": "b958020e",
   "metadata": {},
   "outputs": [],
   "source": [
    "top_100_movies= {\"Name\":Movie_name, \"IMDB_rating\": ratings, \"Year\":year }\n",
    "import pandas as pd\n",
    "IMDB_top_100_movies = pd.DataFrame(top_100_movies)"
   ]
  },
  {
   "cell_type": "code",
   "execution_count": 10,
   "id": "688ccdf0",
   "metadata": {},
   "outputs": [
    {
     "data": {
      "text/html": [
       "<div>\n",
       "<style scoped>\n",
       "    .dataframe tbody tr th:only-of-type {\n",
       "        vertical-align: middle;\n",
       "    }\n",
       "\n",
       "    .dataframe tbody tr th {\n",
       "        vertical-align: top;\n",
       "    }\n",
       "\n",
       "    .dataframe thead th {\n",
       "        text-align: right;\n",
       "    }\n",
       "</style>\n",
       "<table border=\"1\" class=\"dataframe\">\n",
       "  <thead>\n",
       "    <tr style=\"text-align: right;\">\n",
       "      <th></th>\n",
       "      <th>Name</th>\n",
       "      <th>IMDB_rating</th>\n",
       "      <th>Year</th>\n",
       "    </tr>\n",
       "  </thead>\n",
       "  <tbody>\n",
       "    <tr>\n",
       "      <th>0</th>\n",
       "      <td>The Shawshank Redemption</td>\n",
       "      <td>9.3</td>\n",
       "      <td>1994</td>\n",
       "    </tr>\n",
       "    <tr>\n",
       "      <th>1</th>\n",
       "      <td>The Godfather</td>\n",
       "      <td>9.2</td>\n",
       "      <td>1972</td>\n",
       "    </tr>\n",
       "    <tr>\n",
       "      <th>2</th>\n",
       "      <td>The Dark Knight</td>\n",
       "      <td>9.1</td>\n",
       "      <td>2008</td>\n",
       "    </tr>\n",
       "    <tr>\n",
       "      <th>3</th>\n",
       "      <td>The Lord of the Rings: The Return of the King</td>\n",
       "      <td>9.0</td>\n",
       "      <td>2003</td>\n",
       "    </tr>\n",
       "    <tr>\n",
       "      <th>4</th>\n",
       "      <td>Schindler's List</td>\n",
       "      <td>9.0</td>\n",
       "      <td>1993</td>\n",
       "    </tr>\n",
       "    <tr>\n",
       "      <th>...</th>\n",
       "      <td>...</td>\n",
       "      <td>...</td>\n",
       "      <td>...</td>\n",
       "    </tr>\n",
       "    <tr>\n",
       "      <th>95</th>\n",
       "      <td>North by Northwest</td>\n",
       "      <td>8.3</td>\n",
       "      <td>1959</td>\n",
       "    </tr>\n",
       "    <tr>\n",
       "      <th>96</th>\n",
       "      <td>Vertigo</td>\n",
       "      <td>8.3</td>\n",
       "      <td>1958</td>\n",
       "    </tr>\n",
       "    <tr>\n",
       "      <th>97</th>\n",
       "      <td>Singin' in the Rain</td>\n",
       "      <td>8.3</td>\n",
       "      <td>1952</td>\n",
       "    </tr>\n",
       "    <tr>\n",
       "      <th>98</th>\n",
       "      <td>Citizen Kane</td>\n",
       "      <td>8.3</td>\n",
       "      <td>1941</td>\n",
       "    </tr>\n",
       "    <tr>\n",
       "      <th>99</th>\n",
       "      <td>M - Eine Stadt sucht einen Mörder</td>\n",
       "      <td>8.3</td>\n",
       "      <td>1931</td>\n",
       "    </tr>\n",
       "  </tbody>\n",
       "</table>\n",
       "<p>100 rows × 3 columns</p>\n",
       "</div>"
      ],
      "text/plain": [
       "                                             Name IMDB_rating  Year\n",
       "0                        The Shawshank Redemption         9.3  1994\n",
       "1                                   The Godfather         9.2  1972\n",
       "2                                 The Dark Knight         9.1  2008\n",
       "3   The Lord of the Rings: The Return of the King         9.0  2003\n",
       "4                                Schindler's List         9.0  1993\n",
       "..                                            ...         ...   ...\n",
       "95                             North by Northwest         8.3  1959\n",
       "96                                        Vertigo         8.3  1958\n",
       "97                            Singin' in the Rain         8.3  1952\n",
       "98                                   Citizen Kane         8.3  1941\n",
       "99              M - Eine Stadt sucht einen Mörder         8.3  1931\n",
       "\n",
       "[100 rows x 3 columns]"
      ]
     },
     "execution_count": 10,
     "metadata": {},
     "output_type": "execute_result"
    }
   ],
   "source": [
    "IMDB_top_100_movies"
   ]
  },
  {
   "cell_type": "code",
   "execution_count": null,
   "id": "c0222957",
   "metadata": {},
   "outputs": [],
   "source": []
  }
 ],
 "metadata": {
  "kernelspec": {
   "display_name": "Python 3 (ipykernel)",
   "language": "python",
   "name": "python3"
  },
  "language_info": {
   "codemirror_mode": {
    "name": "ipython",
    "version": 3
   },
   "file_extension": ".py",
   "mimetype": "text/x-python",
   "name": "python",
   "nbconvert_exporter": "python",
   "pygments_lexer": "ipython3",
   "version": "3.9.7"
  }
 },
 "nbformat": 4,
 "nbformat_minor": 5
}
