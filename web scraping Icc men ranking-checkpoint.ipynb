{
 "cells": [
  {
   "cell_type": "code",
   "execution_count": 1,
   "id": "1920dbf3",
   "metadata": {},
   "outputs": [
    {
     "name": "stdout",
     "output_type": "stream",
     "text": [
      "Requirement already satisfied: bs4 in c:\\programdata\\anaconda3\\lib\\site-packages (0.0.1)\n",
      "Requirement already satisfied: beautifulsoup4 in c:\\programdata\\anaconda3\\lib\\site-packages (from bs4) (4.10.0)\n",
      "Requirement already satisfied: soupsieve>1.2 in c:\\programdata\\anaconda3\\lib\\site-packages (from beautifulsoup4->bs4) (2.2.1)\n",
      "Requirement already satisfied: requests in c:\\programdata\\anaconda3\\lib\\site-packages (2.26.0)\n",
      "Requirement already satisfied: idna<4,>=2.5 in c:\\programdata\\anaconda3\\lib\\site-packages (from requests) (3.2)\n",
      "Requirement already satisfied: certifi>=2017.4.17 in c:\\programdata\\anaconda3\\lib\\site-packages (from requests) (2021.10.8)\n",
      "Requirement already satisfied: urllib3<1.27,>=1.21.1 in c:\\programdata\\anaconda3\\lib\\site-packages (from requests) (1.26.7)\n",
      "Requirement already satisfied: charset-normalizer~=2.0.0 in c:\\programdata\\anaconda3\\lib\\site-packages (from requests) (2.0.4)\n"
     ]
    }
   ],
   "source": [
    "!pip install bs4\n",
    "!pip install requests"
   ]
  },
  {
   "cell_type": "code",
   "execution_count": 2,
   "id": "6c293c1a",
   "metadata": {},
   "outputs": [],
   "source": [
    "from bs4 import BeautifulSoup\n",
    "import requests"
   ]
  },
  {
   "cell_type": "code",
   "execution_count": 3,
   "id": "a53d40db",
   "metadata": {},
   "outputs": [
    {
     "data": {
      "text/plain": [
       "<Response [200]>"
      ]
     },
     "execution_count": 3,
     "metadata": {},
     "output_type": "execute_result"
    }
   ],
   "source": [
    "ICC = requests.get(\"https://www.icc-cricket.com/rankings/mens/team-rankings/odi\")\n",
    "ICC"
   ]
  },
  {
   "cell_type": "code",
   "execution_count": 4,
   "id": "9ea80063",
   "metadata": {},
   "outputs": [],
   "source": [
    "cric_soup = BeautifulSoup(ICC.content,'html.parser')"
   ]
  },
  {
   "cell_type": "code",
   "execution_count": 5,
   "id": "8a39b3e1",
   "metadata": {},
   "outputs": [
    {
     "data": {
      "text/plain": [
       "['New Zealand',\n",
       " 'England',\n",
       " 'Australia',\n",
       " 'India',\n",
       " 'South Africa',\n",
       " 'Pakistan',\n",
       " 'Bangladesh',\n",
       " 'Sri Lanka',\n",
       " 'West Indies',\n",
       " 'Afghanistan']"
      ]
     },
     "execution_count": 5,
     "metadata": {},
     "output_type": "execute_result"
    }
   ],
   "source": [
    "team = cric_soup.find_all(['span'], class_ = \"u-hide-phablet\")\n",
    "ODI_Team = []\n",
    "\n",
    "for i in team:\n",
    "    ODI_Team.append(i.text.replace(\"\\n\",\"\"))\n",
    "ODI_Team= ODI_Team[:10]\n",
    "ODI_Team"
   ]
  },
  {
   "cell_type": "code",
   "execution_count": 6,
   "id": "9c16dfe8",
   "metadata": {},
   "outputs": [
    {
     "data": {
      "text/plain": [
       "['Team', 'Matches', 'Points', 'Rating']"
      ]
     },
     "execution_count": 6,
     "metadata": {},
     "output_type": "execute_result"
    }
   ],
   "source": [
    "title = cric_soup.find_all(['span'], class_ = \"u-hide-mobile\")\n",
    "Title = []\n",
    "\n",
    "for i in title:\n",
    "    Title.append(i.text.replace(\"\\n\",\"\"))\n",
    "\n",
    "Title"
   ]
  },
  {
   "cell_type": "code",
   "execution_count": 7,
   "id": "bde155fb",
   "metadata": {},
   "outputs": [
    {
     "data": {
      "text/plain": [
       "['17']"
      ]
     },
     "execution_count": 7,
     "metadata": {},
     "output_type": "execute_result"
    }
   ],
   "source": [
    "Mat = cric_soup.find_all(['td'], class_ = \"rankings-block__banner--matches\")\n",
    "Matches= []\n",
    "for i in Mat:\n",
    "    Matches.append(i.text.replace(\"\\n\",\"\"))\n",
    "\n",
    "Matches"
   ]
  },
  {
   "cell_type": "code",
   "execution_count": 8,
   "id": "4b9b5e31",
   "metadata": {},
   "outputs": [
    {
     "data": {
      "text/plain": [
       "['2,054']"
      ]
     },
     "execution_count": 8,
     "metadata": {},
     "output_type": "execute_result"
    }
   ],
   "source": [
    "pts = cric_soup.find_all(['td'], class_ = \"rankings-block__banner--points\")\n",
    "Points= []\n",
    "for i in pts:\n",
    "    Points.append(i.text.replace(\"\\n\",\"\"))\n",
    "\n",
    "Points"
   ]
  },
  {
   "cell_type": "code",
   "execution_count": 9,
   "id": "5133480b",
   "metadata": {},
   "outputs": [
    {
     "data": {
      "text/plain": [
       "['121']"
      ]
     },
     "execution_count": 9,
     "metadata": {},
     "output_type": "execute_result"
    }
   ],
   "source": [
    "rtg = cric_soup.find_all(['td'], class_ = \"rankings-block__banner--rating u-text-right\")\n",
    "Ratings= []\n",
    "for i in rtg:\n",
    "    Ratings.append(i.text.replace(\"\\n\",\"\"))\n",
    "Ratings= [i.split('                            ')[1]for i in Ratings ]   \n",
    "Ratings"
   ]
  },
  {
   "cell_type": "code",
   "execution_count": 10,
   "id": "f632a2a3",
   "metadata": {},
   "outputs": [],
   "source": [
    "stat = cric_soup.find_all(['td'], class_ = \"table-body__cell u-center-text\")\n",
    "Stats = []\n",
    "\n",
    "for i in stat:\n",
    "    Stats.append(i.text.replace(\"\\n\",\"\"))"
   ]
  },
  {
   "cell_type": "code",
   "execution_count": 11,
   "id": "0c1597e1",
   "metadata": {},
   "outputs": [],
   "source": [
    "for i in range(0,len(Stats)):\n",
    "    if i == 0 or  i/2 == i//2:\n",
    "        Matches.append(Stats[i])    \n",
    "    else:\n",
    "        Points.append(Stats[i])\n",
    "Points = Points[:10]\n",
    "Matches= Matches[:10]"
   ]
  },
  {
   "cell_type": "code",
   "execution_count": 12,
   "id": "a7e09c22",
   "metadata": {},
   "outputs": [],
   "source": [
    "rat = cric_soup.find_all(['td'], class_ = \"table-body__cell u-text-right rating\")\n",
    "\n",
    "for i in rat:\n",
    "    Ratings.append(i.text.replace(\"\\n\",\"\"))\n",
    "Ratings= Ratings[:10]"
   ]
  },
  {
   "cell_type": "code",
   "execution_count": 13,
   "id": "bbf3a686",
   "metadata": {},
   "outputs": [],
   "source": [
    "import pandas as pd"
   ]
  },
  {
   "cell_type": "code",
   "execution_count": 14,
   "id": "441c73de",
   "metadata": {},
   "outputs": [],
   "source": [
    "ODI_TOP_10 = pd.DataFrame({Title[0]:ODI_Team, Title[1]:Matches, Title[2]: Points, Title[3]: Ratings})"
   ]
  },
  {
   "cell_type": "code",
   "execution_count": 15,
   "id": "7711bc0a",
   "metadata": {},
   "outputs": [
    {
     "data": {
      "text/html": [
       "<div>\n",
       "<style scoped>\n",
       "    .dataframe tbody tr th:only-of-type {\n",
       "        vertical-align: middle;\n",
       "    }\n",
       "\n",
       "    .dataframe tbody tr th {\n",
       "        vertical-align: top;\n",
       "    }\n",
       "\n",
       "    .dataframe thead th {\n",
       "        text-align: right;\n",
       "    }\n",
       "</style>\n",
       "<table border=\"1\" class=\"dataframe\">\n",
       "  <thead>\n",
       "    <tr style=\"text-align: right;\">\n",
       "      <th></th>\n",
       "      <th>Team</th>\n",
       "      <th>Matches</th>\n",
       "      <th>Points</th>\n",
       "      <th>Rating</th>\n",
       "    </tr>\n",
       "  </thead>\n",
       "  <tbody>\n",
       "    <tr>\n",
       "      <th>0</th>\n",
       "      <td>New Zealand</td>\n",
       "      <td>17</td>\n",
       "      <td>2,054</td>\n",
       "      <td>121</td>\n",
       "    </tr>\n",
       "    <tr>\n",
       "      <th>1</th>\n",
       "      <td>England</td>\n",
       "      <td>32</td>\n",
       "      <td>3,793</td>\n",
       "      <td>119</td>\n",
       "    </tr>\n",
       "    <tr>\n",
       "      <th>2</th>\n",
       "      <td>Australia</td>\n",
       "      <td>28</td>\n",
       "      <td>3,244</td>\n",
       "      <td>116</td>\n",
       "    </tr>\n",
       "    <tr>\n",
       "      <th>3</th>\n",
       "      <td>India</td>\n",
       "      <td>38</td>\n",
       "      <td>4,162</td>\n",
       "      <td>110</td>\n",
       "    </tr>\n",
       "    <tr>\n",
       "      <th>4</th>\n",
       "      <td>South Africa</td>\n",
       "      <td>28</td>\n",
       "      <td>2,943</td>\n",
       "      <td>105</td>\n",
       "    </tr>\n",
       "    <tr>\n",
       "      <th>5</th>\n",
       "      <td>Pakistan</td>\n",
       "      <td>27</td>\n",
       "      <td>2,524</td>\n",
       "      <td>93</td>\n",
       "    </tr>\n",
       "    <tr>\n",
       "      <th>6</th>\n",
       "      <td>Bangladesh</td>\n",
       "      <td>33</td>\n",
       "      <td>2,988</td>\n",
       "      <td>91</td>\n",
       "    </tr>\n",
       "    <tr>\n",
       "      <th>7</th>\n",
       "      <td>Sri Lanka</td>\n",
       "      <td>35</td>\n",
       "      <td>2,835</td>\n",
       "      <td>81</td>\n",
       "    </tr>\n",
       "    <tr>\n",
       "      <th>8</th>\n",
       "      <td>West Indies</td>\n",
       "      <td>36</td>\n",
       "      <td>2,788</td>\n",
       "      <td>77</td>\n",
       "    </tr>\n",
       "    <tr>\n",
       "      <th>9</th>\n",
       "      <td>Afghanistan</td>\n",
       "      <td>23</td>\n",
       "      <td>1,562</td>\n",
       "      <td>68</td>\n",
       "    </tr>\n",
       "  </tbody>\n",
       "</table>\n",
       "</div>"
      ],
      "text/plain": [
       "           Team Matches Points Rating\n",
       "0   New Zealand      17  2,054    121\n",
       "1       England      32  3,793    119\n",
       "2     Australia      28  3,244    116\n",
       "3         India      38  4,162    110\n",
       "4  South Africa      28  2,943    105\n",
       "5      Pakistan      27  2,524     93\n",
       "6    Bangladesh      33  2,988     91\n",
       "7     Sri Lanka      35  2,835     81\n",
       "8   West Indies      36  2,788     77\n",
       "9   Afghanistan      23  1,562     68"
      ]
     },
     "execution_count": 15,
     "metadata": {},
     "output_type": "execute_result"
    }
   ],
   "source": [
    "ODI_TOP_10"
   ]
  },
  {
   "cell_type": "code",
   "execution_count": 16,
   "id": "79631cc2",
   "metadata": {},
   "outputs": [],
   "source": [
    "#top 10 batsman & Bolwer"
   ]
  },
  {
   "cell_type": "code",
   "execution_count": 17,
   "id": "d4cd113b",
   "metadata": {},
   "outputs": [
    {
     "data": {
      "text/plain": [
       "<Response [200]>"
      ]
     },
     "execution_count": 17,
     "metadata": {},
     "output_type": "execute_result"
    }
   ],
   "source": [
    "ICC_bat = requests.get(\"https://www.icc-cricket.com/rankings/mens/player-rankings/odi\")\n",
    "ICC_bat"
   ]
  },
  {
   "cell_type": "code",
   "execution_count": 18,
   "id": "0a717cf5",
   "metadata": {},
   "outputs": [],
   "source": [
    "bat_soup = BeautifulSoup(ICC_bat.content,'html.parser')"
   ]
  },
  {
   "cell_type": "code",
   "execution_count": 19,
   "id": "7d8b0363",
   "metadata": {},
   "outputs": [
    {
     "data": {
      "text/plain": [
       "['Babar Azam',\n",
       " 'Trent Boult',\n",
       " 'Shakib Al Hasan',\n",
       " 'Babar Azam',\n",
       " 'Trent Boult',\n",
       " 'Shakib Al Hasan']"
      ]
     },
     "execution_count": 19,
     "metadata": {},
     "output_type": "execute_result"
    }
   ],
   "source": [
    "nam = bat_soup.find_all(['div'], class_ = \"rankings-block__banner--name\")\n",
    "banner_name = []\n",
    "\n",
    "for i in nam:\n",
    "    banner_name.append(i.text.replace(\"\\n\",\"\"))\n",
    "banner_name"
   ]
  },
  {
   "cell_type": "code",
   "execution_count": 20,
   "id": "154b527b",
   "metadata": {},
   "outputs": [
    {
     "data": {
      "text/plain": [
       "['PAK873', 'NZ737', 'BAN400', 'PAK873', 'NZ737', 'BAN400']"
      ]
     },
     "execution_count": 20,
     "metadata": {},
     "output_type": "execute_result"
    }
   ],
   "source": [
    "nat = bat_soup.find_all(['div'], class_ = \"rankings-block__banner--nationality\")\n",
    "natt = []\n",
    "\n",
    "for i in nat:\n",
    "    natt.append(i.text.replace(\"\\n\",\"\"))\n",
    "natt"
   ]
  },
  {
   "cell_type": "code",
   "execution_count": 21,
   "id": "a1896e23",
   "metadata": {},
   "outputs": [
    {
     "data": {
      "text/plain": [
       "['873', '737', '400', '873', '737', '400']"
      ]
     },
     "execution_count": 21,
     "metadata": {},
     "output_type": "execute_result"
    }
   ],
   "source": [
    "rat = bat_soup.find_all(['div'], class_ = \"rankings-block__banner--rating\")\n",
    "ratt = []\n",
    "\n",
    "for i in rat:\n",
    "    ratt.append(i.text.replace(\"\\n\",\"\"))\n",
    "ratt"
   ]
  },
  {
   "cell_type": "code",
   "execution_count": 22,
   "id": "8353a3c6",
   "metadata": {},
   "outputs": [],
   "source": [
    "Batsman_name=[banner_name[0]]\n",
    "Batsman_nation = [natt[0]]\n",
    "Batsman_Rattings = [ratt[0]]\n",
    "Bowler_name = [banner_name[1]]\n",
    "Bowler_nation = [natt[1]]\n",
    "Bowler_Rattings = [ratt[1]]"
   ]
  },
  {
   "cell_type": "code",
   "execution_count": 23,
   "id": "438f753e",
   "metadata": {},
   "outputs": [
    {
     "data": {
      "text/plain": [
       "['Virat Kohli',\n",
       " 'Rohit Sharma',\n",
       " 'Quinton de Kock',\n",
       " 'Aaron Finch',\n",
       " 'Jonny Bairstow',\n",
       " 'David Warner',\n",
       " 'Rassie van der Dussen',\n",
       " 'Fakhar Zaman',\n",
       " 'Joe Root',\n",
       " 'Josh Hazlewood',\n",
       " 'Chris Woakes',\n",
       " 'Matt Henry',\n",
       " 'Mujeeb Ur Rahman',\n",
       " 'Jasprit Bumrah',\n",
       " 'Mehedi Hasan',\n",
       " 'Mitchell Starc',\n",
       " 'Rashid Khan',\n",
       " 'Andy McBrine']"
      ]
     },
     "execution_count": 23,
     "metadata": {},
     "output_type": "execute_result"
    }
   ],
   "source": [
    "Nam = bat_soup.find_all(['td'], class_ = \"table-body__cell name\")\n",
    "table_names = []\n",
    "for i in Nam:\n",
    "    table_names.append(i.text.replace(\"\\n\",\"\"))\n",
    "table_names = table_names[:18]\n",
    "table_names"
   ]
  },
  {
   "cell_type": "code",
   "execution_count": 24,
   "id": "3fc89fc4",
   "metadata": {},
   "outputs": [
    {
     "data": {
      "text/plain": [
       "['IND',\n",
       " 'IND',\n",
       " 'SA',\n",
       " 'AUS',\n",
       " 'ENG',\n",
       " 'AUS',\n",
       " 'SA',\n",
       " 'PAK',\n",
       " 'ENG',\n",
       " 'AUS',\n",
       " 'ENG',\n",
       " 'NZ',\n",
       " 'AFG',\n",
       " 'IND',\n",
       " 'BAN',\n",
       " 'AUS',\n",
       " 'AFG',\n",
       " 'IRE']"
      ]
     },
     "execution_count": 24,
     "metadata": {},
     "output_type": "execute_result"
    }
   ],
   "source": [
    "nat1 = bat_soup.find_all(['span'], class_ = \"table-body__logo-text\")\n",
    "Nat1 = []\n",
    "for i in nat1:\n",
    "    Nat1.append(i.text.replace(\"\\n\",\"\"))\n",
    "Nat1 = Nat1[:18]\n",
    "Nat1"
   ]
  },
  {
   "cell_type": "code",
   "execution_count": 25,
   "id": "fd2aff22",
   "metadata": {},
   "outputs": [
    {
     "data": {
      "text/plain": [
       "['811',\n",
       " '791',\n",
       " '783',\n",
       " '779',\n",
       " '775',\n",
       " '762',\n",
       " '750',\n",
       " '741',\n",
       " '740',\n",
       " '709',\n",
       " '700',\n",
       " '691',\n",
       " '681',\n",
       " '679',\n",
       " '675',\n",
       " '652',\n",
       " '650',\n",
       " '646']"
      ]
     },
     "execution_count": 25,
     "metadata": {},
     "output_type": "execute_result"
    }
   ],
   "source": [
    "rat1 = bat_soup.find_all(['td'], class_ = \"table-body__cell u-text-right rating\")\n",
    "Rat1 = []\n",
    "for i in rat1:\n",
    "    Rat1.append(i.text.replace(\"\\n\",\"\"))\n",
    "Rat1 = Rat1[:18]\n",
    "Rat1"
   ]
  },
  {
   "cell_type": "code",
   "execution_count": 26,
   "id": "98111458",
   "metadata": {},
   "outputs": [],
   "source": [
    "for i in table_names[0:9]:\n",
    "    Batsman_name.append(i)\n",
    "for i in Nat1[0:9]:\n",
    "    Batsman_nation.append(i)\n",
    "for i in Rat1[0:9]:\n",
    "    Batsman_Rattings.append(i)    \n",
    "for i in table_names[9:18]:\n",
    "    Bowler_name.append(i)\n",
    "for i in Nat1[9:18]:\n",
    "    Bowler_nation.append(i)\n",
    "for i in Rat1[9:18]:\n",
    "    Bowler_Rattings.append(i)  "
   ]
  },
  {
   "cell_type": "code",
   "execution_count": 27,
   "id": "f9ece054",
   "metadata": {},
   "outputs": [],
   "source": [
    "import pandas as pd"
   ]
  },
  {
   "cell_type": "code",
   "execution_count": 28,
   "id": "82941cad",
   "metadata": {},
   "outputs": [],
   "source": [
    "ODI_TOP_10_Batsman = pd.DataFrame({\"Batsman_name\":Batsman_name, \"Batsman_nation\":Batsman_nation, \"Batsman_Rattings\": Batsman_Rattings})\n",
    "ODI_TOP_10_Bowler = pd.DataFrame({\"Bowler_name\":Bowler_name, \"Bowler_nation\":Bowler_nation, \"Bowler_Rattings\": Bowler_Rattings})"
   ]
  },
  {
   "cell_type": "code",
   "execution_count": 29,
   "id": "2fe0e2cb",
   "metadata": {},
   "outputs": [
    {
     "data": {
      "text/html": [
       "<div>\n",
       "<style scoped>\n",
       "    .dataframe tbody tr th:only-of-type {\n",
       "        vertical-align: middle;\n",
       "    }\n",
       "\n",
       "    .dataframe tbody tr th {\n",
       "        vertical-align: top;\n",
       "    }\n",
       "\n",
       "    .dataframe thead th {\n",
       "        text-align: right;\n",
       "    }\n",
       "</style>\n",
       "<table border=\"1\" class=\"dataframe\">\n",
       "  <thead>\n",
       "    <tr style=\"text-align: right;\">\n",
       "      <th></th>\n",
       "      <th>Batsman_name</th>\n",
       "      <th>Batsman_nation</th>\n",
       "      <th>Batsman_Rattings</th>\n",
       "    </tr>\n",
       "  </thead>\n",
       "  <tbody>\n",
       "    <tr>\n",
       "      <th>0</th>\n",
       "      <td>Babar Azam</td>\n",
       "      <td>PAK873</td>\n",
       "      <td>873</td>\n",
       "    </tr>\n",
       "    <tr>\n",
       "      <th>1</th>\n",
       "      <td>Virat Kohli</td>\n",
       "      <td>IND</td>\n",
       "      <td>811</td>\n",
       "    </tr>\n",
       "    <tr>\n",
       "      <th>2</th>\n",
       "      <td>Rohit Sharma</td>\n",
       "      <td>IND</td>\n",
       "      <td>791</td>\n",
       "    </tr>\n",
       "    <tr>\n",
       "      <th>3</th>\n",
       "      <td>Quinton de Kock</td>\n",
       "      <td>SA</td>\n",
       "      <td>783</td>\n",
       "    </tr>\n",
       "    <tr>\n",
       "      <th>4</th>\n",
       "      <td>Aaron Finch</td>\n",
       "      <td>AUS</td>\n",
       "      <td>779</td>\n",
       "    </tr>\n",
       "    <tr>\n",
       "      <th>5</th>\n",
       "      <td>Jonny Bairstow</td>\n",
       "      <td>ENG</td>\n",
       "      <td>775</td>\n",
       "    </tr>\n",
       "    <tr>\n",
       "      <th>6</th>\n",
       "      <td>David Warner</td>\n",
       "      <td>AUS</td>\n",
       "      <td>762</td>\n",
       "    </tr>\n",
       "    <tr>\n",
       "      <th>7</th>\n",
       "      <td>Rassie van der Dussen</td>\n",
       "      <td>SA</td>\n",
       "      <td>750</td>\n",
       "    </tr>\n",
       "    <tr>\n",
       "      <th>8</th>\n",
       "      <td>Fakhar Zaman</td>\n",
       "      <td>PAK</td>\n",
       "      <td>741</td>\n",
       "    </tr>\n",
       "    <tr>\n",
       "      <th>9</th>\n",
       "      <td>Joe Root</td>\n",
       "      <td>ENG</td>\n",
       "      <td>740</td>\n",
       "    </tr>\n",
       "  </tbody>\n",
       "</table>\n",
       "</div>"
      ],
      "text/plain": [
       "            Batsman_name Batsman_nation Batsman_Rattings\n",
       "0             Babar Azam         PAK873              873\n",
       "1            Virat Kohli            IND              811\n",
       "2           Rohit Sharma            IND              791\n",
       "3        Quinton de Kock             SA              783\n",
       "4            Aaron Finch            AUS              779\n",
       "5         Jonny Bairstow            ENG              775\n",
       "6           David Warner            AUS              762\n",
       "7  Rassie van der Dussen             SA              750\n",
       "8           Fakhar Zaman            PAK              741\n",
       "9               Joe Root            ENG              740"
      ]
     },
     "execution_count": 29,
     "metadata": {},
     "output_type": "execute_result"
    }
   ],
   "source": [
    "ODI_TOP_10_Batsman"
   ]
  },
  {
   "cell_type": "code",
   "execution_count": 30,
   "id": "e9ef589a",
   "metadata": {},
   "outputs": [
    {
     "data": {
      "text/html": [
       "<div>\n",
       "<style scoped>\n",
       "    .dataframe tbody tr th:only-of-type {\n",
       "        vertical-align: middle;\n",
       "    }\n",
       "\n",
       "    .dataframe tbody tr th {\n",
       "        vertical-align: top;\n",
       "    }\n",
       "\n",
       "    .dataframe thead th {\n",
       "        text-align: right;\n",
       "    }\n",
       "</style>\n",
       "<table border=\"1\" class=\"dataframe\">\n",
       "  <thead>\n",
       "    <tr style=\"text-align: right;\">\n",
       "      <th></th>\n",
       "      <th>Bowler_name</th>\n",
       "      <th>Bowler_nation</th>\n",
       "      <th>Bowler_Rattings</th>\n",
       "    </tr>\n",
       "  </thead>\n",
       "  <tbody>\n",
       "    <tr>\n",
       "      <th>0</th>\n",
       "      <td>Trent Boult</td>\n",
       "      <td>NZ737</td>\n",
       "      <td>737</td>\n",
       "    </tr>\n",
       "    <tr>\n",
       "      <th>1</th>\n",
       "      <td>Josh Hazlewood</td>\n",
       "      <td>AUS</td>\n",
       "      <td>709</td>\n",
       "    </tr>\n",
       "    <tr>\n",
       "      <th>2</th>\n",
       "      <td>Chris Woakes</td>\n",
       "      <td>ENG</td>\n",
       "      <td>700</td>\n",
       "    </tr>\n",
       "    <tr>\n",
       "      <th>3</th>\n",
       "      <td>Matt Henry</td>\n",
       "      <td>NZ</td>\n",
       "      <td>691</td>\n",
       "    </tr>\n",
       "    <tr>\n",
       "      <th>4</th>\n",
       "      <td>Mujeeb Ur Rahman</td>\n",
       "      <td>AFG</td>\n",
       "      <td>681</td>\n",
       "    </tr>\n",
       "    <tr>\n",
       "      <th>5</th>\n",
       "      <td>Jasprit Bumrah</td>\n",
       "      <td>IND</td>\n",
       "      <td>679</td>\n",
       "    </tr>\n",
       "    <tr>\n",
       "      <th>6</th>\n",
       "      <td>Mehedi Hasan</td>\n",
       "      <td>BAN</td>\n",
       "      <td>675</td>\n",
       "    </tr>\n",
       "    <tr>\n",
       "      <th>7</th>\n",
       "      <td>Mitchell Starc</td>\n",
       "      <td>AUS</td>\n",
       "      <td>652</td>\n",
       "    </tr>\n",
       "    <tr>\n",
       "      <th>8</th>\n",
       "      <td>Rashid Khan</td>\n",
       "      <td>AFG</td>\n",
       "      <td>650</td>\n",
       "    </tr>\n",
       "    <tr>\n",
       "      <th>9</th>\n",
       "      <td>Andy McBrine</td>\n",
       "      <td>IRE</td>\n",
       "      <td>646</td>\n",
       "    </tr>\n",
       "  </tbody>\n",
       "</table>\n",
       "</div>"
      ],
      "text/plain": [
       "        Bowler_name Bowler_nation Bowler_Rattings\n",
       "0       Trent Boult         NZ737             737\n",
       "1    Josh Hazlewood           AUS             709\n",
       "2      Chris Woakes           ENG             700\n",
       "3        Matt Henry            NZ             691\n",
       "4  Mujeeb Ur Rahman           AFG             681\n",
       "5    Jasprit Bumrah           IND             679\n",
       "6      Mehedi Hasan           BAN             675\n",
       "7    Mitchell Starc           AUS             652\n",
       "8       Rashid Khan           AFG             650\n",
       "9      Andy McBrine           IRE             646"
      ]
     },
     "execution_count": 30,
     "metadata": {},
     "output_type": "execute_result"
    }
   ],
   "source": [
    "ODI_TOP_10_Bowler"
   ]
  },
  {
   "cell_type": "code",
   "execution_count": null,
   "id": "0b6cf7b6",
   "metadata": {},
   "outputs": [],
   "source": []
  }
 ],
 "metadata": {
  "kernelspec": {
   "display_name": "Python 3 (ipykernel)",
   "language": "python",
   "name": "python3"
  },
  "language_info": {
   "codemirror_mode": {
    "name": "ipython",
    "version": 3
   },
   "file_extension": ".py",
   "mimetype": "text/x-python",
   "name": "python",
   "nbconvert_exporter": "python",
   "pygments_lexer": "ipython3",
   "version": "3.9.7"
  }
 },
 "nbformat": 4,
 "nbformat_minor": 5
}
