{
 "cells": [
  {
   "cell_type": "markdown",
   "metadata": {},
   "source": [
    "# Ratings Prediction"
   ]
  },
  {
   "cell_type": "markdown",
   "metadata": {},
   "source": [
    ">We have a client who has a website where people write different reviews for technical products. Now they are adding a new feature to their website i.e. The reviewer will have to add stars(rating) as well with the review. The rating is out 5 stars and it only has 5 options available 1 star, 2 stars, 3 stars, 4 stars, 5 stars. Now they want to predict ratings for the reviews which were written in the past and they don't have a rating. So, we have to build an application which can predict the rating by seeing the review."
   ]
  },
  {
   "cell_type": "markdown",
   "metadata": {},
   "source": [
    "#### We will start our Analysis in importing the required libraries"
   ]
  },
  {
   "cell_type": "code",
   "execution_count": 1,
   "metadata": {},
   "outputs": [],
   "source": [
    "import pandas as pd\n",
    "import numpy as np\n",
    "import seaborn as sns\n",
    "import matplotlib.pyplot as plt\n",
    "import warnings\n",
    "warnings.filterwarnings('ignore')"
   ]
  },
  {
   "cell_type": "code",
   "execution_count": 2,
   "metadata": {},
   "outputs": [],
   "source": [
    "import re\n",
    "from nltk.stem import WordNetLemmatizer\n",
    "import nltk\n",
    "from nltk.corpus import  stopwords\n",
    "import string"
   ]
  },
  {
   "cell_type": "markdown",
   "metadata": {},
   "source": [
    "### Exploratory Data Analysis"
   ]
  },
  {
   "cell_type": "markdown",
   "metadata": {},
   "source": [
    "importing the csv file which we have scraped the ratting and review details..."
   ]
  },
  {
   "cell_type": "code",
   "execution_count": 3,
   "metadata": {},
   "outputs": [
    {
     "data": {
      "text/html": [
       "<div>\n",
       "<style scoped>\n",
       "    .dataframe tbody tr th:only-of-type {\n",
       "        vertical-align: middle;\n",
       "    }\n",
       "\n",
       "    .dataframe tbody tr th {\n",
       "        vertical-align: top;\n",
       "    }\n",
       "\n",
       "    .dataframe thead th {\n",
       "        text-align: right;\n",
       "    }\n",
       "</style>\n",
       "<table border=\"1\" class=\"dataframe\">\n",
       "  <thead>\n",
       "    <tr style=\"text-align: right;\">\n",
       "      <th></th>\n",
       "      <th>Rattings</th>\n",
       "      <th>Review</th>\n",
       "    </tr>\n",
       "  </thead>\n",
       "  <tbody>\n",
       "    <tr>\n",
       "      <th>0</th>\n",
       "      <td>4</td>\n",
       "      <td>Received this yesterday (04/03/2021). Prompt d...</td>\n",
       "    </tr>\n",
       "    <tr>\n",
       "      <th>1</th>\n",
       "      <td>1</td>\n",
       "      <td>Different charger was sent in the box by Amazo...</td>\n",
       "    </tr>\n",
       "    <tr>\n",
       "      <th>2</th>\n",
       "      <td>5</td>\n",
       "      <td>Amazing laptop.. I ordered this laptop on its ...</td>\n",
       "    </tr>\n",
       "    <tr>\n",
       "      <th>3</th>\n",
       "      <td>4</td>\n",
       "      <td>As soon as I found 11gen Gen i5 at ~62K I got ...</td>\n",
       "    </tr>\n",
       "    <tr>\n",
       "      <th>4</th>\n",
       "      <td>5</td>\n",
       "      <td>I bought this a few days ago, and I am glad I ...</td>\n",
       "    </tr>\n",
       "    <tr>\n",
       "      <th>...</th>\n",
       "      <td>...</td>\n",
       "      <td>...</td>\n",
       "    </tr>\n",
       "    <tr>\n",
       "      <th>50588</th>\n",
       "      <td>1</td>\n",
       "      <td>I've been using this router for many years. Ti...</td>\n",
       "    </tr>\n",
       "    <tr>\n",
       "      <th>50589</th>\n",
       "      <td>1</td>\n",
       "      <td>GUYS PLEASE PLEASE AVOID THIS ROUTER AT ALL CO...</td>\n",
       "    </tr>\n",
       "    <tr>\n",
       "      <th>50590</th>\n",
       "      <td>5</td>\n",
       "      <td>As others have already said in their reviews, ...</td>\n",
       "    </tr>\n",
       "    <tr>\n",
       "      <th>50591</th>\n",
       "      <td>1</td>\n",
       "      <td>20th Jan 2021 ::  I purchased this router on t...</td>\n",
       "    </tr>\n",
       "    <tr>\n",
       "      <th>50592</th>\n",
       "      <td>1</td>\n",
       "      <td>It was a mistake buying this router. Points to...</td>\n",
       "    </tr>\n",
       "  </tbody>\n",
       "</table>\n",
       "<p>50593 rows × 2 columns</p>\n",
       "</div>"
      ],
      "text/plain": [
       "       Rattings                                             Review\n",
       "0             4  Received this yesterday (04/03/2021). Prompt d...\n",
       "1             1  Different charger was sent in the box by Amazo...\n",
       "2             5  Amazing laptop.. I ordered this laptop on its ...\n",
       "3             4  As soon as I found 11gen Gen i5 at ~62K I got ...\n",
       "4             5  I bought this a few days ago, and I am glad I ...\n",
       "...         ...                                                ...\n",
       "50588         1  I've been using this router for many years. Ti...\n",
       "50589         1  GUYS PLEASE PLEASE AVOID THIS ROUTER AT ALL CO...\n",
       "50590         5  As others have already said in their reviews, ...\n",
       "50591         1  20th Jan 2021 ::  I purchased this router on t...\n",
       "50592         1  It was a mistake buying this router. Points to...\n",
       "\n",
       "[50593 rows x 2 columns]"
      ]
     },
     "execution_count": 3,
     "metadata": {},
     "output_type": "execute_result"
    }
   ],
   "source": [
    "df = pd.read_csv(\"Rattings.csv\")\n",
    "df"
   ]
  },
  {
   "cell_type": "code",
   "execution_count": 4,
   "metadata": {},
   "outputs": [
    {
     "name": "stdout",
     "output_type": "stream",
     "text": [
      "<class 'pandas.core.frame.DataFrame'>\n",
      "RangeIndex: 50593 entries, 0 to 50592\n",
      "Data columns (total 2 columns):\n",
      " #   Column    Non-Null Count  Dtype \n",
      "---  ------    --------------  ----- \n",
      " 0   Rattings  50593 non-null  int64 \n",
      " 1   Review    50588 non-null  object\n",
      "dtypes: int64(1), object(1)\n",
      "memory usage: 790.6+ KB\n"
     ]
    }
   ],
   "source": [
    "df.info()"
   ]
  },
  {
   "cell_type": "code",
   "execution_count": 5,
   "metadata": {},
   "outputs": [
    {
     "data": {
      "text/html": [
       "<div>\n",
       "<style scoped>\n",
       "    .dataframe tbody tr th:only-of-type {\n",
       "        vertical-align: middle;\n",
       "    }\n",
       "\n",
       "    .dataframe tbody tr th {\n",
       "        vertical-align: top;\n",
       "    }\n",
       "\n",
       "    .dataframe thead th {\n",
       "        text-align: right;\n",
       "    }\n",
       "</style>\n",
       "<table border=\"1\" class=\"dataframe\">\n",
       "  <thead>\n",
       "    <tr style=\"text-align: right;\">\n",
       "      <th></th>\n",
       "      <th>Rattings</th>\n",
       "      <th>Review</th>\n",
       "      <th>length</th>\n",
       "    </tr>\n",
       "  </thead>\n",
       "  <tbody>\n",
       "    <tr>\n",
       "      <th>0</th>\n",
       "      <td>4</td>\n",
       "      <td>Received this yesterday (04/03/2021). Prompt d...</td>\n",
       "      <td>1661.0</td>\n",
       "    </tr>\n",
       "    <tr>\n",
       "      <th>1</th>\n",
       "      <td>1</td>\n",
       "      <td>Different charger was sent in the box by Amazo...</td>\n",
       "      <td>349.0</td>\n",
       "    </tr>\n",
       "    <tr>\n",
       "      <th>2</th>\n",
       "      <td>5</td>\n",
       "      <td>Amazing laptop.. I ordered this laptop on its ...</td>\n",
       "      <td>387.0</td>\n",
       "    </tr>\n",
       "    <tr>\n",
       "      <th>3</th>\n",
       "      <td>4</td>\n",
       "      <td>As soon as I found 11gen Gen i5 at ~62K I got ...</td>\n",
       "      <td>2470.0</td>\n",
       "    </tr>\n",
       "    <tr>\n",
       "      <th>4</th>\n",
       "      <td>5</td>\n",
       "      <td>I bought this a few days ago, and I am glad I ...</td>\n",
       "      <td>2465.0</td>\n",
       "    </tr>\n",
       "    <tr>\n",
       "      <th>...</th>\n",
       "      <td>...</td>\n",
       "      <td>...</td>\n",
       "      <td>...</td>\n",
       "    </tr>\n",
       "    <tr>\n",
       "      <th>50588</th>\n",
       "      <td>1</td>\n",
       "      <td>I've been using this router for many years. Ti...</td>\n",
       "      <td>751.0</td>\n",
       "    </tr>\n",
       "    <tr>\n",
       "      <th>50589</th>\n",
       "      <td>1</td>\n",
       "      <td>GUYS PLEASE PLEASE AVOID THIS ROUTER AT ALL CO...</td>\n",
       "      <td>852.0</td>\n",
       "    </tr>\n",
       "    <tr>\n",
       "      <th>50590</th>\n",
       "      <td>5</td>\n",
       "      <td>As others have already said in their reviews, ...</td>\n",
       "      <td>577.0</td>\n",
       "    </tr>\n",
       "    <tr>\n",
       "      <th>50591</th>\n",
       "      <td>1</td>\n",
       "      <td>20th Jan 2021 ::  I purchased this router on t...</td>\n",
       "      <td>493.0</td>\n",
       "    </tr>\n",
       "    <tr>\n",
       "      <th>50592</th>\n",
       "      <td>1</td>\n",
       "      <td>It was a mistake buying this router. Points to...</td>\n",
       "      <td>457.0</td>\n",
       "    </tr>\n",
       "  </tbody>\n",
       "</table>\n",
       "<p>50593 rows × 3 columns</p>\n",
       "</div>"
      ],
      "text/plain": [
       "       Rattings                                             Review  length\n",
       "0             4  Received this yesterday (04/03/2021). Prompt d...  1661.0\n",
       "1             1  Different charger was sent in the box by Amazo...   349.0\n",
       "2             5  Amazing laptop.. I ordered this laptop on its ...   387.0\n",
       "3             4  As soon as I found 11gen Gen i5 at ~62K I got ...  2470.0\n",
       "4             5  I bought this a few days ago, and I am glad I ...  2465.0\n",
       "...         ...                                                ...     ...\n",
       "50588         1  I've been using this router for many years. Ti...   751.0\n",
       "50589         1  GUYS PLEASE PLEASE AVOID THIS ROUTER AT ALL CO...   852.0\n",
       "50590         5  As others have already said in their reviews, ...   577.0\n",
       "50591         1  20th Jan 2021 ::  I purchased this router on t...   493.0\n",
       "50592         1  It was a mistake buying this router. Points to...   457.0\n",
       "\n",
       "[50593 rows x 3 columns]"
      ]
     },
     "execution_count": 5,
     "metadata": {},
     "output_type": "execute_result"
    }
   ],
   "source": [
    "df['length'] = df['Review'].str.len() #we are calculating length of each and every review before cleansing the data.\n",
    "df"
   ]
  },
  {
   "cell_type": "markdown",
   "metadata": {},
   "source": [
    "### Data Cleansing."
   ]
  },
  {
   "cell_type": "code",
   "execution_count": 6,
   "metadata": {},
   "outputs": [],
   "source": [
    "# Convert all messages to lower case\n",
    "df['Review'] = df['Review'].str.lower()"
   ]
  },
  {
   "cell_type": "code",
   "execution_count": 7,
   "metadata": {},
   "outputs": [],
   "source": [
    "# Replace email addresses with 'email'\n",
    "df['Review'] = df['Review'].str.replace(r'^.+@[^\\.].*\\.[a-z]{2,}$','emailaddress')"
   ]
  },
  {
   "cell_type": "code",
   "execution_count": 8,
   "metadata": {},
   "outputs": [],
   "source": [
    "# Replace URLs with 'webaddress'\n",
    "df['Review'] = df['Review'].str.replace(r'^http\\://[a-zA-Z0-9\\-\\.]+\\.[a-zA-Z]{2,3}(/\\S*)?$','webaddress')"
   ]
  },
  {
   "cell_type": "code",
   "execution_count": 9,
   "metadata": {},
   "outputs": [],
   "source": [
    "# Replace money symbols with 'moneysymb' (£ can by typed with ALT key + 156)\n",
    "df['Review'] = df['Review'].str.replace(r'£|\\$', 'dollers')"
   ]
  },
  {
   "cell_type": "code",
   "execution_count": 10,
   "metadata": {},
   "outputs": [],
   "source": [
    "# Replace 10 digit phone numbers (formats include paranthesis, spaces, no spaces, dashes) with 'phonenumber'\n",
    "df['Review'] = df['Review'].str.replace(r'^\\(?[\\d]{3}\\)?[\\s-]?[\\d]{3}[\\s-]?[\\d]{4}$','phonenumber')"
   ]
  },
  {
   "cell_type": "code",
   "execution_count": 11,
   "metadata": {},
   "outputs": [],
   "source": [
    "# Replace numbers with 'numbr'\n",
    "df['Review'] = df['Review'].str.replace(r'\\d+(\\.\\d+)?', 'numbr')"
   ]
  },
  {
   "cell_type": "code",
   "execution_count": 12,
   "metadata": {},
   "outputs": [],
   "source": [
    "df['Review']= df['Review'].astype(str)"
   ]
  },
  {
   "cell_type": "code",
   "execution_count": 13,
   "metadata": {},
   "outputs": [],
   "source": [
    "df['Review'] = df['Review'].apply(lambda x: ' '.join(term for term in x.split() if term not in string.punctuation))"
   ]
  },
  {
   "cell_type": "code",
   "execution_count": 14,
   "metadata": {},
   "outputs": [],
   "source": [
    "stop_words = set(stopwords.words('english') + ['u', 'ü', 'ur', '4', '2', 'im', 'dont', 'doin', 'ure'])\n",
    "df['Review'] = df['Review'].apply(lambda x: ' '.join(\n",
    "    term for term in x.split() if term not in stop_words))"
   ]
  },
  {
   "cell_type": "code",
   "execution_count": 15,
   "metadata": {},
   "outputs": [],
   "source": [
    "lem=WordNetLemmatizer()\n",
    "df['Review'] = df['Review'].apply(lambda x: ' '.join(lem.lemmatize(t) for t in x.split()))"
   ]
  },
  {
   "cell_type": "code",
   "execution_count": 16,
   "metadata": {},
   "outputs": [
    {
     "data": {
      "text/html": [
       "<div>\n",
       "<style scoped>\n",
       "    .dataframe tbody tr th:only-of-type {\n",
       "        vertical-align: middle;\n",
       "    }\n",
       "\n",
       "    .dataframe tbody tr th {\n",
       "        vertical-align: top;\n",
       "    }\n",
       "\n",
       "    .dataframe thead th {\n",
       "        text-align: right;\n",
       "    }\n",
       "</style>\n",
       "<table border=\"1\" class=\"dataframe\">\n",
       "  <thead>\n",
       "    <tr style=\"text-align: right;\">\n",
       "      <th></th>\n",
       "      <th>Rattings</th>\n",
       "      <th>Review</th>\n",
       "      <th>length</th>\n",
       "      <th>clean_length</th>\n",
       "    </tr>\n",
       "  </thead>\n",
       "  <tbody>\n",
       "    <tr>\n",
       "      <th>0</th>\n",
       "      <td>4</td>\n",
       "      <td>received yesterday (numbr/numbr/numbr). prompt...</td>\n",
       "      <td>1661.0</td>\n",
       "      <td>1309</td>\n",
       "    </tr>\n",
       "    <tr>\n",
       "      <th>1</th>\n",
       "      <td>1</td>\n",
       "      <td>different charger sent box amazon ready provid...</td>\n",
       "      <td>349.0</td>\n",
       "      <td>235</td>\n",
       "    </tr>\n",
       "    <tr>\n",
       "      <th>2</th>\n",
       "      <td>5</td>\n",
       "      <td>amazing laptop.. ordered laptop released date ...</td>\n",
       "      <td>387.0</td>\n",
       "      <td>305</td>\n",
       "    </tr>\n",
       "    <tr>\n",
       "      <th>3</th>\n",
       "      <td>4</td>\n",
       "      <td>soon found numbrgen gen inumbr ~numbrk got stu...</td>\n",
       "      <td>2470.0</td>\n",
       "      <td>1864</td>\n",
       "    </tr>\n",
       "    <tr>\n",
       "      <th>4</th>\n",
       "      <td>5</td>\n",
       "      <td>bought day ago, glad decided make purchase. la...</td>\n",
       "      <td>2465.0</td>\n",
       "      <td>1810</td>\n",
       "    </tr>\n",
       "  </tbody>\n",
       "</table>\n",
       "</div>"
      ],
      "text/plain": [
       "   Rattings                                             Review  length  \\\n",
       "0         4  received yesterday (numbr/numbr/numbr). prompt...  1661.0   \n",
       "1         1  different charger sent box amazon ready provid...   349.0   \n",
       "2         5  amazing laptop.. ordered laptop released date ...   387.0   \n",
       "3         4  soon found numbrgen gen inumbr ~numbrk got stu...  2470.0   \n",
       "4         5  bought day ago, glad decided make purchase. la...  2465.0   \n",
       "\n",
       "   clean_length  \n",
       "0          1309  \n",
       "1           235  \n",
       "2           305  \n",
       "3          1864  \n",
       "4          1810  "
      ]
     },
     "execution_count": 16,
     "metadata": {},
     "output_type": "execute_result"
    }
   ],
   "source": [
    "df['clean_length'] = df.Review.str.len() # checking the length of the words post cleaning.\n",
    "df.head()"
   ]
  },
  {
   "cell_type": "code",
   "execution_count": 17,
   "metadata": {},
   "outputs": [
    {
     "name": "stdout",
     "output_type": "stream",
     "text": [
      "Origian Length 18423780.0\n",
      "Clean Length 13286613\n"
     ]
    }
   ],
   "source": [
    "print ('Origian Length', df.length.sum())\n",
    "print ('Clean Length', df.clean_length.sum())"
   ]
  },
  {
   "cell_type": "markdown",
   "metadata": {},
   "source": [
    "### From above we can see that we have cleaned our reviews."
   ]
  },
  {
   "cell_type": "code",
   "execution_count": 18,
   "metadata": {},
   "outputs": [],
   "source": [
    "labels = df.Rattings\n",
    "Text = df.Review"
   ]
  },
  {
   "cell_type": "markdown",
   "metadata": {},
   "source": [
    "### Preprocessing"
   ]
  },
  {
   "cell_type": "code",
   "execution_count": 19,
   "metadata": {},
   "outputs": [],
   "source": [
    "from sklearn.feature_extraction.text import CountVectorizer\n",
    "\n",
    "cv = CountVectorizer(binary = True)\n",
    "cv.fit(Text)\n",
    "x = cv.transform(Text)\n"
   ]
  },
  {
   "cell_type": "code",
   "execution_count": 20,
   "metadata": {},
   "outputs": [
    {
     "data": {
      "text/plain": [
       "<50593x35810 sparse matrix of type '<class 'numpy.int64'>'\n",
       "\twith 1545906 stored elements in Compressed Sparse Row format>"
      ]
     },
     "execution_count": 20,
     "metadata": {},
     "output_type": "execute_result"
    }
   ],
   "source": [
    "x"
   ]
  },
  {
   "cell_type": "code",
   "execution_count": 21,
   "metadata": {},
   "outputs": [],
   "source": [
    "y = labels"
   ]
  },
  {
   "cell_type": "markdown",
   "metadata": {},
   "source": [
    "# Selecting parameters for training"
   ]
  },
  {
   "cell_type": "code",
   "execution_count": 22,
   "metadata": {},
   "outputs": [
    {
     "name": "stdout",
     "output_type": "stream",
     "text": [
      "Best Accuracy 74.6699343821646 found on randomstate 429\n"
     ]
    }
   ],
   "source": [
    "from sklearn.linear_model import LogisticRegression\n",
    "from sklearn.metrics import accuracy_score, confusion_matrix, classification_report\n",
    "from sklearn.model_selection import train_test_split\n",
    "\n",
    "accu = 0\n",
    "for i in range(0,500):\n",
    "    x_train, x_test, y_train, y_test = train_test_split(x,y,test_size = .25, random_state = i)\n",
    "    mod = LogisticRegression()\n",
    "    mod.fit(x_train,y_train)\n",
    "    y_pred = mod.predict(x_test)\n",
    "    acc = accuracy_score(y_test,y_pred)\n",
    "    if acc> accu:\n",
    "        accu= acc\n",
    "        best_rstate=i\n",
    "\n",
    "print(f\"Best Accuracy {accu*100} found on randomstate {best_rstate}\")"
   ]
  },
  {
   "cell_type": "code",
   "execution_count": 23,
   "metadata": {},
   "outputs": [],
   "source": [
    "x_train, x_test, y_train, y_test = train_test_split(x,y,test_size = .25, random_state = best_rstate)"
   ]
  },
  {
   "cell_type": "markdown",
   "metadata": {},
   "source": [
    "### Selecting the Best model for Training \n"
   ]
  },
  {
   "cell_type": "code",
   "execution_count": 24,
   "metadata": {},
   "outputs": [],
   "source": [
    "from sklearn.model_selection import train_test_split, GridSearchCV\n",
    "from sklearn.linear_model import LogisticRegression\n",
    "from sklearn.naive_bayes import GaussianNB\n",
    "from sklearn.model_selection import RandomizedSearchCV, cross_val_score, cross_validate, cross_val_predict\n",
    "from sklearn.linear_model import SGDClassifier\n",
    "from sklearn.neighbors import KNeighborsClassifier\n",
    "from sklearn.ensemble import RandomForestClassifier, AdaBoostClassifier, GradientBoostingClassifier \n",
    "from sklearn.tree import DecisionTreeClassifier, ExtraTreeClassifier\n",
    "from sklearn import metrics\n",
    "import xgboost as xgb\n",
    "\n",
    "import warnings\n",
    "warnings.filterwarnings('ignore')"
   ]
  },
  {
   "cell_type": "code",
   "execution_count": 25,
   "metadata": {},
   "outputs": [],
   "source": [
    "def sort_mod(estimator, x_train, y_train, cv=5, verbose=True):\n",
    "   \n",
    "    scoring = {\"accuracy\": \"accuracy\",\n",
    "               \"precision\": \"precision_weighted\",\n",
    "               \"recall\": \"recall_weighted\",\n",
    "               \"f1\": \"f1_weighted\"}\n",
    "    scores = cross_validate(estimator, x_train, y_train, cv=cv, scoring=scoring)\n",
    "    accuracy, accuracy_std = scores['test_accuracy'].mean(),scores['test_accuracy'].std()\n",
    "    precision, precision_std = scores['test_precision'].mean(),scores['test_precision'].std()\n",
    "    recall, recall_std = scores['test_recall'].mean(),scores['test_recall'].std()\n",
    "    f1, f1_std = scores['test_f1'].mean(),scores['test_f1'].std()\n",
    "\n",
    "    \n",
    "    ScoRes = {\"Accuracy\": accuracy,\"Accuracy std\": accuracy_std,\"Precision\": precision,\"Precision std\": precision_std,\n",
    "              \"Recall\": recall,\"Recall std\": recall_std,\"f1\": f1,\"f1 std\": f1_std,}\n",
    "    \n",
    "    if verbose:\n",
    "        print(f\"Accuracy: {accuracy} - (std: {accuracy_std})\")\n",
    "        print(f\"Precision: {precision} - (std: {precision_std})\")\n",
    "        print(f\"Recall: {recall} - (std: {recall_std})\")\n",
    "        print(f\"f1: {f1} - (std: {f1_std})\")\n",
    "\n",
    "    return ScoRes\n",
    "\n"
   ]
  },
  {
   "cell_type": "code",
   "execution_count": 26,
   "metadata": {},
   "outputs": [],
   "source": [
    "models = [LogisticRegression(), GaussianNB(), RandomForestClassifier(random_state=42),\n",
    "          DecisionTreeClassifier(random_state=42), ExtraTreeClassifier(random_state=42), \n",
    "          AdaBoostClassifier(random_state=42), GradientBoostingClassifier(random_state=42), \n",
    "          xgb.XGBClassifier()]\n",
    "\n",
    "model_names = [\"LogisticRegression\", \"Naive Bayes Gaussian\", \"Random Forest\",\n",
    "               \"Decision Tree\", \"Extra Tree\", \"Ada Boost\", \n",
    "               \"Gradient Boosting\", \"XGBoost\"]"
   ]
  },
  {
   "cell_type": "code",
   "execution_count": 27,
   "metadata": {},
   "outputs": [
    {
     "name": "stdout",
     "output_type": "stream",
     "text": [
      "\n",
      "\n",
      "Step 1 of 8\n",
      "....................................................................running LogisticRegression\n",
      "Accuracy: 0.7212469765738261 - (std: 0.003019479773438068)\n",
      "Precision: 0.704190880110363 - (std: 0.0036936405816000283)\n",
      "Recall: 0.7212469765738261 - (std: 0.003019479773438068)\n",
      "f1: 0.7054719672955847 - (std: 0.0037912000078112276)\n",
      "\n",
      "\n",
      "Step 2 of 8\n",
      "....................................................................running Naive Bayes Gaussian\n",
      "Accuracy: nan - (std: nan)\n",
      "Precision: nan - (std: nan)\n",
      "Recall: nan - (std: nan)\n",
      "f1: nan - (std: nan)\n",
      "\n",
      "\n",
      "Step 3 of 8\n",
      "....................................................................running Random Forest\n",
      "Accuracy: 0.7504480481244773 - (std: 0.0023980365427690173)\n",
      "Precision: 0.7822042131417806 - (std: 0.0038732413078649175)\n",
      "Recall: 0.7504480481244773 - (std: 0.0023980365427690173)\n",
      "f1: 0.7239172417245429 - (std: 0.0035705055371792484)\n",
      "\n",
      "\n",
      "Step 4 of 8\n",
      "....................................................................running Decision Tree\n",
      "Accuracy: 0.6875658787553748 - (std: 0.0026611791362424852)\n",
      "Precision: 0.6790763929844937 - (std: 0.0034846626365807364)\n",
      "Recall: 0.6875658787553748 - (std: 0.0026611791362424852)\n",
      "f1: 0.6819445107373757 - (std: 0.003339670292341158)\n",
      "\n",
      "\n",
      "Step 5 of 8\n",
      "....................................................................running Extra Tree\n",
      "Accuracy: 0.65720526886951 - (std: 0.004172886576157442)\n",
      "Precision: 0.6495852639848972 - (std: 0.004301714788812812)\n",
      "Recall: 0.65720526886951 - (std: 0.004172886576157442)\n",
      "f1: 0.6524355386063394 - (std: 0.004233471248664556)\n",
      "\n",
      "\n",
      "Step 6 of 8\n",
      "....................................................................running Ada Boost\n",
      "Accuracy: 0.5793801136720024 - (std: 0.003035879553252977)\n",
      "Precision: 0.5047201538412595 - (std: 0.0038767493108065264)\n",
      "Recall: 0.5793801136720024 - (std: 0.003035879553252977)\n",
      "f1: 0.4925233604534739 - (std: 0.0023310239317196058)\n",
      "\n",
      "\n",
      "Step 7 of 8\n",
      "....................................................................running Gradient Boosting\n",
      "Accuracy: 0.621942757923146 - (std: 0.0026202223805581503)\n",
      "Precision: 0.6410398799280348 - (std: 0.006479500437654824)\n",
      "Recall: 0.621942757923146 - (std: 0.0026202223805581503)\n",
      "f1: 0.5494875679878126 - (std: 0.003067718413316169)\n",
      "\n",
      "\n",
      "Step 8 of 8\n",
      "....................................................................running XGBoost\n",
      "[19:00:56] WARNING: C:/Users/Administrator/workspace/xgboost-win64_release_1.3.0/src/learner.cc:1061: Starting in XGBoost 1.3.0, the default evaluation metric used with the objective 'multi:softprob' was changed from 'merror' to 'mlogloss'. Explicitly set eval_metric if you'd like to restore the old behavior.\n",
      "[19:01:10] WARNING: C:/Users/Administrator/workspace/xgboost-win64_release_1.3.0/src/learner.cc:1061: Starting in XGBoost 1.3.0, the default evaluation metric used with the objective 'multi:softprob' was changed from 'merror' to 'mlogloss'. Explicitly set eval_metric if you'd like to restore the old behavior.\n",
      "[19:01:24] WARNING: C:/Users/Administrator/workspace/xgboost-win64_release_1.3.0/src/learner.cc:1061: Starting in XGBoost 1.3.0, the default evaluation metric used with the objective 'multi:softprob' was changed from 'merror' to 'mlogloss'. Explicitly set eval_metric if you'd like to restore the old behavior.\n",
      "[19:01:39] WARNING: C:/Users/Administrator/workspace/xgboost-win64_release_1.3.0/src/learner.cc:1061: Starting in XGBoost 1.3.0, the default evaluation metric used with the objective 'multi:softprob' was changed from 'merror' to 'mlogloss'. Explicitly set eval_metric if you'd like to restore the old behavior.\n",
      "[19:01:55] WARNING: C:/Users/Administrator/workspace/xgboost-win64_release_1.3.0/src/learner.cc:1061: Starting in XGBoost 1.3.0, the default evaluation metric used with the objective 'multi:softprob' was changed from 'merror' to 'mlogloss'. Explicitly set eval_metric if you'd like to restore the old behavior.\n",
      "Accuracy: 0.692520619660576 - (std: 0.003628835786134668)\n",
      "Precision: 0.6952574092910749 - (std: 0.004513291495577089)\n",
      "Recall: 0.692520619660576 - (std: 0.003628835786134668)\n",
      "f1: 0.6507172001819156 - (std: 0.003977567838671098)\n"
     ]
    }
   ],
   "source": [
    "accuracy = []\n",
    "precision = []\n",
    "recall = []\n",
    "f1 = []\n",
    "\n",
    "for model in range(len(models)):\n",
    "    print(f\"\\n\\nStep {model+1} of {len(models)}\")\n",
    "    print(f\"....................................................................running {model_names[model]}\")\n",
    "    \n",
    "    clf_scores = sort_mod(models[model], x_train, y_train)\n",
    "    \n",
    "    accuracy.append(clf_scores[\"Accuracy\"])\n",
    "    precision.append(clf_scores[\"Precision\"])\n",
    "    recall.append(clf_scores[\"Recall\"])\n",
    "    f1.append(clf_scores[\"f1\"])\n"
   ]
  },
  {
   "cell_type": "code",
   "execution_count": 28,
   "metadata": {},
   "outputs": [
    {
     "data": {
      "text/html": [
       "<div>\n",
       "<style scoped>\n",
       "    .dataframe tbody tr th:only-of-type {\n",
       "        vertical-align: middle;\n",
       "    }\n",
       "\n",
       "    .dataframe tbody tr th {\n",
       "        vertical-align: top;\n",
       "    }\n",
       "\n",
       "    .dataframe thead th {\n",
       "        text-align: right;\n",
       "    }\n",
       "</style>\n",
       "<table border=\"1\" class=\"dataframe\">\n",
       "  <thead>\n",
       "    <tr style=\"text-align: right;\">\n",
       "      <th></th>\n",
       "      <th>Model</th>\n",
       "      <th>accuracy</th>\n",
       "      <th>precision</th>\n",
       "      <th>recall</th>\n",
       "      <th>f1</th>\n",
       "    </tr>\n",
       "  </thead>\n",
       "  <tbody>\n",
       "    <tr>\n",
       "      <th>2</th>\n",
       "      <td>Random Forest</td>\n",
       "      <td>0.750448</td>\n",
       "      <td>0.782204</td>\n",
       "      <td>0.750448</td>\n",
       "      <td>0.723917</td>\n",
       "    </tr>\n",
       "    <tr>\n",
       "      <th>0</th>\n",
       "      <td>LogisticRegression</td>\n",
       "      <td>0.721247</td>\n",
       "      <td>0.704191</td>\n",
       "      <td>0.721247</td>\n",
       "      <td>0.705472</td>\n",
       "    </tr>\n",
       "    <tr>\n",
       "      <th>3</th>\n",
       "      <td>Decision Tree</td>\n",
       "      <td>0.687566</td>\n",
       "      <td>0.679076</td>\n",
       "      <td>0.687566</td>\n",
       "      <td>0.681945</td>\n",
       "    </tr>\n",
       "    <tr>\n",
       "      <th>4</th>\n",
       "      <td>Extra Tree</td>\n",
       "      <td>0.657205</td>\n",
       "      <td>0.649585</td>\n",
       "      <td>0.657205</td>\n",
       "      <td>0.652436</td>\n",
       "    </tr>\n",
       "    <tr>\n",
       "      <th>7</th>\n",
       "      <td>XGBoost</td>\n",
       "      <td>0.692521</td>\n",
       "      <td>0.695257</td>\n",
       "      <td>0.692521</td>\n",
       "      <td>0.650717</td>\n",
       "    </tr>\n",
       "    <tr>\n",
       "      <th>6</th>\n",
       "      <td>Gradient Boosting</td>\n",
       "      <td>0.621943</td>\n",
       "      <td>0.641040</td>\n",
       "      <td>0.621943</td>\n",
       "      <td>0.549488</td>\n",
       "    </tr>\n",
       "    <tr>\n",
       "      <th>5</th>\n",
       "      <td>Ada Boost</td>\n",
       "      <td>0.579380</td>\n",
       "      <td>0.504720</td>\n",
       "      <td>0.579380</td>\n",
       "      <td>0.492523</td>\n",
       "    </tr>\n",
       "    <tr>\n",
       "      <th>1</th>\n",
       "      <td>Naive Bayes Gaussian</td>\n",
       "      <td>NaN</td>\n",
       "      <td>NaN</td>\n",
       "      <td>NaN</td>\n",
       "      <td>NaN</td>\n",
       "    </tr>\n",
       "  </tbody>\n",
       "</table>\n",
       "</div>"
      ],
      "text/plain": [
       "                  Model  accuracy  precision    recall        f1\n",
       "2         Random Forest  0.750448   0.782204  0.750448  0.723917\n",
       "0    LogisticRegression  0.721247   0.704191  0.721247  0.705472\n",
       "3         Decision Tree  0.687566   0.679076  0.687566  0.681945\n",
       "4            Extra Tree  0.657205   0.649585  0.657205  0.652436\n",
       "7               XGBoost  0.692521   0.695257  0.692521  0.650717\n",
       "6     Gradient Boosting  0.621943   0.641040  0.621943  0.549488\n",
       "5             Ada Boost  0.579380   0.504720  0.579380  0.492523\n",
       "1  Naive Bayes Gaussian       NaN        NaN       NaN       NaN"
      ]
     },
     "execution_count": 28,
     "metadata": {},
     "output_type": "execute_result"
    }
   ],
   "source": [
    "df_result = pd.DataFrame({\"Model\": model_names,\n",
    "                          \"accuracy\": accuracy,\n",
    "                          \"precision\": precision,\n",
    "                          \"recall\": recall,\n",
    "                          \"f1\": f1})\n",
    "df_result.sort_values(by=\"f1\", ascending=False)"
   ]
  },
  {
   "cell_type": "code",
   "execution_count": 29,
   "metadata": {},
   "outputs": [
    {
     "data": {
      "image/png": "[encoded data removed]",
      "text/plain": [
       "<Figure size 432x288 with 1 Axes>"
      ]
     },
     "metadata": {
      "needs_background": "light"
     },
     "output_type": "display_data"
    },
    {
     "data": {
      "image/png": "[encoded data removed]",
      "text/plain": [
       "<Figure size 432x288 with 1 Axes>"
      ]
     },
     "metadata": {
      "needs_background": "light"
     },
     "output_type": "display_data"
    },
    {
     "data": {
      "image/png": "[encoded data removed]",
      "text/plain": [
       "<Figure size 432x288 with 1 Axes>"
      ]
     },
     "metadata": {
      "needs_background": "light"
     },
     "output_type": "display_data"
    },
    {
     "data": {
      "image/png": "[encoded data removed]",
      "text/plain": [
       "<Figure size 432x288 with 1 Axes>"
      ]
     },
     "metadata": {
      "needs_background": "light"
     },
     "output_type": "display_data"
    }
   ],
   "source": [
    "metrics_list = [\"f1\", \"accuracy\", \"precision\", \"recall\"]\n",
    "\n",
    "for metric in metrics_list:\n",
    "    df_result.sort_values(by=metric).plot.bar(\"Model\", metric, color = 'blue')\n",
    "    plt.title(f\"Model by {metric}\")\n",
    "    plt.show()"
   ]
  },
  {
   "cell_type": "markdown",
   "metadata": {},
   "source": [
    "### Since Random Forest tops the chart with the following metrics we will Hyper tune Random Forest to get better results.\n",
    "     \n",
    "        Random Forest\n",
    "    1. accuracy  = 0.750448\n",
    "    2. precision = 0.782204\n",
    "    3. recall    = 0.750448       \n",
    "    4. f1        = 0.723917"
   ]
  },
  {
   "cell_type": "code",
   "execution_count": 30,
   "metadata": {},
   "outputs": [],
   "source": [
    "from sklearn.metrics import roc_curve\n",
    "import matplotlib.pyplot as plt\n",
    "from sklearn.metrics import roc_auc_score"
   ]
  },
  {
   "cell_type": "code",
   "execution_count": 31,
   "metadata": {},
   "outputs": [
    {
     "data": {
      "text/plain": [
       "RandomForestClassifier(random_state=42)"
      ]
     },
     "execution_count": 31,
     "metadata": {},
     "output_type": "execute_result"
    }
   ],
   "source": [
    "clf_rf =  RandomForestClassifier(random_state=42)\n",
    "clf_rf.fit(x_train,y_train)"
   ]
  },
  {
   "cell_type": "code",
   "execution_count": 32,
   "metadata": {},
   "outputs": [
    {
     "data": {
      "text/plain": [
       "array([[0.45, 0.09, 0.09, 0.12, 0.25],\n",
       "       [0.06, 0.02, 0.7 , 0.07, 0.15],\n",
       "       [0.03, 0.04, 0.02, 0.14, 0.77],\n",
       "       ...,\n",
       "       [0.15, 0.03, 0.07, 0.11, 0.64],\n",
       "       [0.07, 0.04, 0.  , 0.18, 0.71],\n",
       "       [0.16, 0.11, 0.13, 0.32, 0.28]])"
      ]
     },
     "execution_count": 32,
     "metadata": {},
     "output_type": "execute_result"
    }
   ],
   "source": [
    "y_pred_prob=clf_rf.predict_proba(x_test)\n",
    "y_pred_prob"
   ]
  },
  {
   "cell_type": "code",
   "execution_count": 33,
   "metadata": {},
   "outputs": [],
   "source": [
    "fpr = {}\n",
    "tpr = {}\n",
    "thresh ={}\n",
    "\n",
    "n_class = 5\n",
    "\n",
    "for i in range(n_class):    \n",
    "    fpr[i], tpr[i], thresh[i] = roc_curve(y_test, y_pred_prob[:,i], pos_label=i)"
   ]
  },
  {
   "cell_type": "code",
   "execution_count": 34,
   "metadata": {},
   "outputs": [
    {
     "data": {
      "image/png": "[encoded data removed]",
      "text/plain": [
       "<Figure size 432x288 with 1 Axes>"
      ]
     },
     "metadata": {
      "needs_background": "light"
     },
     "output_type": "display_data"
    }
   ],
   "source": [
    "plt.plot(fpr[0], tpr[0], linestyle='--',color='red', label='Class 0 vs Rest')\n",
    "plt.plot(fpr[1], tpr[1], linestyle='--',color='green', label='Class 1 vs Rest')\n",
    "plt.plot(fpr[2], tpr[2], linestyle='--',color='blue', label='Class 2 vs Rest')\n",
    "plt.plot(fpr[3], tpr[3], linestyle='--',color='yellow', label='Class 3 vs Rest')\n",
    "plt.plot(fpr[4], tpr[4], linestyle='--',color='black', label='Class 4 vs Rest')\n",
    "\n",
    "plt.title('Multiclass ROC curve-XGB')\n",
    "plt.xlabel('False Positive Rate')\n",
    "plt.ylabel('True Positive rate')\n",
    "plt.plot([0,1],[0,1],'k--')\n",
    "plt.show()"
   ]
  },
  {
   "cell_type": "code",
   "execution_count": 35,
   "metadata": {},
   "outputs": [
    {
     "data": {
      "text/plain": [
       "{'bootstrap': True,\n",
       " 'ccp_alpha': 0.0,\n",
       " 'class_weight': None,\n",
       " 'criterion': 'gini',\n",
       " 'max_depth': None,\n",
       " 'max_features': 'auto',\n",
       " 'max_leaf_nodes': None,\n",
       " 'max_samples': None,\n",
       " 'min_impurity_decrease': 0.0,\n",
       " 'min_impurity_split': None,\n",
       " 'min_samples_leaf': 1,\n",
       " 'min_samples_split': 2,\n",
       " 'min_weight_fraction_leaf': 0.0,\n",
       " 'n_estimators': 100,\n",
       " 'n_jobs': None,\n",
       " 'oob_score': False,\n",
       " 'random_state': 42,\n",
       " 'verbose': 0,\n",
       " 'warm_start': False}"
      ]
     },
     "execution_count": 35,
     "metadata": {},
     "output_type": "execute_result"
    }
   ],
   "source": [
    "clf_rf.get_params()"
   ]
  },
  {
   "cell_type": "code",
   "execution_count": 36,
   "metadata": {},
   "outputs": [
    {
     "data": {
      "text/html": [
       "<div>\n",
       "<style scoped>\n",
       "    .dataframe tbody tr th:only-of-type {\n",
       "        vertical-align: middle;\n",
       "    }\n",
       "\n",
       "    .dataframe tbody tr th {\n",
       "        vertical-align: top;\n",
       "    }\n",
       "\n",
       "    .dataframe thead th {\n",
       "        text-align: right;\n",
       "    }\n",
       "</style>\n",
       "<table border=\"1\" class=\"dataframe\">\n",
       "  <thead>\n",
       "    <tr style=\"text-align: right;\">\n",
       "      <th>Predicted</th>\n",
       "      <th>1</th>\n",
       "      <th>2</th>\n",
       "      <th>3</th>\n",
       "      <th>4</th>\n",
       "      <th>5</th>\n",
       "    </tr>\n",
       "    <tr>\n",
       "      <th>Real</th>\n",
       "      <th></th>\n",
       "      <th></th>\n",
       "      <th></th>\n",
       "      <th></th>\n",
       "      <th></th>\n",
       "    </tr>\n",
       "  </thead>\n",
       "  <tbody>\n",
       "    <tr>\n",
       "      <th>1</th>\n",
       "      <td>8418</td>\n",
       "      <td>13</td>\n",
       "      <td>33</td>\n",
       "      <td>55</td>\n",
       "      <td>972</td>\n",
       "    </tr>\n",
       "    <tr>\n",
       "      <th>2</th>\n",
       "      <td>785</td>\n",
       "      <td>903</td>\n",
       "      <td>13</td>\n",
       "      <td>44</td>\n",
       "      <td>531</td>\n",
       "    </tr>\n",
       "    <tr>\n",
       "      <th>3</th>\n",
       "      <td>718</td>\n",
       "      <td>5</td>\n",
       "      <td>1239</td>\n",
       "      <td>119</td>\n",
       "      <td>1348</td>\n",
       "    </tr>\n",
       "    <tr>\n",
       "      <th>4</th>\n",
       "      <td>453</td>\n",
       "      <td>9</td>\n",
       "      <td>29</td>\n",
       "      <td>2461</td>\n",
       "      <td>3574</td>\n",
       "    </tr>\n",
       "    <tr>\n",
       "      <th>5</th>\n",
       "      <td>499</td>\n",
       "      <td>9</td>\n",
       "      <td>26</td>\n",
       "      <td>234</td>\n",
       "      <td>15454</td>\n",
       "    </tr>\n",
       "  </tbody>\n",
       "</table>\n",
       "</div>"
      ],
      "text/plain": [
       "Predicted     1    2     3     4      5\n",
       "Real                                   \n",
       "1          8418   13    33    55    972\n",
       "2           785  903    13    44    531\n",
       "3           718    5  1239   119   1348\n",
       "4           453    9    29  2461   3574\n",
       "5           499    9    26   234  15454"
      ]
     },
     "execution_count": 36,
     "metadata": {},
     "output_type": "execute_result"
    }
   ],
   "source": [
    "preds = cross_val_predict(clf_rf, x_train, y_train, cv=5, n_jobs=-1)\n",
    "pd.crosstab(y_train, preds, rownames = ['Real'], colnames =['Predicted'])"
   ]
  },
  {
   "cell_type": "code",
   "execution_count": 37,
   "metadata": {},
   "outputs": [
    {
     "name": "stdout",
     "output_type": "stream",
     "text": [
      "              precision    recall  f1-score   support\n",
      "\n",
      "           1       0.77      0.89      0.83      9491\n",
      "           2       0.96      0.40      0.56      2276\n",
      "           3       0.92      0.36      0.52      3429\n",
      "           4       0.84      0.38      0.52      6526\n",
      "           5       0.71      0.95      0.81     16222\n",
      "\n",
      "    accuracy                           0.75     37944\n",
      "   macro avg       0.84      0.59      0.65     37944\n",
      "weighted avg       0.78      0.75      0.72     37944\n",
      "\n"
     ]
    }
   ],
   "source": [
    "print(metrics.classification_report(y_train, preds, zero_division=0))"
   ]
  },
  {
   "cell_type": "markdown",
   "metadata": {},
   "source": [
    "### HYPERPARAMETER TUNING...."
   ]
  },
  {
   "cell_type": "code",
   "execution_count": 38,
   "metadata": {},
   "outputs": [],
   "source": [
    "param_grid = [\n",
    "    {\"n_estimators\": range(20, 200, 20), \n",
    "     \"bootstrap\": [True, False],\n",
    "     \"criterion\": [\"gini\", \"entropy\"],   \n",
    "     \"max_depth\": [2, 4, 6, 8, 10, 12, 14, None],\n",
    "     \"max_features\": [\"auto\", \"sqrt\", \"log2\"], \n",
    "     \"min_samples_split\": [2, 5, 10],\n",
    "     \"min_samples_leaf\": [1, 2, 4],\n",
    "     }\n",
    "]\n",
    "\n",
    "clf_rf = RandomForestClassifier(random_state=42, n_jobs=-1)"
   ]
  },
  {
   "cell_type": "code",
   "execution_count": 39,
   "metadata": {},
   "outputs": [],
   "source": [
    "clf_random = GridSearchCV(clf_rf, param_grid, cv=3,\n",
    "                           scoring=\"f1_weighted\", verbose=2, n_jobs=-1)"
   ]
  },
  {
   "cell_type": "code",
   "execution_count": 41,
   "metadata": {
    "scrolled": false
   },
   "outputs": [
    {
     "name": "stdout",
     "output_type": "stream",
     "text": [
      "Fitting 3 folds for each of 7776 candidates, totalling 23328 fits\n"
     ]
    },
    {
     "name": "stderr",
     "output_type": "stream",
     "text": [
      "[Parallel(n_jobs=-1)]: Using backend LokyBackend with 4 concurrent workers.\n",
      "[Parallel(n_jobs=-1)]: Done  33 tasks      | elapsed:   29.9s\n",
      "[Parallel(n_jobs=-1)]: Done 154 tasks      | elapsed:  1.4min\n",
      "[Parallel(n_jobs=-1)]: Done 357 tasks      | elapsed:  2.9min\n",
      "[Parallel(n_jobs=-1)]: Done 640 tasks      | elapsed:  4.8min\n",
      "[Parallel(n_jobs=-1)]: Done 1005 tasks      | elapsed:  8.4min\n",
      "[Parallel(n_jobs=-1)]: Done 1450 tasks      | elapsed: 12.4min\n",
      "[Parallel(n_jobs=-1)]: Done 1977 tasks      | elapsed: 20.0min\n",
      "[Parallel(n_jobs=-1)]: Done 2584 tasks      | elapsed: 29.4min\n",
      "[Parallel(n_jobs=-1)]: Done 3273 tasks      | elapsed: 41.9min\n",
      "[Parallel(n_jobs=-1)]: Done 4042 tasks      | elapsed: 58.8min\n",
      "[Parallel(n_jobs=-1)]: Done 4893 tasks      | elapsed: 80.9min\n",
      "[Parallel(n_jobs=-1)]: Done 5824 tasks      | elapsed: 310.0min\n",
      "[Parallel(n_jobs=-1)]: Done 6837 tasks      | elapsed: 318.4min\n",
      "[Parallel(n_jobs=-1)]: Done 7930 tasks      | elapsed: 331.2min\n",
      "[Parallel(n_jobs=-1)]: Done 9105 tasks      | elapsed: 352.3min\n",
      "[Parallel(n_jobs=-1)]: Done 10360 tasks      | elapsed: 380.4min\n",
      "[Parallel(n_jobs=-1)]: Done 11697 tasks      | elapsed: 616.5min\n",
      "[Parallel(n_jobs=-1)]: Done 13114 tasks      | elapsed: 630.5min\n",
      "[Parallel(n_jobs=-1)]: Done 14613 tasks      | elapsed: 659.9min\n",
      "[Parallel(n_jobs=-1)]: Done 16192 tasks      | elapsed: 710.0min\n",
      "[Parallel(n_jobs=-1)]: Done 17853 tasks      | elapsed: 1055.9min\n",
      "[Parallel(n_jobs=-1)]: Done 19594 tasks      | elapsed: 1078.6min\n",
      "[Parallel(n_jobs=-1)]: Done 21417 tasks      | elapsed: 1126.8min\n",
      "[Parallel(n_jobs=-1)]: Done 23320 tasks      | elapsed: 1516.6min\n",
      "[Parallel(n_jobs=-1)]: Done 23328 out of 23328 | elapsed: 1517.0min finished\n"
     ]
    },
    {
     "data": {
      "text/plain": [
       "GridSearchCV(cv=3, estimator=RandomForestClassifier(n_jobs=-1, random_state=42),\n",
       "             n_jobs=-1,\n",
       "             param_grid=[{'bootstrap': [True, False],\n",
       "                          'criterion': ['gini', 'entropy'],\n",
       "                          'max_depth': [2, 4, 6, 8, 10, 12, 14, None],\n",
       "                          'max_features': ['auto', 'sqrt', 'log2'],\n",
       "                          'min_samples_leaf': [1, 2, 4],\n",
       "                          'min_samples_split': [2, 5, 10],\n",
       "                          'n_estimators': range(20, 200, 20)}],\n",
       "             scoring='f1_weighted', verbose=2)"
      ]
     },
     "execution_count": 41,
     "metadata": {},
     "output_type": "execute_result"
    }
   ],
   "source": [
    "clf_random.fit(x_train, y_train)"
   ]
  },
  {
   "cell_type": "code",
   "execution_count": 42,
   "metadata": {},
   "outputs": [
    {
     "data": {
      "text/plain": [
       "{'bootstrap': False,\n",
       " 'criterion': 'gini',\n",
       " 'max_depth': None,\n",
       " 'max_features': 'auto',\n",
       " 'min_samples_leaf': 1,\n",
       " 'min_samples_split': 5,\n",
       " 'n_estimators': 140}"
      ]
     },
     "execution_count": 42,
     "metadata": {},
     "output_type": "execute_result"
    }
   ],
   "source": [
    "clf_random.best_params_"
   ]
  },
  {
   "cell_type": "code",
   "execution_count": 43,
   "metadata": {},
   "outputs": [
    {
     "data": {
      "text/plain": [
       "0.7066594681655086"
      ]
     },
     "execution_count": 43,
     "metadata": {},
     "output_type": "execute_result"
    }
   ],
   "source": [
    "clf_random.best_score_"
   ]
  },
  {
   "cell_type": "code",
   "execution_count": 45,
   "metadata": {},
   "outputs": [
    {
     "name": "stdout",
     "output_type": "stream",
     "text": [
      "              precision    recall  f1-score   support\n",
      "\n",
      "           1       0.78      0.89      0.83      9491\n",
      "           2       0.97      0.40      0.56      2276\n",
      "           3       0.93      0.36      0.52      3429\n",
      "           4       0.87      0.37      0.52      6526\n",
      "           5       0.70      0.96      0.81     16222\n",
      "\n",
      "    accuracy                           0.75     37944\n",
      "   macro avg       0.85      0.60      0.65     37944\n",
      "weighted avg       0.79      0.75      0.73     37944\n",
      "\n"
     ]
    }
   ],
   "source": [
    "preds = cross_val_predict(clf_random.best_estimator_, x_train, y_train, cv=5, n_jobs=-1)\n",
    "print(metrics.classification_report(y_train, preds, zero_division=0))"
   ]
  },
  {
   "cell_type": "code",
   "execution_count": 46,
   "metadata": {},
   "outputs": [
    {
     "data": {
      "text/html": [
       "<div>\n",
       "<style scoped>\n",
       "    .dataframe tbody tr th:only-of-type {\n",
       "        vertical-align: middle;\n",
       "    }\n",
       "\n",
       "    .dataframe tbody tr th {\n",
       "        vertical-align: top;\n",
       "    }\n",
       "\n",
       "    .dataframe thead th {\n",
       "        text-align: right;\n",
       "    }\n",
       "</style>\n",
       "<table border=\"1\" class=\"dataframe\">\n",
       "  <thead>\n",
       "    <tr style=\"text-align: right;\">\n",
       "      <th>Predicted</th>\n",
       "      <th>1</th>\n",
       "      <th>2</th>\n",
       "      <th>3</th>\n",
       "      <th>4</th>\n",
       "      <th>5</th>\n",
       "    </tr>\n",
       "    <tr>\n",
       "      <th>Actual</th>\n",
       "      <th></th>\n",
       "      <th></th>\n",
       "      <th></th>\n",
       "      <th></th>\n",
       "      <th></th>\n",
       "    </tr>\n",
       "  </thead>\n",
       "  <tbody>\n",
       "    <tr>\n",
       "      <th>1</th>\n",
       "      <td>2838</td>\n",
       "      <td>1</td>\n",
       "      <td>6</td>\n",
       "      <td>11</td>\n",
       "      <td>293</td>\n",
       "    </tr>\n",
       "    <tr>\n",
       "      <th>2</th>\n",
       "      <td>235</td>\n",
       "      <td>326</td>\n",
       "      <td>3</td>\n",
       "      <td>9</td>\n",
       "      <td>171</td>\n",
       "    </tr>\n",
       "    <tr>\n",
       "      <th>3</th>\n",
       "      <td>185</td>\n",
       "      <td>0</td>\n",
       "      <td>487</td>\n",
       "      <td>29</td>\n",
       "      <td>371</td>\n",
       "    </tr>\n",
       "    <tr>\n",
       "      <th>4</th>\n",
       "      <td>115</td>\n",
       "      <td>1</td>\n",
       "      <td>9</td>\n",
       "      <td>891</td>\n",
       "      <td>1134</td>\n",
       "    </tr>\n",
       "    <tr>\n",
       "      <th>5</th>\n",
       "      <td>157</td>\n",
       "      <td>3</td>\n",
       "      <td>8</td>\n",
       "      <td>82</td>\n",
       "      <td>5284</td>\n",
       "    </tr>\n",
       "  </tbody>\n",
       "</table>\n",
       "</div>"
      ],
      "text/plain": [
       "Predicted     1    2    3    4     5\n",
       "Actual                              \n",
       "1          2838    1    6   11   293\n",
       "2           235  326    3    9   171\n",
       "3           185    0  487   29   371\n",
       "4           115    1    9  891  1134\n",
       "5           157    3    8   82  5284"
      ]
     },
     "execution_count": 46,
     "metadata": {},
     "output_type": "execute_result"
    }
   ],
   "source": [
    "classifier_final_model = clf_random.best_estimator_\n",
    "y_pred = classifier_final_model.predict(x_test)\n",
    " \n",
    "pd.crosstab(y_test, y_pred, rownames = ['Actual'], colnames =['Predicted'])"
   ]
  },
  {
   "cell_type": "code",
   "execution_count": 47,
   "metadata": {},
   "outputs": [],
   "source": [
    "conf_mx = metrics.confusion_matrix(y_test, y_pred)"
   ]
  },
  {
   "cell_type": "code",
   "execution_count": 48,
   "metadata": {},
   "outputs": [
    {
     "data": {
      "image/png": "[encoded data removed]",
      "text/plain": [
       "<Figure size 1440x1440 with 2 Axes>"
      ]
     },
     "metadata": {
      "needs_background": "light"
     },
     "output_type": "display_data"
    }
   ],
   "source": [
    "fig = plt.figure(figsize=(20,20))\n",
    "ax = sns.heatmap(conf_mx, annot=True, fmt=\"d\", \n",
    "                 xticklabels=classifier_final_model.classes_,\n",
    "                 yticklabels=classifier_final_model.classes_,\n",
    "                cmap= \"Blues\")"
   ]
  },
  {
   "attachments": {},
   "cell_type": "markdown",
   "metadata": {},
   "source": [
    "#### Saving the model."
   ]
  },
  {
   "cell_type": "code",
   "execution_count": 49,
   "metadata": {},
   "outputs": [
    {
     "data": {
      "text/plain": [
       "['Rattingprediction.obj']"
      ]
     },
     "execution_count": 49,
     "metadata": {},
     "output_type": "execute_result"
    }
   ],
   "source": [
    "import joblib\n",
    "joblib.dump(classifier_final_model,\"Rattingprediction.obj\")"
   ]
  },
  {
   "cell_type": "code",
   "execution_count": null,
   "metadata": {},
   "outputs": [],
   "source": []
  }
 ],
 "metadata": {
  "kernelspec": {
   "display_name": "Python 3",
   "language": "python",
   "name": "python3"
  },
  "language_info": {
   "codemirror_mode": {
    "name": "ipython",
    "version": 3
   },
   "file_extension": ".py",
   "mimetype": "text/x-python",
   "name": "python",
   "nbconvert_exporter": "python",
   "pygments_lexer": "ipython3",
   "version": "3.8.3"
  }
 },
 "nbformat": 4,
 "nbformat_minor": 4
}
