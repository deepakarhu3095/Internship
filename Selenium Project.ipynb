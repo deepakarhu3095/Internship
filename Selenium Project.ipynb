{
 "cells": [
  {
   "cell_type": "markdown",
   "id": "266b42eb",
   "metadata": {},
   "source": [
    "# Selenium Project"
   ]
  },
  {
   "cell_type": "code",
   "execution_count": 1,
   "id": "ed7d588a",
   "metadata": {},
   "outputs": [],
   "source": [
    "# first install selenium library"
   ]
  },
  {
   "cell_type": "code",
   "execution_count": 2,
   "id": "f18a1b15",
   "metadata": {},
   "outputs": [
    {
     "name": "stdout",
     "output_type": "stream",
     "text": [
      "Requirement already satisfied: selenium in c:\\programdata\\anaconda3\\lib\\site-packages (4.1.3)\n",
      "Requirement already satisfied: urllib3[secure,socks]~=1.26 in c:\\programdata\\anaconda3\\lib\\site-packages (from selenium) (1.26.7)\n",
      "Requirement already satisfied: trio-websocket~=0.9 in c:\\programdata\\anaconda3\\lib\\site-packages (from selenium) (0.9.2)\n",
      "Requirement already satisfied: trio~=0.17 in c:\\programdata\\anaconda3\\lib\\site-packages (from selenium) (0.20.0)\n",
      "Requirement already satisfied: sniffio in c:\\programdata\\anaconda3\\lib\\site-packages (from trio~=0.17->selenium) (1.2.0)\n",
      "Requirement already satisfied: idna in c:\\programdata\\anaconda3\\lib\\site-packages (from trio~=0.17->selenium) (3.2)\n",
      "Requirement already satisfied: cffi>=1.14 in c:\\programdata\\anaconda3\\lib\\site-packages (from trio~=0.17->selenium) (1.14.6)\n",
      "Requirement already satisfied: sortedcontainers in c:\\programdata\\anaconda3\\lib\\site-packages (from trio~=0.17->selenium) (2.4.0)\n",
      "Requirement already satisfied: outcome in c:\\programdata\\anaconda3\\lib\\site-packages (from trio~=0.17->selenium) (1.1.0)\n",
      "Requirement already satisfied: attrs>=19.2.0 in c:\\programdata\\anaconda3\\lib\\site-packages (from trio~=0.17->selenium) (21.2.0)\n",
      "Requirement already satisfied: async-generator>=1.9 in c:\\programdata\\anaconda3\\lib\\site-packages (from trio~=0.17->selenium) (1.10)\n",
      "Requirement already satisfied: pycparser in c:\\programdata\\anaconda3\\lib\\site-packages (from cffi>=1.14->trio~=0.17->selenium) (2.20)\n",
      "Requirement already satisfied: wsproto>=0.14 in c:\\programdata\\anaconda3\\lib\\site-packages (from trio-websocket~=0.9->selenium) (1.1.0)\n",
      "Requirement already satisfied: pyOpenSSL>=0.14 in c:\\programdata\\anaconda3\\lib\\site-packages (from urllib3[secure,socks]~=1.26->selenium) (21.0.0)\n",
      "Requirement already satisfied: cryptography>=1.3.4 in c:\\programdata\\anaconda3\\lib\\site-packages (from urllib3[secure,socks]~=1.26->selenium) (3.4.8)\n",
      "Requirement already satisfied: certifi in c:\\programdata\\anaconda3\\lib\\site-packages (from urllib3[secure,socks]~=1.26->selenium) (2021.10.8)\n",
      "Requirement already satisfied: PySocks!=1.5.7,<2.0,>=1.5.6 in c:\\programdata\\anaconda3\\lib\\site-packages (from urllib3[secure,socks]~=1.26->selenium) (1.7.1)\n",
      "Requirement already satisfied: six>=1.5.2 in c:\\programdata\\anaconda3\\lib\\site-packages (from pyOpenSSL>=0.14->urllib3[secure,socks]~=1.26->selenium) (1.16.0)\n",
      "Requirement already satisfied: h11<1,>=0.9.0 in c:\\programdata\\anaconda3\\lib\\site-packages (from wsproto>=0.14->trio-websocket~=0.9->selenium) (0.13.0)\n"
     ]
    }
   ],
   "source": [
    "! pip install selenium"
   ]
  },
  {
   "cell_type": "code",
   "execution_count": 3,
   "id": "6379d17c",
   "metadata": {},
   "outputs": [],
   "source": [
    "# import all require library "
   ]
  },
  {
   "cell_type": "code",
   "execution_count": 4,
   "id": "c8ae0219",
   "metadata": {},
   "outputs": [],
   "source": [
    "import selenium \n",
    "from selenium import webdriver\n",
    "import pandas as pd\n",
    "import warnings\n",
    "warnings.filterwarnings(\"ignore\")"
   ]
  },
  {
   "cell_type": "code",
   "execution_count": 5,
   "id": "2be7f7a2",
   "metadata": {},
   "outputs": [],
   "source": [
    "# connect to web driver"
   ]
  },
  {
   "cell_type": "code",
   "execution_count": 283,
   "id": "ccb502e0",
   "metadata": {},
   "outputs": [],
   "source": [
    "driver = webdriver.Chrome('chromedriver.exe')"
   ]
  },
  {
   "cell_type": "markdown",
   "id": "fddc9312",
   "metadata": {},
   "source": [
    "# Question 1"
   ]
  },
  {
   "cell_type": "markdown",
   "id": "0087afc1",
   "metadata": {},
   "source": [
    "Q1: Write a python program to scrape data for “Data Analyst” Job position in “Bangalore” location. You\n",
    "have to scrape the job-title, job-location, company_name, experience_required. You have to scrape first 10\n",
    "jobs data.\n",
    "This task will be done in following steps:\n",
    "1. First get the webpage https://www.naukri.com/\n",
    "2. Enter “Data Analyst” in “Skill, Designations, Companies” field and enter “Bangalore” in “enter the\n",
    "location” field.\n",
    "3. Then click the search button.\n",
    "4. Then scrape the data for the first 10 jobs results you get.\n",
    "5. Finally create a dataframe of the scraped data"
   ]
  },
  {
   "cell_type": "code",
   "execution_count": 7,
   "id": "d5921c80",
   "metadata": {},
   "outputs": [],
   "source": [
    "url='https://www.naukri.com/'\n",
    "driver.get(url)"
   ]
  },
  {
   "cell_type": "code",
   "execution_count": 8,
   "id": "d7990326",
   "metadata": {},
   "outputs": [
    {
     "data": {
      "text/plain": [
       "<selenium.webdriver.remote.webelement.WebElement (session=\"7279a34f9601f89ea68cf44c68234533\", element=\"61d70785-ca7f-4d4e-b90c-80b9808a2666\")>"
      ]
     },
     "execution_count": 8,
     "metadata": {},
     "output_type": "execute_result"
    }
   ],
   "source": [
    "# finding web element for search job bar user id\n",
    "search_job=driver.find_element_by_class_name(\"suggestor-input\")\n",
    "search_job"
   ]
  },
  {
   "cell_type": "code",
   "execution_count": 9,
   "id": "c198cfbd",
   "metadata": {},
   "outputs": [],
   "source": [
    "# write on search bar\n",
    "search_job.send_keys(\"Data Analyst\")"
   ]
  },
  {
   "cell_type": "code",
   "execution_count": 10,
   "id": "da7b11a1",
   "metadata": {},
   "outputs": [
    {
     "data": {
      "text/plain": [
       "<selenium.webdriver.remote.webelement.WebElement (session=\"7279a34f9601f89ea68cf44c68234533\", element=\"50191484-b92a-4dcd-a8a1-0edf9d172a12\")>"
      ]
     },
     "execution_count": 10,
     "metadata": {},
     "output_type": "execute_result"
    }
   ],
   "source": [
    "# finding web element for search job bar user id\n",
    "search_loc=driver.find_element_by_xpath(\"/html/body/div/div[2]/div[3]/div/div/div[3]/div/div/div/input\")\n",
    "search_loc"
   ]
  },
  {
   "cell_type": "code",
   "execution_count": 11,
   "id": "bc644a11",
   "metadata": {},
   "outputs": [],
   "source": [
    "search_loc.send_keys(\"Bangalore\")"
   ]
  },
  {
   "cell_type": "code",
   "execution_count": 12,
   "id": "edc2a2f4",
   "metadata": {},
   "outputs": [
    {
     "data": {
      "text/plain": [
       "<selenium.webdriver.remote.webelement.WebElement (session=\"7279a34f9601f89ea68cf44c68234533\", element=\"ddf3dd9d-3aa4-4759-80df-9a880e6ff6b1\")>"
      ]
     },
     "execution_count": 12,
     "metadata": {},
     "output_type": "execute_result"
    }
   ],
   "source": [
    "#clicking using x path function\n",
    "search_btn=driver.find_element_by_xpath(\"/html/body/div/div[2]/div[3]/div/div/div[6]\")\n",
    "search_btn"
   ]
  },
  {
   "cell_type": "code",
   "execution_count": 13,
   "id": "b3ff25d8",
   "metadata": {},
   "outputs": [],
   "source": [
    "search_btn.click()"
   ]
  },
  {
   "cell_type": "markdown",
   "id": "497ad443",
   "metadata": {},
   "source": [
    "# Extracting Job Title"
   ]
  },
  {
   "cell_type": "code",
   "execution_count": 14,
   "id": "e057979e",
   "metadata": {},
   "outputs": [
    {
     "data": {
      "text/plain": [
       "[<selenium.webdriver.remote.webelement.WebElement (session=\"7279a34f9601f89ea68cf44c68234533\", element=\"1c5b7891-2e66-4fa7-b91d-ff1443f35496\")>,\n",
       " <selenium.webdriver.remote.webelement.WebElement (session=\"7279a34f9601f89ea68cf44c68234533\", element=\"69e8a728-dbf5-4166-8054-a943837ae272\")>,\n",
       " <selenium.webdriver.remote.webelement.WebElement (session=\"7279a34f9601f89ea68cf44c68234533\", element=\"7e5d325c-5113-4f1f-b1a9-488de40e9b8a\")>,\n",
       " <selenium.webdriver.remote.webelement.WebElement (session=\"7279a34f9601f89ea68cf44c68234533\", element=\"9d8f80fb-0a41-4beb-9619-8f080bf38eac\")>,\n",
       " <selenium.webdriver.remote.webelement.WebElement (session=\"7279a34f9601f89ea68cf44c68234533\", element=\"022774ea-db8a-46d0-bfbb-47b47a3f3e54\")>,\n",
       " <selenium.webdriver.remote.webelement.WebElement (session=\"7279a34f9601f89ea68cf44c68234533\", element=\"81ad8a14-1d16-4430-a274-0c80d0321a53\")>,\n",
       " <selenium.webdriver.remote.webelement.WebElement (session=\"7279a34f9601f89ea68cf44c68234533\", element=\"a359e736-81ad-4cbd-a413-c36fdc25cc10\")>,\n",
       " <selenium.webdriver.remote.webelement.WebElement (session=\"7279a34f9601f89ea68cf44c68234533\", element=\"69134c96-d8ef-414c-99fc-56854bf46f15\")>,\n",
       " <selenium.webdriver.remote.webelement.WebElement (session=\"7279a34f9601f89ea68cf44c68234533\", element=\"92e2b040-86c9-49e0-b3b8-d6308066ce42\")>,\n",
       " <selenium.webdriver.remote.webelement.WebElement (session=\"7279a34f9601f89ea68cf44c68234533\", element=\"da12817f-8c37-4adc-91bb-b07b0ae5666e\")>,\n",
       " <selenium.webdriver.remote.webelement.WebElement (session=\"7279a34f9601f89ea68cf44c68234533\", element=\"37d9469b-05b1-464d-8e0c-8abc5b2386f6\")>,\n",
       " <selenium.webdriver.remote.webelement.WebElement (session=\"7279a34f9601f89ea68cf44c68234533\", element=\"700381f1-7f1d-4586-bc50-d21306e97f05\")>,\n",
       " <selenium.webdriver.remote.webelement.WebElement (session=\"7279a34f9601f89ea68cf44c68234533\", element=\"ba9033a2-cd70-4036-9387-de821fce8688\")>,\n",
       " <selenium.webdriver.remote.webelement.WebElement (session=\"7279a34f9601f89ea68cf44c68234533\", element=\"b0f8e029-6cbb-4561-95ae-b5993c16fa3b\")>,\n",
       " <selenium.webdriver.remote.webelement.WebElement (session=\"7279a34f9601f89ea68cf44c68234533\", element=\"37c5765d-0f08-4a97-a6bd-2db35c7383fe\")>,\n",
       " <selenium.webdriver.remote.webelement.WebElement (session=\"7279a34f9601f89ea68cf44c68234533\", element=\"8c6ef3e2-2073-4127-b5d4-a04ece5e9cf2\")>,\n",
       " <selenium.webdriver.remote.webelement.WebElement (session=\"7279a34f9601f89ea68cf44c68234533\", element=\"249f93c5-ac41-49fb-9b9e-88f42977b9b0\")>,\n",
       " <selenium.webdriver.remote.webelement.WebElement (session=\"7279a34f9601f89ea68cf44c68234533\", element=\"41ad67eb-ae43-4cba-bc01-73cd2cc4f905\")>,\n",
       " <selenium.webdriver.remote.webelement.WebElement (session=\"7279a34f9601f89ea68cf44c68234533\", element=\"fc7301bf-e381-4a32-bd28-bc7c28368d5f\")>,\n",
       " <selenium.webdriver.remote.webelement.WebElement (session=\"7279a34f9601f89ea68cf44c68234533\", element=\"394dc0ae-406d-46f8-ba62-c0cb3de2c7ca\")>]"
      ]
     },
     "execution_count": 14,
     "metadata": {},
     "output_type": "execute_result"
    }
   ],
   "source": [
    "# extracting data of job title\n",
    "job_title=driver.find_elements_by_xpath(\"//a[@class='title fw500 ellipsis']\")\n",
    "job_title"
   ]
  },
  {
   "cell_type": "code",
   "execution_count": 15,
   "id": "0d52167b",
   "metadata": {},
   "outputs": [
    {
     "data": {
      "text/plain": [
       "['Hiring For Data Analyst I(SQL & Python)',\n",
       " 'Data Analyst - 3rd Party Payroll',\n",
       " 'Data Analyst I',\n",
       " 'Senior Data Analyst II',\n",
       " 'Senior Data Analyst',\n",
       " 'Senior Data Analyst II',\n",
       " 'Senior Data Analyst II',\n",
       " 'Looking For Data Analyst - Remote Support',\n",
       " 'Job openings For Data Analyst - AOA',\n",
       " 'Senior Data Analyst - Ads & Promotion Platform (APP)']"
      ]
     },
     "execution_count": 15,
     "metadata": {},
     "output_type": "execute_result"
    }
   ],
   "source": [
    "#Extracting the text from the tags\n",
    "title=[]  #Empty list\n",
    "\n",
    "#As we need to scrap data for the first 10 job results, we are running a for loop for first 10 results only\n",
    "for i in job_title[:10]:\n",
    "    title.append(i.text)\n",
    "title"
   ]
  },
  {
   "cell_type": "code",
   "execution_count": 16,
   "id": "dcab3899",
   "metadata": {},
   "outputs": [
    {
     "data": {
      "text/plain": [
       "[<selenium.webdriver.remote.webelement.WebElement (session=\"7279a34f9601f89ea68cf44c68234533\", element=\"b1f65d36-5950-4f94-9bae-a05792aeb959\")>,\n",
       " <selenium.webdriver.remote.webelement.WebElement (session=\"7279a34f9601f89ea68cf44c68234533\", element=\"a86074e6-2c3e-4c69-b893-49f0585f237e\")>,\n",
       " <selenium.webdriver.remote.webelement.WebElement (session=\"7279a34f9601f89ea68cf44c68234533\", element=\"9b84bc11-9f2d-4df3-b319-6f7441ba1675\")>,\n",
       " <selenium.webdriver.remote.webelement.WebElement (session=\"7279a34f9601f89ea68cf44c68234533\", element=\"f5cac65a-82ca-40f8-a045-b8fb485052e9\")>,\n",
       " <selenium.webdriver.remote.webelement.WebElement (session=\"7279a34f9601f89ea68cf44c68234533\", element=\"ec8ad3fd-0b2b-4a7e-8eb0-1f9129f0382d\")>,\n",
       " <selenium.webdriver.remote.webelement.WebElement (session=\"7279a34f9601f89ea68cf44c68234533\", element=\"afe7ab3c-41e9-4ae9-8aee-79cbd73f8058\")>,\n",
       " <selenium.webdriver.remote.webelement.WebElement (session=\"7279a34f9601f89ea68cf44c68234533\", element=\"1059d99f-e771-4755-90bd-d70fe61c9729\")>,\n",
       " <selenium.webdriver.remote.webelement.WebElement (session=\"7279a34f9601f89ea68cf44c68234533\", element=\"7126c630-b115-435b-b000-36feb29fada4\")>,\n",
       " <selenium.webdriver.remote.webelement.WebElement (session=\"7279a34f9601f89ea68cf44c68234533\", element=\"8c8f43eb-b96b-44ea-bb04-a9cea52183e1\")>,\n",
       " <selenium.webdriver.remote.webelement.WebElement (session=\"7279a34f9601f89ea68cf44c68234533\", element=\"1fa5123e-dc25-4d0c-90e5-bddedff2978e\")>,\n",
       " <selenium.webdriver.remote.webelement.WebElement (session=\"7279a34f9601f89ea68cf44c68234533\", element=\"3502a6d6-7a4c-4460-9e77-7c1dc533f94f\")>,\n",
       " <selenium.webdriver.remote.webelement.WebElement (session=\"7279a34f9601f89ea68cf44c68234533\", element=\"4ec68878-5c06-4ef7-9875-57144ee8db6b\")>,\n",
       " <selenium.webdriver.remote.webelement.WebElement (session=\"7279a34f9601f89ea68cf44c68234533\", element=\"f565cf24-5dc0-4c70-954d-4cdb1aef736b\")>,\n",
       " <selenium.webdriver.remote.webelement.WebElement (session=\"7279a34f9601f89ea68cf44c68234533\", element=\"1128ecaf-1569-4af8-9912-a52bf5ea9eb0\")>,\n",
       " <selenium.webdriver.remote.webelement.WebElement (session=\"7279a34f9601f89ea68cf44c68234533\", element=\"a0ffc014-ec1f-432b-9efc-a527fbc9e0a7\")>,\n",
       " <selenium.webdriver.remote.webelement.WebElement (session=\"7279a34f9601f89ea68cf44c68234533\", element=\"c8088398-f288-4fa6-a919-8720303f390e\")>,\n",
       " <selenium.webdriver.remote.webelement.WebElement (session=\"7279a34f9601f89ea68cf44c68234533\", element=\"a65ea9ae-ffb4-47d7-bf97-0f128b435675\")>,\n",
       " <selenium.webdriver.remote.webelement.WebElement (session=\"7279a34f9601f89ea68cf44c68234533\", element=\"93d9dc1a-18f4-4451-a0b3-619b69d5100d\")>,\n",
       " <selenium.webdriver.remote.webelement.WebElement (session=\"7279a34f9601f89ea68cf44c68234533\", element=\"234fec6d-8dd2-433e-953c-92b3d6f6e1ef\")>,\n",
       " <selenium.webdriver.remote.webelement.WebElement (session=\"7279a34f9601f89ea68cf44c68234533\", element=\"48018d9e-1453-4a6b-b87a-06a1e5922f2c\")>,\n",
       " <selenium.webdriver.remote.webelement.WebElement (session=\"7279a34f9601f89ea68cf44c68234533\", element=\"ec1c1ecb-618f-4200-a47c-1a22eacb0c14\")>,\n",
       " <selenium.webdriver.remote.webelement.WebElement (session=\"7279a34f9601f89ea68cf44c68234533\", element=\"a6531190-ef39-49d9-9d0a-d9107c57bb90\")>,\n",
       " <selenium.webdriver.remote.webelement.WebElement (session=\"7279a34f9601f89ea68cf44c68234533\", element=\"61cca4aa-c369-4bfa-8a4d-be0530d5d21d\")>]"
      ]
     },
     "execution_count": 16,
     "metadata": {},
     "output_type": "execute_result"
    }
   ],
   "source": [
    "#Extracting all the tags having the job location\n",
    "job_location=driver.find_elements_by_xpath(\"//li[@class='fleft grey-text br2 placeHolderLi location']/span\")\n",
    "job_location"
   ]
  },
  {
   "cell_type": "code",
   "execution_count": 17,
   "id": "4b18c34e",
   "metadata": {},
   "outputs": [
    {
     "data": {
      "text/plain": [
       "['Bangalore/Bengaluru',\n",
       " 'Bangalore/Bengaluru',\n",
       " 'Bangalore/Bengaluru',\n",
       " 'Bangalore/Bengaluru',\n",
       " 'Bangalore/Bengaluru',\n",
       " 'Bangalore/Bengaluru',\n",
       " 'Bangalore/Bengaluru',\n",
       " 'Hyderabad/Secunderabad, Chennai, Bangalore/Bengaluru',\n",
       " 'Bangalore/Bengaluru(4th Phase JP Nagar)',\n",
       " 'Bangalore/Bengaluru']"
      ]
     },
     "execution_count": 17,
     "metadata": {},
     "output_type": "execute_result"
    }
   ],
   "source": [
    "#Extracting the text from the tags\n",
    "location=[] \n",
    "#As we need to scrap data for the first 10 job results, we are running a for loop for first 10 results only\n",
    "for i in job_location[:10]:\n",
    "    location.append(i.text)\n",
    "location   "
   ]
  },
  {
   "cell_type": "code",
   "execution_count": 18,
   "id": "d943bd2b",
   "metadata": {},
   "outputs": [
    {
     "data": {
      "text/plain": [
       "[<selenium.webdriver.remote.webelement.WebElement (session=\"7279a34f9601f89ea68cf44c68234533\", element=\"74c9a119-970d-43e8-a619-42ee9f296db9\")>,\n",
       " <selenium.webdriver.remote.webelement.WebElement (session=\"7279a34f9601f89ea68cf44c68234533\", element=\"496e65a1-973d-43a9-a5da-1a8dd4a2d33c\")>,\n",
       " <selenium.webdriver.remote.webelement.WebElement (session=\"7279a34f9601f89ea68cf44c68234533\", element=\"451a78b9-7b15-4249-a1e6-354f91ac0561\")>,\n",
       " <selenium.webdriver.remote.webelement.WebElement (session=\"7279a34f9601f89ea68cf44c68234533\", element=\"b91a136d-491a-47e3-b802-c0d34348d423\")>,\n",
       " <selenium.webdriver.remote.webelement.WebElement (session=\"7279a34f9601f89ea68cf44c68234533\", element=\"f94247b7-483f-4d49-9f34-451169523c3c\")>,\n",
       " <selenium.webdriver.remote.webelement.WebElement (session=\"7279a34f9601f89ea68cf44c68234533\", element=\"e6ddb04b-c841-4148-a4d6-1f75a27a1693\")>,\n",
       " <selenium.webdriver.remote.webelement.WebElement (session=\"7279a34f9601f89ea68cf44c68234533\", element=\"e38eca5b-a10d-4ed7-b508-bc5b12dd10fa\")>,\n",
       " <selenium.webdriver.remote.webelement.WebElement (session=\"7279a34f9601f89ea68cf44c68234533\", element=\"5439e32e-73f9-4134-ac9e-79831edb7805\")>,\n",
       " <selenium.webdriver.remote.webelement.WebElement (session=\"7279a34f9601f89ea68cf44c68234533\", element=\"72b8e9a5-03a8-480e-81eb-f5caf87027e7\")>,\n",
       " <selenium.webdriver.remote.webelement.WebElement (session=\"7279a34f9601f89ea68cf44c68234533\", element=\"199b68b3-9784-4660-b0cd-3dcd21226ba3\")>,\n",
       " <selenium.webdriver.remote.webelement.WebElement (session=\"7279a34f9601f89ea68cf44c68234533\", element=\"81b03636-4192-47bd-9f60-f43c192e7a6d\")>,\n",
       " <selenium.webdriver.remote.webelement.WebElement (session=\"7279a34f9601f89ea68cf44c68234533\", element=\"810c598e-16e6-44fc-92f3-041bc9aeea1f\")>,\n",
       " <selenium.webdriver.remote.webelement.WebElement (session=\"7279a34f9601f89ea68cf44c68234533\", element=\"4572d78c-97da-4bca-8be2-d3228d2b6c04\")>,\n",
       " <selenium.webdriver.remote.webelement.WebElement (session=\"7279a34f9601f89ea68cf44c68234533\", element=\"b4f4e986-8882-46b5-ab62-018a81d3293f\")>,\n",
       " <selenium.webdriver.remote.webelement.WebElement (session=\"7279a34f9601f89ea68cf44c68234533\", element=\"7922e0db-1eb9-4dbe-a145-9249ff6299cd\")>,\n",
       " <selenium.webdriver.remote.webelement.WebElement (session=\"7279a34f9601f89ea68cf44c68234533\", element=\"af959b20-e4bf-4bc3-a3e1-338ab0527b1b\")>,\n",
       " <selenium.webdriver.remote.webelement.WebElement (session=\"7279a34f9601f89ea68cf44c68234533\", element=\"57d98dcd-adf4-47ba-8c52-ed3ee46ac8dd\")>,\n",
       " <selenium.webdriver.remote.webelement.WebElement (session=\"7279a34f9601f89ea68cf44c68234533\", element=\"53d5c628-4822-4a0d-9235-0e97f64e16af\")>,\n",
       " <selenium.webdriver.remote.webelement.WebElement (session=\"7279a34f9601f89ea68cf44c68234533\", element=\"03be3b03-c840-4e65-8d7d-0565fc739a38\")>,\n",
       " <selenium.webdriver.remote.webelement.WebElement (session=\"7279a34f9601f89ea68cf44c68234533\", element=\"f822db54-5bda-4c57-9c6e-7d3b2e1fa653\")>]"
      ]
     },
     "execution_count": 18,
     "metadata": {},
     "output_type": "execute_result"
    }
   ],
   "source": [
    "#Extracting the tags having the company name\n",
    "name=driver.find_elements_by_xpath(\"//a[@class='subTitle ellipsis fleft']\")\n",
    "name"
   ]
  },
  {
   "cell_type": "code",
   "execution_count": 19,
   "id": "a75fb4cc",
   "metadata": {},
   "outputs": [
    {
     "data": {
      "text/plain": [
       "['Clario India Pvt Ltd',\n",
       " 'Flipkart',\n",
       " 'Cerner',\n",
       " 'Flipkart',\n",
       " 'Flipkart',\n",
       " 'Flipkart',\n",
       " 'Flipkart',\n",
       " 'Locuz Enterprise Solutions Ltd',\n",
       " 'izmo ltd',\n",
       " 'Gojek']"
      ]
     },
     "execution_count": 19,
     "metadata": {},
     "output_type": "execute_result"
    }
   ],
   "source": [
    "#Extracting the text from the tags\n",
    "company=[]  #Empty list\n",
    "\n",
    "#As we need to scrap data for the first 10 job results, we are running a for loop for first 10 results only\n",
    "for i in name[:10]:\n",
    "    company.append(i.text)\n",
    "company"
   ]
  },
  {
   "cell_type": "code",
   "execution_count": 20,
   "id": "a7e61c1e",
   "metadata": {},
   "outputs": [
    {
     "data": {
      "text/plain": [
       "[<selenium.webdriver.remote.webelement.WebElement (session=\"7279a34f9601f89ea68cf44c68234533\", element=\"a5e537e6-f6f4-4608-80b8-4e1f01755cc1\")>,\n",
       " <selenium.webdriver.remote.webelement.WebElement (session=\"7279a34f9601f89ea68cf44c68234533\", element=\"2c41f3d4-0f22-4683-9d3c-098bcdafb56c\")>,\n",
       " <selenium.webdriver.remote.webelement.WebElement (session=\"7279a34f9601f89ea68cf44c68234533\", element=\"f2078b60-4ff8-4722-9afc-6750f9d0a368\")>,\n",
       " <selenium.webdriver.remote.webelement.WebElement (session=\"7279a34f9601f89ea68cf44c68234533\", element=\"537bc252-fa2f-44fa-b2b3-d02306e65806\")>,\n",
       " <selenium.webdriver.remote.webelement.WebElement (session=\"7279a34f9601f89ea68cf44c68234533\", element=\"1c72b729-79e8-46af-90c1-0ad23e12a5ea\")>,\n",
       " <selenium.webdriver.remote.webelement.WebElement (session=\"7279a34f9601f89ea68cf44c68234533\", element=\"38dc00b4-8b7c-43e9-b685-e0c52e1e40e6\")>,\n",
       " <selenium.webdriver.remote.webelement.WebElement (session=\"7279a34f9601f89ea68cf44c68234533\", element=\"39e4795d-3953-4e0b-8776-8a0477359fa0\")>,\n",
       " <selenium.webdriver.remote.webelement.WebElement (session=\"7279a34f9601f89ea68cf44c68234533\", element=\"ed42e089-4d17-4aec-8193-33e57b34704b\")>,\n",
       " <selenium.webdriver.remote.webelement.WebElement (session=\"7279a34f9601f89ea68cf44c68234533\", element=\"e1de3e2d-e825-40d9-92a9-ae3e8613425e\")>,\n",
       " <selenium.webdriver.remote.webelement.WebElement (session=\"7279a34f9601f89ea68cf44c68234533\", element=\"d0d449e2-f4eb-4e72-b0ba-f027f026ceed\")>,\n",
       " <selenium.webdriver.remote.webelement.WebElement (session=\"7279a34f9601f89ea68cf44c68234533\", element=\"66a51fc9-a086-4fbc-8ce5-0457953ee962\")>,\n",
       " <selenium.webdriver.remote.webelement.WebElement (session=\"7279a34f9601f89ea68cf44c68234533\", element=\"da85fa37-6023-4510-8f5c-bc2c2446dffe\")>,\n",
       " <selenium.webdriver.remote.webelement.WebElement (session=\"7279a34f9601f89ea68cf44c68234533\", element=\"ae05c782-1a03-4215-9d52-19938a8c1eee\")>,\n",
       " <selenium.webdriver.remote.webelement.WebElement (session=\"7279a34f9601f89ea68cf44c68234533\", element=\"6b978d51-5db3-472d-9f36-10faf1b11abf\")>,\n",
       " <selenium.webdriver.remote.webelement.WebElement (session=\"7279a34f9601f89ea68cf44c68234533\", element=\"49a39601-0be1-4b52-bac7-cfe9b93977be\")>,\n",
       " <selenium.webdriver.remote.webelement.WebElement (session=\"7279a34f9601f89ea68cf44c68234533\", element=\"5fccbee5-d9c7-4eb3-b73a-7b8b08a851cd\")>,\n",
       " <selenium.webdriver.remote.webelement.WebElement (session=\"7279a34f9601f89ea68cf44c68234533\", element=\"4e497f43-0603-4fbc-a09b-79b2f4fe4d36\")>,\n",
       " <selenium.webdriver.remote.webelement.WebElement (session=\"7279a34f9601f89ea68cf44c68234533\", element=\"00f11ea7-12e1-423f-9fbf-74c0168b6a5c\")>,\n",
       " <selenium.webdriver.remote.webelement.WebElement (session=\"7279a34f9601f89ea68cf44c68234533\", element=\"537c9acb-43b4-4e15-8ecc-b347064dff0f\")>]"
      ]
     },
     "execution_count": 20,
     "metadata": {},
     "output_type": "execute_result"
    }
   ],
   "source": [
    "#Extracting the tags having experience required\n",
    "exp_required=driver.find_elements_by_xpath(\"//li[@class='fleft grey-text br2 placeHolderLi experience']/span\")\n",
    "exp_required"
   ]
  },
  {
   "cell_type": "code",
   "execution_count": 21,
   "id": "889e8c73",
   "metadata": {},
   "outputs": [
    {
     "data": {
      "text/plain": [
       "['0-2 Yrs',\n",
       " '2-4 Yrs',\n",
       " '5-10 Yrs',\n",
       " '3-6 Yrs',\n",
       " '3-8 Yrs',\n",
       " '2-4 Yrs',\n",
       " '2-4 Yrs',\n",
       " '5-10 Yrs',\n",
       " '2-3 Yrs',\n",
       " '3-8 Yrs']"
      ]
     },
     "execution_count": 21,
     "metadata": {},
     "output_type": "execute_result"
    }
   ],
   "source": [
    "#Extracting the text from the tags\n",
    "exp=[]  #Empty list\n",
    "\n",
    "#As we need to scrap data for the first 10 job results, we are running a for loop for first 10 results only\n",
    "for i in exp_required[:10]:\n",
    "    exp.append(i.text)\n",
    "exp"
   ]
  },
  {
   "cell_type": "code",
   "execution_count": 22,
   "id": "7f09f625",
   "metadata": {},
   "outputs": [
    {
     "name": "stdout",
     "output_type": "stream",
     "text": [
      "10 10 10 10\n"
     ]
    }
   ],
   "source": [
    "#Checking out the length of the data extracted\n",
    "print(len(title),len(location),len(company),len(exp))"
   ]
  },
  {
   "cell_type": "code",
   "execution_count": 23,
   "id": "45c27f76",
   "metadata": {},
   "outputs": [],
   "source": [
    "import pandas as pd #import panda librerary"
   ]
  },
  {
   "cell_type": "code",
   "execution_count": 24,
   "id": "2dcac7ee",
   "metadata": {},
   "outputs": [
    {
     "data": {
      "text/html": [
       "<div>\n",
       "<style scoped>\n",
       "    .dataframe tbody tr th:only-of-type {\n",
       "        vertical-align: middle;\n",
       "    }\n",
       "\n",
       "    .dataframe tbody tr th {\n",
       "        vertical-align: top;\n",
       "    }\n",
       "\n",
       "    .dataframe thead th {\n",
       "        text-align: right;\n",
       "    }\n",
       "</style>\n",
       "<table border=\"1\" class=\"dataframe\">\n",
       "  <thead>\n",
       "    <tr style=\"text-align: right;\">\n",
       "      <th></th>\n",
       "      <th>Title</th>\n",
       "      <th>Location</th>\n",
       "      <th>Company name</th>\n",
       "      <th>Experience required</th>\n",
       "    </tr>\n",
       "  </thead>\n",
       "  <tbody>\n",
       "    <tr>\n",
       "      <th>0</th>\n",
       "      <td>Hiring For Data Analyst I(SQL &amp; Python)</td>\n",
       "      <td>Bangalore/Bengaluru</td>\n",
       "      <td>Clario India Pvt Ltd</td>\n",
       "      <td>0-2 Yrs</td>\n",
       "    </tr>\n",
       "    <tr>\n",
       "      <th>1</th>\n",
       "      <td>Data Analyst - 3rd Party Payroll</td>\n",
       "      <td>Bangalore/Bengaluru</td>\n",
       "      <td>Flipkart</td>\n",
       "      <td>2-4 Yrs</td>\n",
       "    </tr>\n",
       "    <tr>\n",
       "      <th>2</th>\n",
       "      <td>Data Analyst I</td>\n",
       "      <td>Bangalore/Bengaluru</td>\n",
       "      <td>Cerner</td>\n",
       "      <td>5-10 Yrs</td>\n",
       "    </tr>\n",
       "    <tr>\n",
       "      <th>3</th>\n",
       "      <td>Senior Data Analyst II</td>\n",
       "      <td>Bangalore/Bengaluru</td>\n",
       "      <td>Flipkart</td>\n",
       "      <td>3-6 Yrs</td>\n",
       "    </tr>\n",
       "    <tr>\n",
       "      <th>4</th>\n",
       "      <td>Senior Data Analyst</td>\n",
       "      <td>Bangalore/Bengaluru</td>\n",
       "      <td>Flipkart</td>\n",
       "      <td>3-8 Yrs</td>\n",
       "    </tr>\n",
       "    <tr>\n",
       "      <th>5</th>\n",
       "      <td>Senior Data Analyst II</td>\n",
       "      <td>Bangalore/Bengaluru</td>\n",
       "      <td>Flipkart</td>\n",
       "      <td>2-4 Yrs</td>\n",
       "    </tr>\n",
       "    <tr>\n",
       "      <th>6</th>\n",
       "      <td>Senior Data Analyst II</td>\n",
       "      <td>Bangalore/Bengaluru</td>\n",
       "      <td>Flipkart</td>\n",
       "      <td>2-4 Yrs</td>\n",
       "    </tr>\n",
       "    <tr>\n",
       "      <th>7</th>\n",
       "      <td>Looking For Data Analyst - Remote Support</td>\n",
       "      <td>Hyderabad/Secunderabad, Chennai, Bangalore/Ben...</td>\n",
       "      <td>Locuz Enterprise Solutions Ltd</td>\n",
       "      <td>5-10 Yrs</td>\n",
       "    </tr>\n",
       "    <tr>\n",
       "      <th>8</th>\n",
       "      <td>Job openings For Data Analyst - AOA</td>\n",
       "      <td>Bangalore/Bengaluru(4th Phase JP Nagar)</td>\n",
       "      <td>izmo ltd</td>\n",
       "      <td>2-3 Yrs</td>\n",
       "    </tr>\n",
       "    <tr>\n",
       "      <th>9</th>\n",
       "      <td>Senior Data Analyst - Ads &amp; Promotion Platform...</td>\n",
       "      <td>Bangalore/Bengaluru</td>\n",
       "      <td>Gojek</td>\n",
       "      <td>3-8 Yrs</td>\n",
       "    </tr>\n",
       "  </tbody>\n",
       "</table>\n",
       "</div>"
      ],
      "text/plain": [
       "                                               Title  \\\n",
       "0            Hiring For Data Analyst I(SQL & Python)   \n",
       "1                   Data Analyst - 3rd Party Payroll   \n",
       "2                                     Data Analyst I   \n",
       "3                             Senior Data Analyst II   \n",
       "4                                Senior Data Analyst   \n",
       "5                             Senior Data Analyst II   \n",
       "6                             Senior Data Analyst II   \n",
       "7          Looking For Data Analyst - Remote Support   \n",
       "8                Job openings For Data Analyst - AOA   \n",
       "9  Senior Data Analyst - Ads & Promotion Platform...   \n",
       "\n",
       "                                            Location  \\\n",
       "0                                Bangalore/Bengaluru   \n",
       "1                                Bangalore/Bengaluru   \n",
       "2                                Bangalore/Bengaluru   \n",
       "3                                Bangalore/Bengaluru   \n",
       "4                                Bangalore/Bengaluru   \n",
       "5                                Bangalore/Bengaluru   \n",
       "6                                Bangalore/Bengaluru   \n",
       "7  Hyderabad/Secunderabad, Chennai, Bangalore/Ben...   \n",
       "8            Bangalore/Bengaluru(4th Phase JP Nagar)   \n",
       "9                                Bangalore/Bengaluru   \n",
       "\n",
       "                     Company name Experience required  \n",
       "0            Clario India Pvt Ltd             0-2 Yrs  \n",
       "1                        Flipkart             2-4 Yrs  \n",
       "2                          Cerner            5-10 Yrs  \n",
       "3                        Flipkart             3-6 Yrs  \n",
       "4                        Flipkart             3-8 Yrs  \n",
       "5                        Flipkart             2-4 Yrs  \n",
       "6                        Flipkart             2-4 Yrs  \n",
       "7  Locuz Enterprise Solutions Ltd            5-10 Yrs  \n",
       "8                        izmo ltd             2-3 Yrs  \n",
       "9                           Gojek             3-8 Yrs  "
      ]
     },
     "execution_count": 24,
     "metadata": {},
     "output_type": "execute_result"
    }
   ],
   "source": [
    "#Creating a new dataframe for saving the data\n",
    "jobs=pd.DataFrame({})\n",
    "jobs['Title']=title\n",
    "jobs['Location']=location\n",
    "jobs['Company name']=company\n",
    "jobs['Experience required']=exp\n",
    "jobs"
   ]
  },
  {
   "cell_type": "markdown",
   "id": "f7e993d9",
   "metadata": {},
   "source": [
    "# Question 2"
   ]
  },
  {
   "cell_type": "markdown",
   "id": "10f28ce0",
   "metadata": {},
   "source": [
    "# Q2: Write a python program to scrape data for “Data Scientist” Job position in “Bangalore” location. You\n",
    "have to scrape the job-title, job-location, company_name. You have to scrape first 10 jobs data.\n",
    "This task will be done in following steps:\n",
    "1. First get the webpage https://www.naukri.com/\n",
    "2. Enter “Data Scientist” in “Skill, Designations, Companies” field and enter “Bangalore” in “enter the\n",
    "location” field.\n",
    "3. Then click the search button.\n",
    "4. Then scrape the data for the first 10 jobs results you get.\n",
    "5. Finally create a dataframe of the scraped data."
   ]
  },
  {
   "cell_type": "code",
   "execution_count": 284,
   "id": "34f771e9",
   "metadata": {},
   "outputs": [],
   "source": [
    "#get the webpage\n",
    "url='https://www.naukri.com/'\n",
    "driver.get(url)"
   ]
  },
  {
   "cell_type": "code",
   "execution_count": 285,
   "id": "df3147a1",
   "metadata": {},
   "outputs": [
    {
     "data": {
      "text/plain": [
       "<selenium.webdriver.remote.webelement.WebElement (session=\"dff4ec348e42a7e738e3711c25d6594a\", element=\"dea2ed68-4475-466f-b5b4-6d2917926643\")>"
      ]
     },
     "execution_count": 285,
     "metadata": {},
     "output_type": "execute_result"
    }
   ],
   "source": [
    "# finding web element for search job bar user id\n",
    "search_job=driver.find_element_by_class_name(\"suggestor-input\")\n",
    "search_job"
   ]
  },
  {
   "cell_type": "code",
   "execution_count": 286,
   "id": "5a101f5f",
   "metadata": {},
   "outputs": [],
   "source": [
    "# write on search bar\n",
    "search_job.send_keys(\"Data Scientist\")"
   ]
  },
  {
   "cell_type": "code",
   "execution_count": 287,
   "id": "abb1ef49",
   "metadata": {},
   "outputs": [
    {
     "data": {
      "text/plain": [
       "<selenium.webdriver.remote.webelement.WebElement (session=\"dff4ec348e42a7e738e3711c25d6594a\", element=\"ef773f95-17e9-4565-b2f2-b523ee6119a2\")>"
      ]
     },
     "execution_count": 287,
     "metadata": {},
     "output_type": "execute_result"
    }
   ],
   "source": [
    "# finding web element for search job bar user id\n",
    "search_loc=driver.find_element_by_xpath(\"/html/body/div/div[2]/div[3]/div/div/div[3]/div/div/div/input\")\n",
    "search_loc"
   ]
  },
  {
   "cell_type": "code",
   "execution_count": 288,
   "id": "d77ad30a",
   "metadata": {},
   "outputs": [],
   "source": [
    "search_loc.send_keys(\"Banglore\")"
   ]
  },
  {
   "cell_type": "code",
   "execution_count": 289,
   "id": "ea7df07b",
   "metadata": {},
   "outputs": [
    {
     "data": {
      "text/plain": [
       "<selenium.webdriver.remote.webelement.WebElement (session=\"dff4ec348e42a7e738e3711c25d6594a\", element=\"9f515d26-0168-442b-8d6e-a31f020f1238\")>"
      ]
     },
     "execution_count": 289,
     "metadata": {},
     "output_type": "execute_result"
    }
   ],
   "source": [
    "#clicking using x path function\n",
    "search_btn=driver.find_element_by_xpath(\"/html/body/div/div[2]/div[3]/div/div/div[6]\")\n",
    "search_btn"
   ]
  },
  {
   "cell_type": "code",
   "execution_count": 290,
   "id": "2b038a9a",
   "metadata": {},
   "outputs": [],
   "source": [
    "search_btn.click()"
   ]
  },
  {
   "cell_type": "code",
   "execution_count": 292,
   "id": "aebcc11f",
   "metadata": {},
   "outputs": [
    {
     "data": {
      "text/plain": [
       "[<selenium.webdriver.remote.webelement.WebElement (session=\"dff4ec348e42a7e738e3711c25d6594a\", element=\"0f203890-769f-4ae7-80c3-c6248da9f7b7\")>,\n",
       " <selenium.webdriver.remote.webelement.WebElement (session=\"dff4ec348e42a7e738e3711c25d6594a\", element=\"b0810053-b079-4790-9836-6b3c80049522\")>,\n",
       " <selenium.webdriver.remote.webelement.WebElement (session=\"dff4ec348e42a7e738e3711c25d6594a\", element=\"dff255a3-94a6-4d51-970d-dc8d4a6d063e\")>,\n",
       " <selenium.webdriver.remote.webelement.WebElement (session=\"dff4ec348e42a7e738e3711c25d6594a\", element=\"cb45e158-0078-43d5-af81-fd81b0298c4e\")>,\n",
       " <selenium.webdriver.remote.webelement.WebElement (session=\"dff4ec348e42a7e738e3711c25d6594a\", element=\"520a7558-68af-41be-b900-710486810cf0\")>,\n",
       " <selenium.webdriver.remote.webelement.WebElement (session=\"dff4ec348e42a7e738e3711c25d6594a\", element=\"96b511ea-ac78-4616-a743-2db9b0288736\")>,\n",
       " <selenium.webdriver.remote.webelement.WebElement (session=\"dff4ec348e42a7e738e3711c25d6594a\", element=\"6c240b2a-ba63-48af-8058-7c1487050fa0\")>,\n",
       " <selenium.webdriver.remote.webelement.WebElement (session=\"dff4ec348e42a7e738e3711c25d6594a\", element=\"510ab297-03fd-4aa6-8a4c-f6e4ec4b73e3\")>,\n",
       " <selenium.webdriver.remote.webelement.WebElement (session=\"dff4ec348e42a7e738e3711c25d6594a\", element=\"75a56bff-001d-49da-a146-f33afb095c61\")>,\n",
       " <selenium.webdriver.remote.webelement.WebElement (session=\"dff4ec348e42a7e738e3711c25d6594a\", element=\"57ad45fe-c6af-448c-985e-0d17e50b08b9\")>,\n",
       " <selenium.webdriver.remote.webelement.WebElement (session=\"dff4ec348e42a7e738e3711c25d6594a\", element=\"4d0141c3-7d2c-4830-9ce3-37788489706a\")>,\n",
       " <selenium.webdriver.remote.webelement.WebElement (session=\"dff4ec348e42a7e738e3711c25d6594a\", element=\"4ef404f8-63a6-4157-a0e7-2d99cabc1460\")>,\n",
       " <selenium.webdriver.remote.webelement.WebElement (session=\"dff4ec348e42a7e738e3711c25d6594a\", element=\"b54d99b2-7c2d-4557-8b8f-55c620f47af2\")>,\n",
       " <selenium.webdriver.remote.webelement.WebElement (session=\"dff4ec348e42a7e738e3711c25d6594a\", element=\"b903a6fa-6d53-404f-a582-d1f320140206\")>,\n",
       " <selenium.webdriver.remote.webelement.WebElement (session=\"dff4ec348e42a7e738e3711c25d6594a\", element=\"2a06dc25-432a-42c3-befd-8839988ae4f7\")>,\n",
       " <selenium.webdriver.remote.webelement.WebElement (session=\"dff4ec348e42a7e738e3711c25d6594a\", element=\"cdfdbb03-a2b5-485a-b88b-9313c8dd87df\")>,\n",
       " <selenium.webdriver.remote.webelement.WebElement (session=\"dff4ec348e42a7e738e3711c25d6594a\", element=\"9efeade5-8bdf-4953-8d74-fddfbc29c6bc\")>,\n",
       " <selenium.webdriver.remote.webelement.WebElement (session=\"dff4ec348e42a7e738e3711c25d6594a\", element=\"d9117995-ee98-473f-8068-791fea950041\")>,\n",
       " <selenium.webdriver.remote.webelement.WebElement (session=\"dff4ec348e42a7e738e3711c25d6594a\", element=\"3d773759-3a0e-4070-97e0-92174d87a1ca\")>,\n",
       " <selenium.webdriver.remote.webelement.WebElement (session=\"dff4ec348e42a7e738e3711c25d6594a\", element=\"b3963abe-233c-4dc4-8972-101b3492843b\")>]"
      ]
     },
     "execution_count": 292,
     "metadata": {},
     "output_type": "execute_result"
    }
   ],
   "source": [
    "# extracting data of job title\n",
    "job_title=driver.find_elements_by_xpath(\"//a[@class='title fw500 ellipsis']\")\n",
    "job_title"
   ]
  },
  {
   "cell_type": "code",
   "execution_count": 293,
   "id": "ed8d08b5",
   "metadata": {},
   "outputs": [
    {
     "data": {
      "text/plain": [
       "['Data Scientist III',\n",
       " 'Sr Data Scientist',\n",
       " 'Data Scientist/Senior Data Scientist - Python',\n",
       " 'HCL Tech Opening - Lead Data Scientist',\n",
       " 'Sr . Data Scientist',\n",
       " 'Need Data scientists and data engineers - WFH- less than 30days notice',\n",
       " 'Sr. Data Scientist - Manufacturing Projects - German MNC',\n",
       " 'Principal Data Scientist',\n",
       " 'Data Scientist',\n",
       " 'Data Scientist']"
      ]
     },
     "execution_count": 293,
     "metadata": {},
     "output_type": "execute_result"
    }
   ],
   "source": [
    "#Extracting the text from the tags\n",
    "title=[]  #Empty list\n",
    "\n",
    "#As we need to scrap data for the first 10 job results, we are running a for loop for first 10 results only\n",
    "for i in job_title[:10]:\n",
    "    title.append(i.text)\n",
    "title"
   ]
  },
  {
   "cell_type": "code",
   "execution_count": 294,
   "id": "d333ad91",
   "metadata": {},
   "outputs": [
    {
     "data": {
      "text/plain": [
       "[<selenium.webdriver.remote.webelement.WebElement (session=\"dff4ec348e42a7e738e3711c25d6594a\", element=\"f1db5270-3cd1-46b3-85c3-6f72ecfd6eee\")>,\n",
       " <selenium.webdriver.remote.webelement.WebElement (session=\"dff4ec348e42a7e738e3711c25d6594a\", element=\"2fb050a9-19a1-40c9-ba80-52bd74ff59de\")>,\n",
       " <selenium.webdriver.remote.webelement.WebElement (session=\"dff4ec348e42a7e738e3711c25d6594a\", element=\"d76307eb-54e1-4263-b129-8a3d4b99ec9b\")>,\n",
       " <selenium.webdriver.remote.webelement.WebElement (session=\"dff4ec348e42a7e738e3711c25d6594a\", element=\"4c70c874-18e7-479e-87b7-aa861b43c3f8\")>,\n",
       " <selenium.webdriver.remote.webelement.WebElement (session=\"dff4ec348e42a7e738e3711c25d6594a\", element=\"43f941c3-8af6-4b8a-84cb-9b136681613c\")>,\n",
       " <selenium.webdriver.remote.webelement.WebElement (session=\"dff4ec348e42a7e738e3711c25d6594a\", element=\"27de1235-50da-4cee-9e63-76659c75da81\")>,\n",
       " <selenium.webdriver.remote.webelement.WebElement (session=\"dff4ec348e42a7e738e3711c25d6594a\", element=\"ac587c6e-8e3e-4fbd-b27e-03da79216824\")>,\n",
       " <selenium.webdriver.remote.webelement.WebElement (session=\"dff4ec348e42a7e738e3711c25d6594a\", element=\"a8a67f0a-03a1-4d73-8120-a51d24211a8c\")>,\n",
       " <selenium.webdriver.remote.webelement.WebElement (session=\"dff4ec348e42a7e738e3711c25d6594a\", element=\"356718a9-b196-4b08-b70b-b4971589d1c9\")>,\n",
       " <selenium.webdriver.remote.webelement.WebElement (session=\"dff4ec348e42a7e738e3711c25d6594a\", element=\"2587e45e-1b64-4580-bec5-1fb3985d98ba\")>,\n",
       " <selenium.webdriver.remote.webelement.WebElement (session=\"dff4ec348e42a7e738e3711c25d6594a\", element=\"e267b6cb-518c-488c-aac6-5477dfb73f2f\")>,\n",
       " <selenium.webdriver.remote.webelement.WebElement (session=\"dff4ec348e42a7e738e3711c25d6594a\", element=\"37ec6a65-9d77-4376-b944-2dec8f00bbe3\")>,\n",
       " <selenium.webdriver.remote.webelement.WebElement (session=\"dff4ec348e42a7e738e3711c25d6594a\", element=\"d54d8085-b0e3-4e7d-94c3-892d9fffc621\")>,\n",
       " <selenium.webdriver.remote.webelement.WebElement (session=\"dff4ec348e42a7e738e3711c25d6594a\", element=\"350fafcc-aff2-43c8-8a66-39e728aa61d1\")>,\n",
       " <selenium.webdriver.remote.webelement.WebElement (session=\"dff4ec348e42a7e738e3711c25d6594a\", element=\"e4f4dc1c-c449-44c2-8b7e-a5971666e0ce\")>,\n",
       " <selenium.webdriver.remote.webelement.WebElement (session=\"dff4ec348e42a7e738e3711c25d6594a\", element=\"54cedd70-079b-4172-8a71-6059ba9ae8df\")>,\n",
       " <selenium.webdriver.remote.webelement.WebElement (session=\"dff4ec348e42a7e738e3711c25d6594a\", element=\"133d386a-b9d7-48dd-bfa6-8eb04ce9421f\")>,\n",
       " <selenium.webdriver.remote.webelement.WebElement (session=\"dff4ec348e42a7e738e3711c25d6594a\", element=\"b5f732d9-e69a-4c2a-9c53-ab8e2a53e66b\")>,\n",
       " <selenium.webdriver.remote.webelement.WebElement (session=\"dff4ec348e42a7e738e3711c25d6594a\", element=\"595e4424-1f02-49f1-8166-a3142f94dc18\")>,\n",
       " <selenium.webdriver.remote.webelement.WebElement (session=\"dff4ec348e42a7e738e3711c25d6594a\", element=\"57236a9a-96d0-4fe9-933d-7b6d75ef45cb\")>,\n",
       " <selenium.webdriver.remote.webelement.WebElement (session=\"dff4ec348e42a7e738e3711c25d6594a\", element=\"1798455d-54a3-4dcb-a3eb-c93ea0c10c08\")>]"
      ]
     },
     "execution_count": 294,
     "metadata": {},
     "output_type": "execute_result"
    }
   ],
   "source": [
    "#Extracting all the tags having the job location\n",
    "job_location=driver.find_elements_by_xpath(\"//li[@class='fleft grey-text br2 placeHolderLi location']/span\")\n",
    "job_location"
   ]
  },
  {
   "cell_type": "code",
   "execution_count": 295,
   "id": "d9d7c325",
   "metadata": {},
   "outputs": [
    {
     "data": {
      "text/plain": [
       "['Bangalore/Bengaluru',\n",
       " 'Bangalore/Bengaluru',\n",
       " 'Bangalore/Bengaluru',\n",
       " 'Kolkata, Hyderabad/Secunderabad, Pune, Chennai, Bangalore/Bengaluru, Delhi / NCR',\n",
       " 'Bangalore/Bengaluru',\n",
       " 'Hyderabad/Secunderabad, Bangalore/Bengaluru, Mumbai (All Areas)',\n",
       " '(WFH during Covid)',\n",
       " 'Pune, Bangalore/Bengaluru',\n",
       " 'Bangalore/Bengaluru',\n",
       " 'Bangalore/Bengaluru']"
      ]
     },
     "execution_count": 295,
     "metadata": {},
     "output_type": "execute_result"
    }
   ],
   "source": [
    "#Extracting the text from the tags\n",
    "location=[] \n",
    "#As we need to scrap data for the first 10 job results, we are running a for loop for first 10 results only\n",
    "for i in job_location[:10]:\n",
    "    location.append(i.text)\n",
    "location"
   ]
  },
  {
   "cell_type": "code",
   "execution_count": 296,
   "id": "7be50ff3",
   "metadata": {},
   "outputs": [
    {
     "data": {
      "text/plain": [
       "[<selenium.webdriver.remote.webelement.WebElement (session=\"dff4ec348e42a7e738e3711c25d6594a\", element=\"4c4b4000-d75f-4031-b37c-b83078092310\")>,\n",
       " <selenium.webdriver.remote.webelement.WebElement (session=\"dff4ec348e42a7e738e3711c25d6594a\", element=\"8d0430df-46cb-4d9c-8b51-b632ac65abaa\")>,\n",
       " <selenium.webdriver.remote.webelement.WebElement (session=\"dff4ec348e42a7e738e3711c25d6594a\", element=\"e9a1412d-7c97-417f-aaf5-62b3f4aa5a86\")>,\n",
       " <selenium.webdriver.remote.webelement.WebElement (session=\"dff4ec348e42a7e738e3711c25d6594a\", element=\"eb178580-9534-4041-a7fe-45f33ffa2e33\")>,\n",
       " <selenium.webdriver.remote.webelement.WebElement (session=\"dff4ec348e42a7e738e3711c25d6594a\", element=\"617bcdd7-2f54-44e6-8590-ad036712fe16\")>,\n",
       " <selenium.webdriver.remote.webelement.WebElement (session=\"dff4ec348e42a7e738e3711c25d6594a\", element=\"8155abd6-6910-4911-b10b-0887f5eb834c\")>,\n",
       " <selenium.webdriver.remote.webelement.WebElement (session=\"dff4ec348e42a7e738e3711c25d6594a\", element=\"a9a5bbe3-b295-4f04-bfcc-6d5e2f969cef\")>,\n",
       " <selenium.webdriver.remote.webelement.WebElement (session=\"dff4ec348e42a7e738e3711c25d6594a\", element=\"2e00149a-a110-46d9-9547-8f267690f79f\")>,\n",
       " <selenium.webdriver.remote.webelement.WebElement (session=\"dff4ec348e42a7e738e3711c25d6594a\", element=\"d21d0bfd-9d54-49f5-b948-39590744be08\")>,\n",
       " <selenium.webdriver.remote.webelement.WebElement (session=\"dff4ec348e42a7e738e3711c25d6594a\", element=\"274dccc1-55fc-4ca0-b713-2c783ba3d5a3\")>,\n",
       " <selenium.webdriver.remote.webelement.WebElement (session=\"dff4ec348e42a7e738e3711c25d6594a\", element=\"d26ffec0-4e85-46bf-923f-14ec5210aed8\")>,\n",
       " <selenium.webdriver.remote.webelement.WebElement (session=\"dff4ec348e42a7e738e3711c25d6594a\", element=\"c7d81333-85b5-41a1-82af-fedc557b7776\")>,\n",
       " <selenium.webdriver.remote.webelement.WebElement (session=\"dff4ec348e42a7e738e3711c25d6594a\", element=\"c3096327-bee3-48dd-b741-ab0da57f25fc\")>,\n",
       " <selenium.webdriver.remote.webelement.WebElement (session=\"dff4ec348e42a7e738e3711c25d6594a\", element=\"e9ec0414-ecc7-422c-b73b-bb76d1ef37a0\")>,\n",
       " <selenium.webdriver.remote.webelement.WebElement (session=\"dff4ec348e42a7e738e3711c25d6594a\", element=\"286c7024-cd16-4abc-9b3b-441865ac141b\")>,\n",
       " <selenium.webdriver.remote.webelement.WebElement (session=\"dff4ec348e42a7e738e3711c25d6594a\", element=\"fa3aeb9c-1899-4304-831d-6441418b03ad\")>,\n",
       " <selenium.webdriver.remote.webelement.WebElement (session=\"dff4ec348e42a7e738e3711c25d6594a\", element=\"8e46fad8-134e-43b2-8ee1-1bc88432ba82\")>,\n",
       " <selenium.webdriver.remote.webelement.WebElement (session=\"dff4ec348e42a7e738e3711c25d6594a\", element=\"5d097d08-bc79-4d2c-b851-8be423b73755\")>,\n",
       " <selenium.webdriver.remote.webelement.WebElement (session=\"dff4ec348e42a7e738e3711c25d6594a\", element=\"6def7af5-1861-4945-8b4b-3140f430d1bd\")>,\n",
       " <selenium.webdriver.remote.webelement.WebElement (session=\"dff4ec348e42a7e738e3711c25d6594a\", element=\"ec278d5a-b8a4-4351-b655-cdcf63671ed5\")>]"
      ]
     },
     "execution_count": 296,
     "metadata": {},
     "output_type": "execute_result"
    }
   ],
   "source": [
    "#Extracting the tags having the company name\n",
    "name=driver.find_elements_by_xpath(\"//a[@class='subTitle ellipsis fleft']\")\n",
    "name"
   ]
  },
  {
   "cell_type": "code",
   "execution_count": 297,
   "id": "1366ec0f",
   "metadata": {},
   "outputs": [
    {
     "data": {
      "text/plain": [
       "['Groupon',\n",
       " 'Uber',\n",
       " 'ApicalGo Consultancy',\n",
       " 'HCL',\n",
       " 'Visa',\n",
       " 'Covalense Technologies Private Limited',\n",
       " 'EVOLVE TECHNOLOGIES AND SERVICES PRIVATE LIMITED',\n",
       " 'Mobile Premier League',\n",
       " 'Shell',\n",
       " 'HDFC Bank']"
      ]
     },
     "execution_count": 297,
     "metadata": {},
     "output_type": "execute_result"
    }
   ],
   "source": [
    "#Extracting the text from the tags\n",
    "company=[]  #Empty list\n",
    "\n",
    "#As we need to scrap data for the first 10 job results, we are running a for loop for first 10 results only\n",
    "for i in name[:10]:\n",
    "    company.append(i.text)\n",
    "company"
   ]
  },
  {
   "cell_type": "code",
   "execution_count": 298,
   "id": "bb47674d",
   "metadata": {},
   "outputs": [
    {
     "name": "stdout",
     "output_type": "stream",
     "text": [
      "10 10 10\n"
     ]
    }
   ],
   "source": [
    "#Checking out the length of the data extracted\n",
    "print(len(title),len(location),len(company))"
   ]
  },
  {
   "cell_type": "code",
   "execution_count": 299,
   "id": "4a7ba1d0",
   "metadata": {},
   "outputs": [
    {
     "data": {
      "text/html": [
       "<div>\n",
       "<style scoped>\n",
       "    .dataframe tbody tr th:only-of-type {\n",
       "        vertical-align: middle;\n",
       "    }\n",
       "\n",
       "    .dataframe tbody tr th {\n",
       "        vertical-align: top;\n",
       "    }\n",
       "\n",
       "    .dataframe thead th {\n",
       "        text-align: right;\n",
       "    }\n",
       "</style>\n",
       "<table border=\"1\" class=\"dataframe\">\n",
       "  <thead>\n",
       "    <tr style=\"text-align: right;\">\n",
       "      <th></th>\n",
       "      <th>Title</th>\n",
       "      <th>Company name</th>\n",
       "    </tr>\n",
       "  </thead>\n",
       "  <tbody>\n",
       "    <tr>\n",
       "      <th>0</th>\n",
       "      <td>Data Scientist III</td>\n",
       "      <td>Groupon</td>\n",
       "    </tr>\n",
       "    <tr>\n",
       "      <th>1</th>\n",
       "      <td>Sr Data Scientist</td>\n",
       "      <td>Uber</td>\n",
       "    </tr>\n",
       "    <tr>\n",
       "      <th>2</th>\n",
       "      <td>Data Scientist/Senior Data Scientist - Python</td>\n",
       "      <td>ApicalGo Consultancy</td>\n",
       "    </tr>\n",
       "    <tr>\n",
       "      <th>3</th>\n",
       "      <td>HCL Tech Opening - Lead Data Scientist</td>\n",
       "      <td>HCL</td>\n",
       "    </tr>\n",
       "    <tr>\n",
       "      <th>4</th>\n",
       "      <td>Sr . Data Scientist</td>\n",
       "      <td>Visa</td>\n",
       "    </tr>\n",
       "    <tr>\n",
       "      <th>5</th>\n",
       "      <td>Need Data scientists and data engineers - WFH-...</td>\n",
       "      <td>Covalense Technologies Private Limited</td>\n",
       "    </tr>\n",
       "    <tr>\n",
       "      <th>6</th>\n",
       "      <td>Sr. Data Scientist - Manufacturing Projects - ...</td>\n",
       "      <td>EVOLVE TECHNOLOGIES AND SERVICES PRIVATE LIMITED</td>\n",
       "    </tr>\n",
       "    <tr>\n",
       "      <th>7</th>\n",
       "      <td>Principal Data Scientist</td>\n",
       "      <td>Mobile Premier League</td>\n",
       "    </tr>\n",
       "    <tr>\n",
       "      <th>8</th>\n",
       "      <td>Data Scientist</td>\n",
       "      <td>Shell</td>\n",
       "    </tr>\n",
       "    <tr>\n",
       "      <th>9</th>\n",
       "      <td>Data Scientist</td>\n",
       "      <td>HDFC Bank</td>\n",
       "    </tr>\n",
       "  </tbody>\n",
       "</table>\n",
       "</div>"
      ],
      "text/plain": [
       "                                               Title  \\\n",
       "0                                 Data Scientist III   \n",
       "1                                  Sr Data Scientist   \n",
       "2      Data Scientist/Senior Data Scientist - Python   \n",
       "3             HCL Tech Opening - Lead Data Scientist   \n",
       "4                                Sr . Data Scientist   \n",
       "5  Need Data scientists and data engineers - WFH-...   \n",
       "6  Sr. Data Scientist - Manufacturing Projects - ...   \n",
       "7                           Principal Data Scientist   \n",
       "8                                     Data Scientist   \n",
       "9                                     Data Scientist   \n",
       "\n",
       "                                       Company name  \n",
       "0                                           Groupon  \n",
       "1                                              Uber  \n",
       "2                              ApicalGo Consultancy  \n",
       "3                                               HCL  \n",
       "4                                              Visa  \n",
       "5            Covalense Technologies Private Limited  \n",
       "6  EVOLVE TECHNOLOGIES AND SERVICES PRIVATE LIMITED  \n",
       "7                             Mobile Premier League  \n",
       "8                                             Shell  \n",
       "9                                         HDFC Bank  "
      ]
     },
     "execution_count": 299,
     "metadata": {},
     "output_type": "execute_result"
    }
   ],
   "source": [
    "#Creating a new dataframe for saving the data\n",
    "jobs=pd.DataFrame({})\n",
    "jobs['Title']=title\n",
    "jobs['Company name']=company\n",
    "jobs"
   ]
  },
  {
   "cell_type": "markdown",
   "id": "b0b861cf",
   "metadata": {},
   "source": [
    "# Question 3\n",
    "\n",
    "3: In this question you have to scrape data using the filters available on the webpage as shown below:\n",
    "\n",
    "You have to use the location and salary filter.\n",
    "You have to scrape data for “Data Scientist” designation for first 10 job results.\n",
    "You have to scrape the job-title, job-location, company name, experience required.\n",
    "The location filter to be used is “Delhi/NCR”. The salary filter to be used is “3-6” lakhs\n",
    "\n",
    "The task will be done as shown in the below steps:\n",
    "1. first get the webpage https://www.naukri.com/\n",
    "2. Enter “Data Scientist” in “Skill, Designations, and Companies” field.\n",
    "3. Then click the search button.\n",
    "4. Then apply the location filter and salary filter by checking the respective boxes\n",
    "5. Then scrape the data for the first 10 jobs results you get.\n",
    "6. Finally create a dataframe of the scraped data.\n"
   ]
  },
  {
   "cell_type": "code",
   "execution_count": 40,
   "id": "618e1302",
   "metadata": {},
   "outputs": [],
   "source": [
    "# Get the webpage\n",
    "url='https://www.naukri.com/'\n",
    "driver.get(url)"
   ]
  },
  {
   "cell_type": "code",
   "execution_count": 41,
   "id": "f1433540",
   "metadata": {},
   "outputs": [
    {
     "data": {
      "text/plain": [
       "<selenium.webdriver.remote.webelement.WebElement (session=\"7279a34f9601f89ea68cf44c68234533\", element=\"c2157563-4dd6-4c3b-9fda-08492dc99896\")>"
      ]
     },
     "execution_count": 41,
     "metadata": {},
     "output_type": "execute_result"
    }
   ],
   "source": [
    "# finding web element for search job bar user id\n",
    "search_job=driver.find_element_by_xpath('/html/body/div/div[2]/div[3]/div/div/div[1]/div/div/div/input')\n",
    "search_job"
   ]
  },
  {
   "cell_type": "code",
   "execution_count": 42,
   "id": "3282843d",
   "metadata": {},
   "outputs": [],
   "source": [
    "search_job.send_keys(\"Data Scientist\")# write on the search bar"
   ]
  },
  {
   "cell_type": "code",
   "execution_count": 43,
   "id": "ddefc174",
   "metadata": {},
   "outputs": [
    {
     "data": {
      "text/plain": [
       "<selenium.webdriver.remote.webelement.WebElement (session=\"7279a34f9601f89ea68cf44c68234533\", element=\"505c2a17-00d9-4ab4-b886-5ffc7bc7dd45\")>"
      ]
     },
     "execution_count": 43,
     "metadata": {},
     "output_type": "execute_result"
    }
   ],
   "source": [
    "# findind the webelement for search button\n",
    "search_bttn=driver.find_element_by_xpath('/html/body/div/div[2]/div[3]/div/div/div[6]') \n",
    "search_bttn"
   ]
  },
  {
   "cell_type": "code",
   "execution_count": 44,
   "id": "8456cdec",
   "metadata": {},
   "outputs": [],
   "source": [
    "search_bttn.click() # click on search button"
   ]
  },
  {
   "cell_type": "code",
   "execution_count": 47,
   "id": "d2c76dfd",
   "metadata": {},
   "outputs": [
    {
     "data": {
      "text/plain": [
       "<selenium.webdriver.remote.webelement.WebElement (session=\"7279a34f9601f89ea68cf44c68234533\", element=\"d1b3f152-5a00-40dd-afc5-bfd0c9a63d4f\")>"
      ]
     },
     "execution_count": 47,
     "metadata": {},
     "output_type": "execute_result"
    }
   ],
   "source": [
    "# finding the webelement of location( I AM CHOOSE Delhi/Ncr) in filter section\n",
    "location_filter=driver.find_element_by_xpath('/html/body/div[1]/div[3]/div[2]/section[1]/div[2]/div[3]/div[2]/div[3]/label/i')\n",
    "location_filter "
   ]
  },
  {
   "cell_type": "code",
   "execution_count": 48,
   "id": "f312943d",
   "metadata": {},
   "outputs": [],
   "source": [
    "location_filter.click() # click on the filter button"
   ]
  },
  {
   "cell_type": "code",
   "execution_count": 49,
   "id": "879a9819",
   "metadata": {},
   "outputs": [
    {
     "data": {
      "text/plain": [
       "<selenium.webdriver.remote.webelement.WebElement (session=\"7279a34f9601f89ea68cf44c68234533\", element=\"f1ebed41-fbef-421a-a742-b2e9ae4f624f\")>"
      ]
     },
     "execution_count": 49,
     "metadata": {},
     "output_type": "execute_result"
    }
   ],
   "source": [
    "# finding the webelement of salary( I AM CHHOSE 3-6 LAKH) in filter section\n",
    "salary_filter=driver.find_element_by_xpath('/html/body/div[1]/div[3]/div[2]/section[1]/div[2]/div[4]/div[2]/div[2]/label/i')\n",
    "salary_filter"
   ]
  },
  {
   "cell_type": "code",
   "execution_count": 50,
   "id": "fb2388ea",
   "metadata": {},
   "outputs": [],
   "source": [
    "salary_filter.click() # click on the filter button"
   ]
  },
  {
   "cell_type": "code",
   "execution_count": 51,
   "id": "84bd40ba",
   "metadata": {},
   "outputs": [
    {
     "data": {
      "text/plain": [
       "[]"
      ]
     },
     "execution_count": 51,
     "metadata": {},
     "output_type": "execute_result"
    }
   ],
   "source": [
    "# extracting data of job title\n",
    "jobtitle=driver.find_elements_by_xpath('//a[@class=\"title fw500 ellipsis\"]')\n",
    "jobtitle[:10]"
   ]
  },
  {
   "cell_type": "code",
   "execution_count": 52,
   "id": "8b605000",
   "metadata": {},
   "outputs": [
    {
     "data": {
      "text/plain": [
       "[]"
      ]
     },
     "execution_count": 52,
     "metadata": {},
     "output_type": "execute_result"
    }
   ],
   "source": [
    "#Extracting the text from the tags\n",
    "job=[] #Empty list\n",
    "\n",
    "#As we need to scrap data for the first 10 job results, we are running a for loop for first 10 results only\n",
    "for i in jobtitle [:10]:\n",
    "    job.append(i.text)\n",
    "job    "
   ]
  },
  {
   "cell_type": "code",
   "execution_count": 53,
   "id": "cb2a3027",
   "metadata": {},
   "outputs": [
    {
     "data": {
      "text/plain": [
       "[<selenium.webdriver.remote.webelement.WebElement (session=\"7279a34f9601f89ea68cf44c68234533\", element=\"f092e698-74ac-46c2-a4dd-46b5ba8ddd0f\")>,\n",
       " <selenium.webdriver.remote.webelement.WebElement (session=\"7279a34f9601f89ea68cf44c68234533\", element=\"b1ce5ee5-3800-4962-a343-aa4e2b1974cb\")>,\n",
       " <selenium.webdriver.remote.webelement.WebElement (session=\"7279a34f9601f89ea68cf44c68234533\", element=\"c1b79e35-ea87-4d4d-826a-910b07b7cdaf\")>,\n",
       " <selenium.webdriver.remote.webelement.WebElement (session=\"7279a34f9601f89ea68cf44c68234533\", element=\"1f922c31-ec11-4e37-9424-17ecd5f527b4\")>,\n",
       " <selenium.webdriver.remote.webelement.WebElement (session=\"7279a34f9601f89ea68cf44c68234533\", element=\"d108115c-bb20-4510-8ea0-ce67a8afc055\")>,\n",
       " <selenium.webdriver.remote.webelement.WebElement (session=\"7279a34f9601f89ea68cf44c68234533\", element=\"506caa01-79bb-492a-b573-7e5b90635d4e\")>,\n",
       " <selenium.webdriver.remote.webelement.WebElement (session=\"7279a34f9601f89ea68cf44c68234533\", element=\"98fba598-22d9-4871-9d49-4e82645da63b\")>,\n",
       " <selenium.webdriver.remote.webelement.WebElement (session=\"7279a34f9601f89ea68cf44c68234533\", element=\"26e70dc0-625c-4535-8054-6fc3b674340f\")>,\n",
       " <selenium.webdriver.remote.webelement.WebElement (session=\"7279a34f9601f89ea68cf44c68234533\", element=\"6faa528c-13da-40df-9ac3-4835f43068d6\")>,\n",
       " <selenium.webdriver.remote.webelement.WebElement (session=\"7279a34f9601f89ea68cf44c68234533\", element=\"7349b26d-3ca0-4615-b6ff-c3fabfb074b2\")>]"
      ]
     },
     "execution_count": 53,
     "metadata": {},
     "output_type": "execute_result"
    }
   ],
   "source": [
    "#Extracting all the tags having the job location\n",
    "locationtag=driver.find_elements_by_xpath('//li[@class=\"fleft grey-text br2 placeHolderLi location\"]')\n",
    "locationtag[:10]"
   ]
  },
  {
   "cell_type": "code",
   "execution_count": 54,
   "id": "eb047db8",
   "metadata": {},
   "outputs": [
    {
     "data": {
      "text/plain": [
       "['Noida, Kolkata, Hyderabad/Secunderabad, Pune, Chennai, Bangalore/Bengaluru, Delhi / NCR, Mumbai (All Areas)\\n(WFH during Covid)',\n",
       " 'Noida, New Delhi, Delhi / NCR',\n",
       " 'Noida, New Delhi, Greater Noida',\n",
       " 'Gurgaon/Gurugram',\n",
       " 'Bangalore/Bengaluru, Delhi / NCR\\n(WFH during Covid)',\n",
       " 'Hyderabad/Secunderabad, Pune, Gurgaon/Gurugram, Bangalore/Bengaluru, Delhi / NCR',\n",
       " 'Delhi / NCR\\n(WFH during Covid)',\n",
       " 'Noida, New Delhi, Gurgaon/Gurugram',\n",
       " 'New Delhi, Delhi',\n",
       " 'Kolkata, Hyderabad/Secunderabad, Pune, Ahmedabad, Chennai, Bangalore/Bengaluru, Delhi / NCR, Mumbai (All Areas)\\n(WFH during Covid)']"
      ]
     },
     "execution_count": 54,
     "metadata": {},
     "output_type": "execute_result"
    }
   ],
   "source": [
    "#Extracting the text from the tags\n",
    "location=[] #Empty list\n",
    "\n",
    "#As we need to scrap data for the first 10 location results, we are running a for loop for first 10 results only\n",
    "for i in locationtag [:10]:\n",
    "    location.append(i.text)\n",
    "location"
   ]
  },
  {
   "cell_type": "code",
   "execution_count": 55,
   "id": "e1af5e1c",
   "metadata": {},
   "outputs": [
    {
     "data": {
      "text/plain": [
       "[<selenium.webdriver.remote.webelement.WebElement (session=\"7279a34f9601f89ea68cf44c68234533\", element=\"a6360b02-dea6-4c8b-a1c7-ae7242e94686\")>,\n",
       " <selenium.webdriver.remote.webelement.WebElement (session=\"7279a34f9601f89ea68cf44c68234533\", element=\"caa0e058-f45f-4b9e-9003-3f85dba7fd38\")>,\n",
       " <selenium.webdriver.remote.webelement.WebElement (session=\"7279a34f9601f89ea68cf44c68234533\", element=\"b8929adf-a677-4fc9-9909-94812658ea80\")>,\n",
       " <selenium.webdriver.remote.webelement.WebElement (session=\"7279a34f9601f89ea68cf44c68234533\", element=\"21a5f4c2-007a-4bf1-beb8-03f5c0d8b32d\")>,\n",
       " <selenium.webdriver.remote.webelement.WebElement (session=\"7279a34f9601f89ea68cf44c68234533\", element=\"0a21a4ec-0619-4462-b876-025bf11fa2f6\")>,\n",
       " <selenium.webdriver.remote.webelement.WebElement (session=\"7279a34f9601f89ea68cf44c68234533\", element=\"8dd14caa-b78d-4493-87a5-0fabebca6a67\")>,\n",
       " <selenium.webdriver.remote.webelement.WebElement (session=\"7279a34f9601f89ea68cf44c68234533\", element=\"c48ad7e4-e5e8-47e6-aef6-88ae3a2a1df5\")>,\n",
       " <selenium.webdriver.remote.webelement.WebElement (session=\"7279a34f9601f89ea68cf44c68234533\", element=\"eb6360ff-d5f9-4d59-ace0-188a60ad8e66\")>,\n",
       " <selenium.webdriver.remote.webelement.WebElement (session=\"7279a34f9601f89ea68cf44c68234533\", element=\"8fbb7b54-98c3-43bf-8483-358135da3af9\")>,\n",
       " <selenium.webdriver.remote.webelement.WebElement (session=\"7279a34f9601f89ea68cf44c68234533\", element=\"9e731d41-2e29-4e5e-93d3-451f83d6e5dc\")>]"
      ]
     },
     "execution_count": 55,
     "metadata": {},
     "output_type": "execute_result"
    }
   ],
   "source": [
    "#Extracting all the tags having the Company Name\n",
    "companytag=driver.find_elements_by_xpath('//a[@class=\"subTitle ellipsis fleft\"]')\n",
    "companytag[0:10]"
   ]
  },
  {
   "cell_type": "code",
   "execution_count": 56,
   "id": "3798b29c",
   "metadata": {},
   "outputs": [
    {
     "data": {
      "text/plain": [
       "['NTT Data',\n",
       " 'GABA Consultancy services',\n",
       " 'Lumiq.ai',\n",
       " 'TeamPlus Staffing Solution Pvt Ltd',\n",
       " 'EXL',\n",
       " 'Mount Talent Consulting Private Limited',\n",
       " 'Indihire HR Consultants Private Limited',\n",
       " 'GABA Consultancy services',\n",
       " '2Coms',\n",
       " 'Sejal Consulting Hub']"
      ]
     },
     "execution_count": 56,
     "metadata": {},
     "output_type": "execute_result"
    }
   ],
   "source": [
    "#Extracting the text from the tags\n",
    "company=[] #Empty list\n",
    "\n",
    "#As we need to scrap data for the first 10 company, we are running a for loop for first 10 results only\n",
    "for i in companytag [:10]:\n",
    "    company.append(i.text)\n",
    "company"
   ]
  },
  {
   "cell_type": "code",
   "execution_count": 57,
   "id": "be091f22",
   "metadata": {},
   "outputs": [
    {
     "data": {
      "text/plain": [
       "[<selenium.webdriver.remote.webelement.WebElement (session=\"7279a34f9601f89ea68cf44c68234533\", element=\"134ccaa6-8663-4da4-b717-924efb8d83cc\")>,\n",
       " <selenium.webdriver.remote.webelement.WebElement (session=\"7279a34f9601f89ea68cf44c68234533\", element=\"c96e04ae-2c3f-462c-9d41-a6894da608e8\")>,\n",
       " <selenium.webdriver.remote.webelement.WebElement (session=\"7279a34f9601f89ea68cf44c68234533\", element=\"113fee9d-2a09-4d36-941a-b21a133fa921\")>,\n",
       " <selenium.webdriver.remote.webelement.WebElement (session=\"7279a34f9601f89ea68cf44c68234533\", element=\"2124c6df-fb6c-4cd5-9d39-80956c2766b6\")>,\n",
       " <selenium.webdriver.remote.webelement.WebElement (session=\"7279a34f9601f89ea68cf44c68234533\", element=\"3cafba20-37b2-40c6-8090-284f3cf1bd7d\")>,\n",
       " <selenium.webdriver.remote.webelement.WebElement (session=\"7279a34f9601f89ea68cf44c68234533\", element=\"79658488-7f4e-4c5b-b929-3434f863e199\")>,\n",
       " <selenium.webdriver.remote.webelement.WebElement (session=\"7279a34f9601f89ea68cf44c68234533\", element=\"018e5f76-abc6-4d2d-95c6-daeabb50a2df\")>,\n",
       " <selenium.webdriver.remote.webelement.WebElement (session=\"7279a34f9601f89ea68cf44c68234533\", element=\"1195d030-4a95-4b06-9e44-75b207e5dbd9\")>,\n",
       " <selenium.webdriver.remote.webelement.WebElement (session=\"7279a34f9601f89ea68cf44c68234533\", element=\"a3fee719-96c8-4174-9053-94f09a7f3198\")>,\n",
       " <selenium.webdriver.remote.webelement.WebElement (session=\"7279a34f9601f89ea68cf44c68234533\", element=\"216693d4-055d-487a-97ce-4d81e0a4be69\")>]"
      ]
     },
     "execution_count": 57,
     "metadata": {},
     "output_type": "execute_result"
    }
   ],
   "source": [
    "#Extracting all the experience tag\n",
    "experiencetag=driver.find_elements_by_xpath('//li[@class=\"fleft grey-text br2 placeHolderLi experience\"]')\n",
    "experiencetag[:10]"
   ]
  },
  {
   "cell_type": "code",
   "execution_count": 58,
   "id": "07b65dbb",
   "metadata": {},
   "outputs": [
    {
     "data": {
      "text/plain": [
       "['0-0 Yrs',\n",
       " '0-0 Yrs',\n",
       " '2-6 Yrs',\n",
       " '3-6 Yrs',\n",
       " '3-8 Yrs',\n",
       " '1-4 Yrs',\n",
       " '2-4 Yrs',\n",
       " '0-0 Yrs',\n",
       " '2-7 Yrs',\n",
       " '0-3 Yrs']"
      ]
     },
     "execution_count": 58,
     "metadata": {},
     "output_type": "execute_result"
    }
   ],
   "source": [
    "#Extracting the text from the tags\n",
    "experience=[] #Empty list\n",
    "\n",
    "#As we need to scrap data for the first 10 experience required in company, we are running a for loop for first 10 results only\n",
    "for i in experiencetag [:10]:\n",
    "    experience.append(i.text)\n",
    "experience"
   ]
  },
  {
   "cell_type": "code",
   "execution_count": 59,
   "id": "f66d3db4",
   "metadata": {},
   "outputs": [
    {
     "name": "stdout",
     "output_type": "stream",
     "text": [
      "0 10 10 10\n"
     ]
    }
   ],
   "source": [
    "#Checking out the length of the data extracted\n",
    "print(len(job),len(location),len(company), len(experience))"
   ]
  },
  {
   "cell_type": "code",
   "execution_count": 60,
   "id": "a56a00ce",
   "metadata": {},
   "outputs": [
    {
     "data": {
      "text/html": [
       "<div>\n",
       "<style scoped>\n",
       "    .dataframe tbody tr th:only-of-type {\n",
       "        vertical-align: middle;\n",
       "    }\n",
       "\n",
       "    .dataframe tbody tr th {\n",
       "        vertical-align: top;\n",
       "    }\n",
       "\n",
       "    .dataframe thead th {\n",
       "        text-align: right;\n",
       "    }\n",
       "</style>\n",
       "<table border=\"1\" class=\"dataframe\">\n",
       "  <thead>\n",
       "    <tr style=\"text-align: right;\">\n",
       "      <th></th>\n",
       "      <th>Title</th>\n",
       "      <th>Company Name</th>\n",
       "      <th>Location</th>\n",
       "      <th>Experience required</th>\n",
       "    </tr>\n",
       "  </thead>\n",
       "  <tbody>\n",
       "    <tr>\n",
       "      <th>0</th>\n",
       "      <td>NaN</td>\n",
       "      <td>NTT Data</td>\n",
       "      <td>Noida, Kolkata, Hyderabad/Secunderabad, Pune, ...</td>\n",
       "      <td>0-0 Yrs</td>\n",
       "    </tr>\n",
       "    <tr>\n",
       "      <th>1</th>\n",
       "      <td>NaN</td>\n",
       "      <td>GABA Consultancy services</td>\n",
       "      <td>Noida, New Delhi, Delhi / NCR</td>\n",
       "      <td>0-0 Yrs</td>\n",
       "    </tr>\n",
       "    <tr>\n",
       "      <th>2</th>\n",
       "      <td>NaN</td>\n",
       "      <td>Lumiq.ai</td>\n",
       "      <td>Noida, New Delhi, Greater Noida</td>\n",
       "      <td>2-6 Yrs</td>\n",
       "    </tr>\n",
       "    <tr>\n",
       "      <th>3</th>\n",
       "      <td>NaN</td>\n",
       "      <td>TeamPlus Staffing Solution Pvt Ltd</td>\n",
       "      <td>Gurgaon/Gurugram</td>\n",
       "      <td>3-6 Yrs</td>\n",
       "    </tr>\n",
       "    <tr>\n",
       "      <th>4</th>\n",
       "      <td>NaN</td>\n",
       "      <td>EXL</td>\n",
       "      <td>Bangalore/Bengaluru, Delhi / NCR\\n(WFH during ...</td>\n",
       "      <td>3-8 Yrs</td>\n",
       "    </tr>\n",
       "    <tr>\n",
       "      <th>5</th>\n",
       "      <td>NaN</td>\n",
       "      <td>Mount Talent Consulting Private Limited</td>\n",
       "      <td>Hyderabad/Secunderabad, Pune, Gurgaon/Gurugram...</td>\n",
       "      <td>1-4 Yrs</td>\n",
       "    </tr>\n",
       "    <tr>\n",
       "      <th>6</th>\n",
       "      <td>NaN</td>\n",
       "      <td>Indihire HR Consultants Private Limited</td>\n",
       "      <td>Delhi / NCR\\n(WFH during Covid)</td>\n",
       "      <td>2-4 Yrs</td>\n",
       "    </tr>\n",
       "    <tr>\n",
       "      <th>7</th>\n",
       "      <td>NaN</td>\n",
       "      <td>GABA Consultancy services</td>\n",
       "      <td>Noida, New Delhi, Gurgaon/Gurugram</td>\n",
       "      <td>0-0 Yrs</td>\n",
       "    </tr>\n",
       "    <tr>\n",
       "      <th>8</th>\n",
       "      <td>NaN</td>\n",
       "      <td>2Coms</td>\n",
       "      <td>New Delhi, Delhi</td>\n",
       "      <td>2-7 Yrs</td>\n",
       "    </tr>\n",
       "    <tr>\n",
       "      <th>9</th>\n",
       "      <td>NaN</td>\n",
       "      <td>Sejal Consulting Hub</td>\n",
       "      <td>Kolkata, Hyderabad/Secunderabad, Pune, Ahmedab...</td>\n",
       "      <td>0-3 Yrs</td>\n",
       "    </tr>\n",
       "  </tbody>\n",
       "</table>\n",
       "</div>"
      ],
      "text/plain": [
       "   Title                             Company Name  \\\n",
       "0    NaN                                 NTT Data   \n",
       "1    NaN                GABA Consultancy services   \n",
       "2    NaN                                 Lumiq.ai   \n",
       "3    NaN       TeamPlus Staffing Solution Pvt Ltd   \n",
       "4    NaN                                      EXL   \n",
       "5    NaN  Mount Talent Consulting Private Limited   \n",
       "6    NaN  Indihire HR Consultants Private Limited   \n",
       "7    NaN                GABA Consultancy services   \n",
       "8    NaN                                    2Coms   \n",
       "9    NaN                     Sejal Consulting Hub   \n",
       "\n",
       "                                            Location Experience required  \n",
       "0  Noida, Kolkata, Hyderabad/Secunderabad, Pune, ...             0-0 Yrs  \n",
       "1                      Noida, New Delhi, Delhi / NCR             0-0 Yrs  \n",
       "2                    Noida, New Delhi, Greater Noida             2-6 Yrs  \n",
       "3                                   Gurgaon/Gurugram             3-6 Yrs  \n",
       "4  Bangalore/Bengaluru, Delhi / NCR\\n(WFH during ...             3-8 Yrs  \n",
       "5  Hyderabad/Secunderabad, Pune, Gurgaon/Gurugram...             1-4 Yrs  \n",
       "6                    Delhi / NCR\\n(WFH during Covid)             2-4 Yrs  \n",
       "7                 Noida, New Delhi, Gurgaon/Gurugram             0-0 Yrs  \n",
       "8                                   New Delhi, Delhi             2-7 Yrs  \n",
       "9  Kolkata, Hyderabad/Secunderabad, Pune, Ahmedab...             0-3 Yrs  "
      ]
     },
     "execution_count": 60,
     "metadata": {},
     "output_type": "execute_result"
    }
   ],
   "source": [
    "#Creating a new dataframe for saving the data\n",
    "jobs=pd.DataFrame({})\n",
    "jobs['Title']=job\n",
    "jobs['Company Name']=company\n",
    "jobs['Location']=location\n",
    "jobs['Experience required']=experience\n",
    "jobs"
   ]
  },
  {
   "cell_type": "markdown",
   "id": "262590ea",
   "metadata": {},
   "source": [
    "# Q4: Scrape data of first 100 sunglasses listings on flipkart.com. You have to scrape four attributes:\n",
    "1. Brand\n",
    "2. Product Description\n",
    "3. Price\n",
    "\n",
    "The attributes which you have to scrape is ticked marked in the below image.\n",
    "\n",
    "To scrape the data you have to go through following steps:\n",
    "1. Go to Flipkart webpage by url : https://www.flipkart.com/\n",
    "2. Enter “sunglasses” in the search field where “search for products, brands andmore” is written and\n",
    "click the search icon\n",
    "3. After that you will reach to the page having a lot of sunglasses. From this pageyou can scrap the\n",
    "required data as usual.\n",
    "4. After scraping data from the first page, go to the “Next” Button at the bottom ofthe page , then\n",
    "click on it.\n",
    "5. Now scrape data from this page as usual\n",
    "6. Repeat this until you get data for 100 sunglasses.\n"
   ]
  },
  {
   "cell_type": "code",
   "execution_count": 70,
   "id": "d25d7e36",
   "metadata": {},
   "outputs": [],
   "source": [
    "# Get the webpage\n",
    "url='https://www.flipkart.com/'\n",
    "driver.get(url)"
   ]
  },
  {
   "cell_type": "code",
   "execution_count": 71,
   "id": "553c3b3c",
   "metadata": {},
   "outputs": [
    {
     "data": {
      "text/plain": [
       "<selenium.webdriver.remote.webelement.WebElement (session=\"7279a34f9601f89ea68cf44c68234533\", element=\"2dd29277-5218-4d33-9f17-943b97f9d4dc\")>"
      ]
     },
     "execution_count": 71,
     "metadata": {},
     "output_type": "execute_result"
    }
   ],
   "source": [
    "# finding the web element  of search field where “search for products, brands andmore\n",
    "search_product=driver.find_element_by_xpath('/html/body/div[1]/div/div[1]/div[1]/div[2]/div[2]/form/div/div/input')\n",
    "search_product"
   ]
  },
  {
   "cell_type": "code",
   "execution_count": 72,
   "id": "d6d6f035",
   "metadata": {},
   "outputs": [],
   "source": [
    "search_product.send_keys('sunglasses') # write the sunglasses in search feild"
   ]
  },
  {
   "cell_type": "code",
   "execution_count": 73,
   "id": "e8f8eadf",
   "metadata": {},
   "outputs": [
    {
     "data": {
      "text/plain": [
       "<selenium.webdriver.remote.webelement.WebElement (session=\"7279a34f9601f89ea68cf44c68234533\", element=\"90604bf8-29ab-49a8-b0d1-c3f3602ac716\")>"
      ]
     },
     "execution_count": 73,
     "metadata": {},
     "output_type": "execute_result"
    }
   ],
   "source": [
    "# finding the web element of search boutton\n",
    "search_bttn=driver.find_element_by_xpath('/html/body/div[1]/div/div[1]/div[1]/div[2]/div[2]/form/div/button')\n",
    "search_bttn"
   ]
  },
  {
   "cell_type": "code",
   "execution_count": 75,
   "id": "226f7db7",
   "metadata": {},
   "outputs": [],
   "source": [
    "search_bttn.click() # click on the search Boutton"
   ]
  },
  {
   "cell_type": "code",
   "execution_count": 76,
   "id": "250a7cba",
   "metadata": {},
   "outputs": [
    {
     "data": {
      "text/plain": [
       "[<selenium.webdriver.remote.webelement.WebElement (session=\"7279a34f9601f89ea68cf44c68234533\", element=\"65e116d5-781e-4baf-aad2-e8291adf0f02\")>,\n",
       " <selenium.webdriver.remote.webelement.WebElement (session=\"7279a34f9601f89ea68cf44c68234533\", element=\"5a333ef6-e61e-4ab0-948c-96e6b1728d8e\")>]"
      ]
     },
     "execution_count": 76,
     "metadata": {},
     "output_type": "execute_result"
    }
   ],
   "source": [
    "#Extracting all the tags having the brand Name\n",
    "brand_name=driver.find_elements_by_xpath('//div[@class=\"_2WkVRV\"]')\n",
    "brand_name[:2]"
   ]
  },
  {
   "cell_type": "code",
   "execution_count": 77,
   "id": "3588f973",
   "metadata": {},
   "outputs": [
    {
     "data": {
      "text/plain": [
       "['SRPM',\n",
       " 'SUNBEE',\n",
       " 'ROZZETTA CRAFT',\n",
       " 'PIRASO',\n",
       " 'Elligator',\n",
       " 'DEIXELS',\n",
       " 'Fastrack',\n",
       " 'New Specs',\n",
       " 'PIRASO',\n",
       " 'GANSTA',\n",
       " 'SHAAH COLLECTIONS',\n",
       " 'Lee Topper',\n",
       " 'Lee Topper',\n",
       " 'PIRASO',\n",
       " 'PHENOMENAL',\n",
       " 'kingsunglasses',\n",
       " 'ROYAL SON',\n",
       " 'PIRASO',\n",
       " 'Silver Kartz',\n",
       " 'SUNBEE',\n",
       " 'kingsunglasses',\n",
       " 'PIRASO',\n",
       " 'kingsunglasses',\n",
       " 'Elligator',\n",
       " 'kingsunglasses',\n",
       " 'PIRASO',\n",
       " 'ROYAL SON',\n",
       " 'Fastrack',\n",
       " 'GANSTA',\n",
       " 'NuVew',\n",
       " 'PHENOMENAL',\n",
       " 'SUNBEE',\n",
       " 'SHAAH COLLECTIONS',\n",
       " 'SRPM',\n",
       " 'kingsunglasses',\n",
       " 'SRPM',\n",
       " 'SHAAH COLLECTIONS',\n",
       " 'ROZZETTA CRAFT',\n",
       " 'ROZZETTA CRAFT',\n",
       " 'Silver Kartz']"
      ]
     },
     "execution_count": 77,
     "metadata": {},
     "output_type": "execute_result"
    }
   ],
   "source": [
    "brand = [] # making empty list\n",
    "#As we need to scrap data for the brand name, we are running a for loop \n",
    "for i in brand_name:\n",
    "    brand.append(i.text)\n",
    "brand    "
   ]
  },
  {
   "cell_type": "code",
   "execution_count": 78,
   "id": "b2187215",
   "metadata": {},
   "outputs": [
    {
     "data": {
      "text/plain": [
       "[<selenium.webdriver.remote.webelement.WebElement (session=\"7279a34f9601f89ea68cf44c68234533\", element=\"af3da19c-4810-4a7b-8305-86a2ccff1baa\")>,\n",
       " <selenium.webdriver.remote.webelement.WebElement (session=\"7279a34f9601f89ea68cf44c68234533\", element=\"a588c4ba-f355-41cd-95d4-e1817aef97f3\")>]"
      ]
     },
     "execution_count": 78,
     "metadata": {},
     "output_type": "execute_result"
    }
   ],
   "source": [
    "#Extracting all the tags having the product discription\n",
    "product_discription=driver.find_elements_by_xpath('//a[@class=\"IRpwTa\"]')\n",
    "product_discription[:2]"
   ]
  },
  {
   "cell_type": "code",
   "execution_count": 79,
   "id": "74b2abba",
   "metadata": {},
   "outputs": [
    {
     "data": {
      "text/plain": [
       "['UV Protection Wayfarer Sunglasses (50)',\n",
       " 'UV Protection, Polarized Wayfarer Sunglasses (Free Size...',\n",
       " 'Polarized, Night Vision, Riding Glasses Sports, Wrap-ar...',\n",
       " 'UV Protection Aviator Sunglasses (54)',\n",
       " 'UV Protection Round Sunglasses (54)',\n",
       " 'UV Protection Aviator, Wayfarer Sunglasses (Free Size)',\n",
       " 'UV Protection Rectangular Sunglasses (Free Size)',\n",
       " 'UV Protection Rectangular Sunglasses (Free Size)',\n",
       " 'UV Protection Aviator Sunglasses (54)',\n",
       " 'UV Protection, Riding Glasses Wayfarer Sunglasses (53)',\n",
       " 'UV Protection, Polarized, Mirrored Rectangular Sunglass...',\n",
       " 'Riding Glasses Wrap-around Sunglasses (Free Size)',\n",
       " 'UV Protection Rectangular Sunglasses (Free Size)',\n",
       " 'UV Protection Aviator Sunglasses (54)',\n",
       " 'UV Protection Retro Square Sunglasses (53)',\n",
       " 'Mirrored, UV Protection Wayfarer Sunglasses (Free Size)',\n",
       " 'Mirrored Aviator Sunglasses (55)',\n",
       " 'UV Protection Butterfly Sunglasses (65)',\n",
       " 'UV Protection Wayfarer Sunglasses (Free Size)',\n",
       " 'UV Protection, Polarized, Mirrored Round Sunglasses (Fr...',\n",
       " 'UV Protection Round Sunglasses (Free Size)',\n",
       " 'UV Protection Aviator Sunglasses (58)',\n",
       " 'UV Protection, Riding Glasses, Mirrored Wayfarer Sungla...',\n",
       " 'UV Protection Round Sunglasses (53)',\n",
       " 'UV Protection Round Sunglasses (54)',\n",
       " 'UV Protection Wayfarer Sunglasses (32)',\n",
       " 'Mirrored Aviator Sunglasses (Free Size)',\n",
       " 'UV Protection Wayfarer Sunglasses (Free Size)',\n",
       " 'UV Protection Aviator Sunglasses (57)',\n",
       " 'UV Protection Sports Sunglasses (62)',\n",
       " 'UV Protection Retro Square Sunglasses (Free Size)',\n",
       " 'UV Protection, Polarized, Mirrored Retro Square Sunglas...',\n",
       " 'UV Protection, Polarized, Mirrored Rectangular Sunglass...',\n",
       " 'Others Wayfarer, Retro Square Sunglasses (50)',\n",
       " 'UV Protection Rectangular Sunglasses (Free Size)',\n",
       " 'Night Vision, UV Protection Round Sunglasses (54)',\n",
       " 'UV Protection Round Sunglasses (Free Size)',\n",
       " 'UV Protection, Gradient Rectangular Sunglasses (Free Si...',\n",
       " 'UV Protection Retro Square Sunglasses (Free Size)',\n",
       " 'UV Protection Aviator Sunglasses (88)']"
      ]
     },
     "execution_count": 79,
     "metadata": {},
     "output_type": "execute_result"
    }
   ],
   "source": [
    "product_detail=[] #empty line\n",
    "#As we need to scrap data for the brand name, we are running a for loop \n",
    "for i in product_discription:\n",
    "    product_detail.append(i.text)\n",
    "product_detail    "
   ]
  },
  {
   "cell_type": "code",
   "execution_count": 80,
   "id": "16786fc4",
   "metadata": {},
   "outputs": [
    {
     "data": {
      "text/plain": [
       "[<selenium.webdriver.remote.webelement.WebElement (session=\"7279a34f9601f89ea68cf44c68234533\", element=\"26d7e227-36d3-41cd-8366-491ac7e7023b\")>,\n",
       " <selenium.webdriver.remote.webelement.WebElement (session=\"7279a34f9601f89ea68cf44c68234533\", element=\"a8e0e0e8-cce7-45b6-a401-d20dfd4961ba\")>]"
      ]
     },
     "execution_count": 80,
     "metadata": {},
     "output_type": "execute_result"
    }
   ],
   "source": [
    "#Extracting all the tags having the price detail\n",
    "price_detail=driver.find_elements_by_xpath('//div[@class=\"_30jeq3\"]')\n",
    "price_detail[0:2]"
   ]
  },
  {
   "cell_type": "code",
   "execution_count": 81,
   "id": "42643872",
   "metadata": {},
   "outputs": [
    {
     "data": {
      "text/plain": [
       "['₹198',\n",
       " '₹253',\n",
       " '₹474',\n",
       " '₹229',\n",
       " '₹258',\n",
       " '₹202',\n",
       " '₹679',\n",
       " '₹232',\n",
       " '₹225',\n",
       " '₹198',\n",
       " '₹165',\n",
       " '₹275',\n",
       " '₹199',\n",
       " '₹225',\n",
       " '₹289',\n",
       " '₹239',\n",
       " '₹379',\n",
       " '₹375',\n",
       " '₹246',\n",
       " '₹284',\n",
       " '₹289',\n",
       " '₹349',\n",
       " '₹184',\n",
       " '₹189',\n",
       " '₹186',\n",
       " '₹225',\n",
       " '₹379',\n",
       " '₹639',\n",
       " '₹284',\n",
       " '₹327',\n",
       " '₹328',\n",
       " '₹230',\n",
       " '₹181',\n",
       " '₹178',\n",
       " '₹180',\n",
       " '₹199',\n",
       " '₹284',\n",
       " '₹379',\n",
       " '₹474',\n",
       " '₹255']"
      ]
     },
     "execution_count": 81,
     "metadata": {},
     "output_type": "execute_result"
    }
   ],
   "source": [
    "price=[] #empty line\n",
    "#As we need to scrap data for the brand name, we are running a for loop \n",
    "for i in price_detail:\n",
    "    price.append(i.text)\n",
    "price  "
   ]
  },
  {
   "cell_type": "code",
   "execution_count": 82,
   "id": "2fa5a9cc",
   "metadata": {},
   "outputs": [
    {
     "data": {
      "text/plain": [
       "<selenium.webdriver.remote.webelement.WebElement (session=\"7279a34f9601f89ea68cf44c68234533\", element=\"375e181c-d72c-4d67-93fd-4c30e9b40bb0\")>"
      ]
     },
     "execution_count": 82,
     "metadata": {},
     "output_type": "execute_result"
    }
   ],
   "source": [
    "# finding the element on next button\n",
    "next_bttn=driver.find_element_by_xpath('/html/body/div[1]/div/div[3]/div[1]/div[2]/div[12]/div/div/nav/a[11]/span')\n",
    "next_bttn"
   ]
  },
  {
   "cell_type": "code",
   "execution_count": 83,
   "id": "e77dd999",
   "metadata": {},
   "outputs": [],
   "source": [
    "next_bttn.click() #click on next button"
   ]
  },
  {
   "cell_type": "code",
   "execution_count": 84,
   "id": "a1c1c621",
   "metadata": {},
   "outputs": [
    {
     "data": {
      "text/plain": [
       "[<selenium.webdriver.remote.webelement.WebElement (session=\"7279a34f9601f89ea68cf44c68234533\", element=\"0aa1b0f1-96ec-4629-aec0-f48fdfaf14b0\")>,\n",
       " <selenium.webdriver.remote.webelement.WebElement (session=\"7279a34f9601f89ea68cf44c68234533\", element=\"ad3cdaeb-7fea-449d-a8e4-2b6830bb76a9\")>]"
      ]
     },
     "execution_count": 84,
     "metadata": {},
     "output_type": "execute_result"
    }
   ],
   "source": [
    "#Extracting all the tags having the brand name of 2nd page\n",
    "brand_name2=driver.find_elements_by_xpath('//div[@class=\"_2WkVRV\"]')\n",
    "brand_name2[:2]"
   ]
  },
  {
   "cell_type": "code",
   "execution_count": 85,
   "id": "0910c005",
   "metadata": {},
   "outputs": [
    {
     "data": {
      "text/plain": [
       "['ROZZETTA CRAFT',\n",
       " 'ROZZETTA CRAFT',\n",
       " 'SRPM',\n",
       " 'Elligator',\n",
       " 'New Specs',\n",
       " 'ROZZETTA CRAFT',\n",
       " 'Fastrack',\n",
       " 'PHENOMENAL',\n",
       " 'ROYAL SON',\n",
       " 'Fastrack',\n",
       " 'New Specs',\n",
       " 'IDEE',\n",
       " 'hipe',\n",
       " 'New Specs',\n",
       " 'Lee Topper',\n",
       " 'kingsunglasses',\n",
       " 'PIRASO',\n",
       " 'Singco India',\n",
       " 'Lee Topper',\n",
       " 'Fastrack',\n",
       " 'SUNBEE',\n",
       " 'PHENOMENAL',\n",
       " 'Rich Club',\n",
       " 'hipe',\n",
       " 'kingsunglasses',\n",
       " 'Fastrack',\n",
       " 'PHENOMENAL',\n",
       " 'Fastrack',\n",
       " 'kingsunglasses',\n",
       " 'Fastrack',\n",
       " 'Fastrack',\n",
       " 'ROYAL SON',\n",
       " 'Fastrack',\n",
       " 'Singco India',\n",
       " 'PIRASO',\n",
       " 'ROZZETTA CRAFT',\n",
       " 'Fastrack',\n",
       " 'kingsunglasses',\n",
       " 'kingsunglasses',\n",
       " 'hipe']"
      ]
     },
     "execution_count": 85,
     "metadata": {},
     "output_type": "execute_result"
    }
   ],
   "source": [
    "brand2 = [] # making empty list\n",
    "#As we need to scrap data for the brand name, we are running a for loop \n",
    "for i in brand_name2:\n",
    "    brand2.append(i.text)\n",
    "brand2  "
   ]
  },
  {
   "cell_type": "code",
   "execution_count": 86,
   "id": "bff2a206",
   "metadata": {},
   "outputs": [
    {
     "data": {
      "text/plain": [
       "[<selenium.webdriver.remote.webelement.WebElement (session=\"7279a34f9601f89ea68cf44c68234533\", element=\"67556be6-9980-47d8-ba8e-badfdf2a0675\")>,\n",
       " <selenium.webdriver.remote.webelement.WebElement (session=\"7279a34f9601f89ea68cf44c68234533\", element=\"64e33369-3408-480e-a2f9-4863048d55c0\")>]"
      ]
     },
     "execution_count": 86,
     "metadata": {},
     "output_type": "execute_result"
    }
   ],
   "source": [
    "#Extracting all the tags having the product discription of 2nd page\n",
    "product_discription2=driver.find_elements_by_xpath('//a[@class=\"IRpwTa\"]')\n",
    "product_discription2[:2]"
   ]
  },
  {
   "cell_type": "code",
   "execution_count": 87,
   "id": "1431e1a3",
   "metadata": {},
   "outputs": [
    {
     "data": {
      "text/plain": [
       "['UV Protection Retro Square Sunglasses (Free Size)',\n",
       " 'UV Protection, Gradient Rectangular Sunglasses (Free Si...',\n",
       " 'UV Protection Wayfarer Sunglasses (53)',\n",
       " 'UV Protection Wayfarer Sunglasses (53)',\n",
       " 'UV Protection, Mirrored Sports Sunglasses (Free Size)',\n",
       " 'UV Protection, Gradient Round Sunglasses (Free Size)',\n",
       " 'UV Protection Shield Sunglasses (Free Size)',\n",
       " 'UV Protection Clubmaster Sunglasses (Free Size)',\n",
       " 'UV Protection Rectangular Sunglasses (58)',\n",
       " 'Gradient, UV Protection Wayfarer Sunglasses (Free Size)',\n",
       " 'Mirrored, UV Protection, Riding Glasses, Others Round S...',\n",
       " 'UV Protection Rectangular Sunglasses (59)',\n",
       " 'UV Protection, Gradient, Mirrored, Riding Glasses Aviat...',\n",
       " 'UV Protection Aviator Sunglasses (Free Size)',\n",
       " 'Riding Glasses, Night Vision Wrap-around Sunglasses (Fr...',\n",
       " 'Mirrored, UV Protection Wayfarer, Rectangular Sunglasse...',\n",
       " 'UV Protection Butterfly Sunglasses (60)',\n",
       " 'Riding Glasses, UV Protection, Others Aviator Sunglasse...',\n",
       " 'UV Protection, Riding Glasses Retro Square, Spectacle ...',\n",
       " 'UV Protection Wayfarer Sunglasses (Free Size)',\n",
       " 'UV Protection, Polarized, Mirrored Wayfarer Sunglasses ...',\n",
       " 'UV Protection, Mirrored Retro Square Sunglasses (53)',\n",
       " 'Polarized Round Sunglasses (48)',\n",
       " 'UV Protection Sports Sunglasses (Free Size)',\n",
       " 'Mirrored, UV Protection Aviator Sunglasses (56)',\n",
       " 'UV Protection Aviator Sunglasses (Free Size)',\n",
       " 'UV Protection, Mirrored Retro Square Sunglasses (53)',\n",
       " 'UV Protection Aviator Sunglasses (Free Size)',\n",
       " 'UV Protection, Mirrored Round Sunglasses (Free Size)',\n",
       " 'UV Protection Wayfarer Sunglasses (Free Size)',\n",
       " 'UV Protection Wayfarer Sunglasses (55)',\n",
       " 'Mirrored Aviator Sunglasses (55)',\n",
       " 'Polarized Retro Square Sunglasses (Free Size)',\n",
       " 'Mirrored, Riding Glasses, Others Sports Sunglasses (50)',\n",
       " 'Mirrored Aviator Sunglasses (32)',\n",
       " 'UV Protection Aviator Sunglasses (62)',\n",
       " 'UV Protection Wayfarer Sunglasses (Free Size)',\n",
       " 'UV Protection Rectangular Sunglasses (55)',\n",
       " 'Mirrored, UV Protection Wayfarer Sunglasses (53)',\n",
       " 'UV Protection, Gradient, Riding Glasses Wayfarer Sungla...']"
      ]
     },
     "execution_count": 87,
     "metadata": {},
     "output_type": "execute_result"
    }
   ],
   "source": [
    "product_detail2=[] #empty line\n",
    "#As we need to scrap data for the brand name, we are running a for loop \n",
    "for i in product_discription2:\n",
    "    product_detail2.append(i.text)\n",
    "product_detail2 "
   ]
  },
  {
   "cell_type": "code",
   "execution_count": 88,
   "id": "811ec3b7",
   "metadata": {},
   "outputs": [
    {
     "data": {
      "text/plain": [
       "[<selenium.webdriver.remote.webelement.WebElement (session=\"7279a34f9601f89ea68cf44c68234533\", element=\"b1324b7b-90e8-4380-9d21-e30e744e3714\")>,\n",
       " <selenium.webdriver.remote.webelement.WebElement (session=\"7279a34f9601f89ea68cf44c68234533\", element=\"bba9ad21-34a6-4d93-9c45-ee630aa523d4\")>]"
      ]
     },
     "execution_count": 88,
     "metadata": {},
     "output_type": "execute_result"
    }
   ],
   "source": [
    "#Extracting all the tags having the price detail of 2nd page\n",
    "price_detail2=driver.find_elements_by_xpath('//div[@class=\"_30jeq3\"]')\n",
    "price_detail2[0:2]"
   ]
  },
  {
   "cell_type": "code",
   "execution_count": 89,
   "id": "50127a0c",
   "metadata": {},
   "outputs": [
    {
     "data": {
      "text/plain": [
       "['₹474',\n",
       " '₹379',\n",
       " '₹220',\n",
       " '₹176',\n",
       " '₹155',\n",
       " '₹342',\n",
       " '₹721',\n",
       " '₹307',\n",
       " '₹474',\n",
       " '₹709',\n",
       " '₹263',\n",
       " '₹1,009',\n",
       " '₹198',\n",
       " '₹183',\n",
       " '₹276',\n",
       " '₹258',\n",
       " '₹375',\n",
       " '₹208',\n",
       " '₹375',\n",
       " '₹639',\n",
       " '₹253',\n",
       " '₹317',\n",
       " '₹175',\n",
       " '₹258',\n",
       " '₹219',\n",
       " '₹546',\n",
       " '₹317',\n",
       " '₹584',\n",
       " '₹239',\n",
       " '₹799',\n",
       " '₹759',\n",
       " '₹379',\n",
       " '₹639',\n",
       " '₹194',\n",
       " '₹199',\n",
       " '₹616',\n",
       " '₹799',\n",
       " '₹233',\n",
       " '₹258',\n",
       " '₹209']"
      ]
     },
     "execution_count": 89,
     "metadata": {},
     "output_type": "execute_result"
    }
   ],
   "source": [
    "price2=[] #empty line\n",
    "#As we need to scrap data for the brand name, we are running a for loop \n",
    "for i in price_detail2:\n",
    "    price2.append(i.text)\n",
    "price2 "
   ]
  },
  {
   "cell_type": "code",
   "execution_count": 90,
   "id": "4aeb0e0f",
   "metadata": {},
   "outputs": [],
   "source": [
    "next_bttn.click() #click on next button"
   ]
  },
  {
   "cell_type": "code",
   "execution_count": 91,
   "id": "34690350",
   "metadata": {},
   "outputs": [
    {
     "data": {
      "text/plain": [
       "[<selenium.webdriver.remote.webelement.WebElement (session=\"7279a34f9601f89ea68cf44c68234533\", element=\"3f24860b-8e85-4a8f-af88-37bc530e9be3\")>,\n",
       " <selenium.webdriver.remote.webelement.WebElement (session=\"7279a34f9601f89ea68cf44c68234533\", element=\"05d9de4e-60d5-46cc-a06e-f7afd8918f25\")>]"
      ]
     },
     "execution_count": 91,
     "metadata": {},
     "output_type": "execute_result"
    }
   ],
   "source": [
    "#Extracting all the tags having the brand name of 3rd page\n",
    "brand_name3=driver.find_elements_by_xpath('//div[@class=\"_2WkVRV\"]')\n",
    "brand_name3[:2]"
   ]
  },
  {
   "cell_type": "code",
   "execution_count": 92,
   "id": "91ce430f",
   "metadata": {},
   "outputs": [
    {
     "data": {
      "text/plain": [
       "['Rich Club',\n",
       " 'Rich Club',\n",
       " 'Fastrack',\n",
       " 'VINCENT CHASE',\n",
       " 'GANSTA',\n",
       " 'AISLIN',\n",
       " 'elegante',\n",
       " 'VINCENT CHASE',\n",
       " 'hipe',\n",
       " 'hipe',\n",
       " 'kingsunglasses',\n",
       " 'povty',\n",
       " 'Rich Club',\n",
       " 'ROYAL SON',\n",
       " 'ROYAL SON',\n",
       " 'VINCENT CHASE',\n",
       " 'Elligator',\n",
       " 'Fastrack',\n",
       " 'kingsunglasses',\n",
       " 'LOUIS KOUROS']"
      ]
     },
     "execution_count": 92,
     "metadata": {},
     "output_type": "execute_result"
    }
   ],
   "source": [
    "brand3 = [] # making empty list\n",
    "#As we need to scrap data for the brand name, we are running a for loop \n",
    "for i in brand_name3[:20]:\n",
    "    brand3.append(i.text)\n",
    "brand3  "
   ]
  },
  {
   "cell_type": "code",
   "execution_count": 93,
   "id": "396f1b14",
   "metadata": {},
   "outputs": [
    {
     "data": {
      "text/plain": [
       "[<selenium.webdriver.remote.webelement.WebElement (session=\"7279a34f9601f89ea68cf44c68234533\", element=\"f9e3c530-7ac2-4115-af87-cceee1a21b94\")>,\n",
       " <selenium.webdriver.remote.webelement.WebElement (session=\"7279a34f9601f89ea68cf44c68234533\", element=\"51ce67ea-1752-4751-88c8-52a0a97e1b05\")>]"
      ]
     },
     "execution_count": 93,
     "metadata": {},
     "output_type": "execute_result"
    }
   ],
   "source": [
    "#Extracting all the tags having the product discription of 3rd page\n",
    "product_discription3=driver.find_elements_by_xpath('//a[@class=\"IRpwTa\"]')\n",
    "product_discription3[:2]"
   ]
  },
  {
   "cell_type": "code",
   "execution_count": 94,
   "id": "41aa1b3f",
   "metadata": {},
   "outputs": [
    {
     "data": {
      "text/plain": [
       "['UV Protection, Polarized Oval, Retro Square Sunglasses ...',\n",
       " 'UV Protection Round Sunglasses (48)',\n",
       " 'UV Protection Aviator Sunglasses (58)',\n",
       " 'by Lenskart Polarized, UV Protection Round Sunglasses (...',\n",
       " 'Night Vision, Riding Glasses Wayfarer Sunglasses (53)',\n",
       " 'UV Protection Wayfarer Sunglasses (58)',\n",
       " 'UV Protection Wayfarer Sunglasses (Free Size)',\n",
       " 'by Lenskart Polarized, UV Protection Aviator Sunglasses...',\n",
       " 'Mirrored, UV Protection, Gradient Round Sunglasses (55)',\n",
       " 'Mirrored, Gradient, Riding Glasses Round Sunglasses (55...',\n",
       " 'UV Protection, Others Round, Aviator Sunglasses (54)',\n",
       " 'UV Protection Retro Square Sunglasses (Free Size)',\n",
       " 'Polarized Round Sunglasses (48)',\n",
       " 'Polarized Rectangular Sunglasses (60)',\n",
       " 'UV Protection Retro Square Sunglasses (58)',\n",
       " 'by Lenskart Polarized, UV Protection Round Sunglasses (...',\n",
       " 'UV Protection Retro Square, Round Sunglasses (54)',\n",
       " 'UV Protection Round Sunglasses (55)',\n",
       " 'UV Protection Rectangular Sunglasses (55)',\n",
       " 'UV Protection, Riding Glasses, Mirrored Aviator Sunglas...']"
      ]
     },
     "execution_count": 94,
     "metadata": {},
     "output_type": "execute_result"
    }
   ],
   "source": [
    "product_detail3=[] #empty line\n",
    "#As we need to scrap data for the brand name, we are running a for loop \n",
    "for i in product_discription3[:20]:\n",
    "    product_detail3.append(i.text)\n",
    "product_detail3 "
   ]
  },
  {
   "cell_type": "code",
   "execution_count": 95,
   "id": "7b8e1413",
   "metadata": {},
   "outputs": [
    {
     "data": {
      "text/plain": [
       "[<selenium.webdriver.remote.webelement.WebElement (session=\"7279a34f9601f89ea68cf44c68234533\", element=\"3bad3f89-4f61-4e3d-9ee3-9ab0d7fbf4f1\")>,\n",
       " <selenium.webdriver.remote.webelement.WebElement (session=\"7279a34f9601f89ea68cf44c68234533\", element=\"0a8f9c59-0b3f-42d5-9924-63ecefd3dc72\")>]"
      ]
     },
     "execution_count": 95,
     "metadata": {},
     "output_type": "execute_result"
    }
   ],
   "source": [
    "#Extracting all the tags having the price detail of 3rd page\n",
    "price_detail3=driver.find_elements_by_xpath('//div[@class=\"_30jeq3\"]')\n",
    "price_detail3[0:2]"
   ]
  },
  {
   "cell_type": "code",
   "execution_count": 96,
   "id": "39f9f2ae",
   "metadata": {},
   "outputs": [
    {
     "data": {
      "text/plain": [
       "['₹179',\n",
       " '₹260',\n",
       " '₹1,229',\n",
       " '₹1,344',\n",
       " '₹198',\n",
       " '₹441',\n",
       " '₹399',\n",
       " '₹980',\n",
       " '₹179',\n",
       " '₹179',\n",
       " '₹179',\n",
       " '₹299',\n",
       " '₹165',\n",
       " '₹664',\n",
       " '₹474',\n",
       " '₹799',\n",
       " '₹311',\n",
       " '₹854',\n",
       " '₹162',\n",
       " '₹1,349']"
      ]
     },
     "execution_count": 96,
     "metadata": {},
     "output_type": "execute_result"
    }
   ],
   "source": [
    "price3=[] #empty line\n",
    "#As we need to scrap data for the brand name, we are running a for loop \n",
    "for i in price_detail3[:20]:\n",
    "    price3.append(i.text)\n",
    "price3"
   ]
  },
  {
   "cell_type": "code",
   "execution_count": 97,
   "id": "16950a29",
   "metadata": {},
   "outputs": [
    {
     "data": {
      "text/html": [
       "<div>\n",
       "<style scoped>\n",
       "    .dataframe tbody tr th:only-of-type {\n",
       "        vertical-align: middle;\n",
       "    }\n",
       "\n",
       "    .dataframe tbody tr th {\n",
       "        vertical-align: top;\n",
       "    }\n",
       "\n",
       "    .dataframe thead th {\n",
       "        text-align: right;\n",
       "    }\n",
       "</style>\n",
       "<table border=\"1\" class=\"dataframe\">\n",
       "  <thead>\n",
       "    <tr style=\"text-align: right;\">\n",
       "      <th></th>\n",
       "      <th>Brand</th>\n",
       "      <th>Product Detail</th>\n",
       "      <th>Price</th>\n",
       "    </tr>\n",
       "  </thead>\n",
       "  <tbody>\n",
       "    <tr>\n",
       "      <th>0</th>\n",
       "      <td>SRPM</td>\n",
       "      <td>UV Protection Wayfarer Sunglasses (50)</td>\n",
       "      <td>₹198</td>\n",
       "    </tr>\n",
       "    <tr>\n",
       "      <th>1</th>\n",
       "      <td>SUNBEE</td>\n",
       "      <td>UV Protection, Polarized Wayfarer Sunglasses (...</td>\n",
       "      <td>₹253</td>\n",
       "    </tr>\n",
       "    <tr>\n",
       "      <th>2</th>\n",
       "      <td>ROZZETTA CRAFT</td>\n",
       "      <td>Polarized, Night Vision, Riding Glasses Sports...</td>\n",
       "      <td>₹474</td>\n",
       "    </tr>\n",
       "    <tr>\n",
       "      <th>3</th>\n",
       "      <td>PIRASO</td>\n",
       "      <td>UV Protection Aviator Sunglasses (54)</td>\n",
       "      <td>₹229</td>\n",
       "    </tr>\n",
       "    <tr>\n",
       "      <th>4</th>\n",
       "      <td>Elligator</td>\n",
       "      <td>UV Protection Round Sunglasses (54)</td>\n",
       "      <td>₹258</td>\n",
       "    </tr>\n",
       "    <tr>\n",
       "      <th>...</th>\n",
       "      <td>...</td>\n",
       "      <td>...</td>\n",
       "      <td>...</td>\n",
       "    </tr>\n",
       "    <tr>\n",
       "      <th>95</th>\n",
       "      <td>VINCENT CHASE</td>\n",
       "      <td>by Lenskart Polarized, UV Protection Round Sun...</td>\n",
       "      <td>₹799</td>\n",
       "    </tr>\n",
       "    <tr>\n",
       "      <th>96</th>\n",
       "      <td>Elligator</td>\n",
       "      <td>UV Protection Retro Square, Round Sunglasses (54)</td>\n",
       "      <td>₹311</td>\n",
       "    </tr>\n",
       "    <tr>\n",
       "      <th>97</th>\n",
       "      <td>Fastrack</td>\n",
       "      <td>UV Protection Round Sunglasses (55)</td>\n",
       "      <td>₹854</td>\n",
       "    </tr>\n",
       "    <tr>\n",
       "      <th>98</th>\n",
       "      <td>kingsunglasses</td>\n",
       "      <td>UV Protection Rectangular Sunglasses (55)</td>\n",
       "      <td>₹162</td>\n",
       "    </tr>\n",
       "    <tr>\n",
       "      <th>99</th>\n",
       "      <td>LOUIS KOUROS</td>\n",
       "      <td>UV Protection, Riding Glasses, Mirrored Aviato...</td>\n",
       "      <td>₹1,349</td>\n",
       "    </tr>\n",
       "  </tbody>\n",
       "</table>\n",
       "<p>100 rows × 3 columns</p>\n",
       "</div>"
      ],
      "text/plain": [
       "             Brand                                     Product Detail   Price\n",
       "0             SRPM             UV Protection Wayfarer Sunglasses (50)    ₹198\n",
       "1           SUNBEE  UV Protection, Polarized Wayfarer Sunglasses (...    ₹253\n",
       "2   ROZZETTA CRAFT  Polarized, Night Vision, Riding Glasses Sports...    ₹474\n",
       "3           PIRASO              UV Protection Aviator Sunglasses (54)    ₹229\n",
       "4        Elligator                UV Protection Round Sunglasses (54)    ₹258\n",
       "..             ...                                                ...     ...\n",
       "95   VINCENT CHASE  by Lenskart Polarized, UV Protection Round Sun...    ₹799\n",
       "96       Elligator  UV Protection Retro Square, Round Sunglasses (54)    ₹311\n",
       "97        Fastrack                UV Protection Round Sunglasses (55)    ₹854\n",
       "98  kingsunglasses          UV Protection Rectangular Sunglasses (55)    ₹162\n",
       "99    LOUIS KOUROS  UV Protection, Riding Glasses, Mirrored Aviato...  ₹1,349\n",
       "\n",
       "[100 rows x 3 columns]"
      ]
     },
     "execution_count": 97,
     "metadata": {},
     "output_type": "execute_result"
    }
   ],
   "source": [
    "glass=pd.DataFrame({}) # making the dataframe by adding the data of 3pages\n",
    "glass['Brand']=brand+brand2+brand3\n",
    "glass['Product Detail']=product_detail+product_detail2+product_detail3\n",
    "glass['Price']=price+price2+price3\n",
    "glass"
   ]
  },
  {
   "cell_type": "markdown",
   "id": "8387338a",
   "metadata": {},
   "source": [
    "# Q5: Scrape 100 reviews data from flipkart.com for iphone11 phone. You have to go the link:\n",
    "https://www.flipkart.com/apple-iphone-11-black-64-gb-includes- earpods-poweradapter/p/itm0f37c2240b217?pid=MOBFKCTSVZAXUHGR&lid=LSTMOBFKC\n",
    "TSVZAXUHGREPBFGI&marketplace.\n",
    "\n",
    "As shown in the above page you have to scrape the tick marked attributes.These are:\n",
    "1. Rating\n",
    "2. Review summary\n",
    "3. Full review\n",
    "4. You have to scrape this data for first 100 reviews.\n",
    "Note: All the steps required during scraping should be done through code only and not manually."
   ]
  },
  {
   "cell_type": "code",
   "execution_count": 268,
   "id": "f0478452",
   "metadata": {},
   "outputs": [],
   "source": [
    "driver.get(\" https://www.flipkart.com/apple-iphone-11-black-64-gb-includes-earpods-power-adapter/p/itm0f37c2240b217?pid=MOBFKCTSVZAXUHGR&lid=LSTMOBFKCTSVZAXUHGREPBFGI&marketplace.\")\n",
    "driver.maximize_window()\n",
    "\n",
    "#seeing all the reviews\n",
    "All_rev = driver.find_element_by_xpath(\"//div[@class='_3UAT2v _16PBlm']/span\")\n",
    "All_rev.click()"
   ]
  },
  {
   "cell_type": "code",
   "execution_count": 275,
   "id": "c5ea076c",
   "metadata": {},
   "outputs": [],
   "source": [
    "#sorting the required information and storing in the list.\n",
    "Rating = []\n",
    "Review_summary = []\n",
    "Full_review = []\n",
    "\n",
    "while True:\n",
    "    \n",
    "    \n",
    "    for i in driver.find_elements_by_xpath(\"//div[@class = 'col _2wzgFH K0kLPL']/div[@class= 'row']/div\"):\n",
    "        Rating.append(i.text)\n",
    "        if len(Rating) == 200:\n",
    "            break \n",
    "            \n",
    "    for i in driver.find_elements_by_xpath(\"//div[@class= 'row']//p[@class = '_2-N8zT']\"):\n",
    "        Review_summary.append(i.text)\n",
    "        if len(Review_summary) == 100:\n",
    "            break \n",
    "            \n",
    "    for i in driver.find_elements_by_xpath(\"//div[@class= 't-ZTKy']//div[@class]\"):\n",
    "        Full_review.append(i.text.replace('\\n',''))\n",
    "        if len(Full_review) == 100:\n",
    "            break \n",
    "        \n",
    "    if len(Full_review) == 100:\n",
    "        break    \n",
    "                \n",
    "    for i in driver.find_elements_by_xpath(\"//nav[@class='yFHi8N']//a[@class='_1LKTO3']\"):\n",
    "        next=[i.get_attribute(\"href\")]\n",
    "    \n",
    "    \n",
    "        \n",
    "    for n in next:\n",
    "        driver.get(n)\n",
    "        \n",
    "        \n",
    "driver.close()\n",
    "\n",
    "Rat = [] # Since Product_Description have many unwanted information am following this method to clense it.\n",
    "for i in range(0,len(Rating)):\n",
    "    if i == 0 or  i/2 == i//2:\n",
    "        Rat.append(Rating[i])        "
   ]
  },
  {
   "cell_type": "code",
   "execution_count": 277,
   "id": "69b2f748",
   "metadata": {},
   "outputs": [
    {
     "data": {
      "text/html": [
       "<div>\n",
       "<style scoped>\n",
       "    .dataframe tbody tr th:only-of-type {\n",
       "        vertical-align: middle;\n",
       "    }\n",
       "\n",
       "    .dataframe tbody tr th {\n",
       "        vertical-align: top;\n",
       "    }\n",
       "\n",
       "    .dataframe thead th {\n",
       "        text-align: right;\n",
       "    }\n",
       "</style>\n",
       "<table border=\"1\" class=\"dataframe\">\n",
       "  <thead>\n",
       "    <tr style=\"text-align: right;\">\n",
       "      <th></th>\n",
       "      <th>Rating</th>\n",
       "      <th>Review_summary</th>\n",
       "      <th>Full review</th>\n",
       "    </tr>\n",
       "  </thead>\n",
       "  <tbody>\n",
       "    <tr>\n",
       "      <th>0</th>\n",
       "      <td>5</td>\n",
       "      <td>Terrific</td>\n",
       "      <td>I got this beast today. And I must say the pic...</td>\n",
       "    </tr>\n",
       "    <tr>\n",
       "      <th>1</th>\n",
       "      <td>5</td>\n",
       "      <td>Highly recommended</td>\n",
       "      <td>Amazing camera quality as expected, battery al...</td>\n",
       "    </tr>\n",
       "    <tr>\n",
       "      <th>2</th>\n",
       "      <td>5</td>\n",
       "      <td>Must buy!</td>\n",
       "      <td>Dear friends... I want to share my experience ...</td>\n",
       "    </tr>\n",
       "    <tr>\n",
       "      <th>3</th>\n",
       "      <td>5</td>\n",
       "      <td>Worth every penny</td>\n",
       "      <td>Here is the thingThe only reason why you shoul...</td>\n",
       "    </tr>\n",
       "    <tr>\n",
       "      <th>4</th>\n",
       "      <td>5</td>\n",
       "      <td>Excellent</td>\n",
       "      <td>It was amazing experience for me. Honestly i a...</td>\n",
       "    </tr>\n",
       "    <tr>\n",
       "      <th>...</th>\n",
       "      <td>...</td>\n",
       "      <td>...</td>\n",
       "      <td>...</td>\n",
       "    </tr>\n",
       "    <tr>\n",
       "      <th>95</th>\n",
       "      <td>5</td>\n",
       "      <td>Super!</td>\n",
       "      <td>brilliant design I personally liked red colour...</td>\n",
       "    </tr>\n",
       "    <tr>\n",
       "      <th>96</th>\n",
       "      <td>5</td>\n",
       "      <td>Mind-blowing purchase</td>\n",
       "      <td>Wow!! What a beauty.. i was a hardcore fan of ...</td>\n",
       "    </tr>\n",
       "    <tr>\n",
       "      <th>97</th>\n",
       "      <td>5</td>\n",
       "      <td>Awesome</td>\n",
       "      <td>Features and design is good bt not satisfied w...</td>\n",
       "    </tr>\n",
       "    <tr>\n",
       "      <th>98</th>\n",
       "      <td>5</td>\n",
       "      <td>Great product</td>\n",
       "      <td>I was using android phone earlier..I was think...</td>\n",
       "    </tr>\n",
       "    <tr>\n",
       "      <th>99</th>\n",
       "      <td>4</td>\n",
       "      <td>Wonderful</td>\n",
       "      <td>If I consider it just as a smartphone, it's pr...</td>\n",
       "    </tr>\n",
       "  </tbody>\n",
       "</table>\n",
       "<p>100 rows × 3 columns</p>\n",
       "</div>"
      ],
      "text/plain": [
       "   Rating         Review_summary  \\\n",
       "0       5               Terrific   \n",
       "1       5     Highly recommended   \n",
       "2       5              Must buy!   \n",
       "3       5      Worth every penny   \n",
       "4       5              Excellent   \n",
       "..    ...                    ...   \n",
       "95      5                 Super!   \n",
       "96      5  Mind-blowing purchase   \n",
       "97      5                Awesome   \n",
       "98      5          Great product   \n",
       "99      4              Wonderful   \n",
       "\n",
       "                                          Full review  \n",
       "0   I got this beast today. And I must say the pic...  \n",
       "1   Amazing camera quality as expected, battery al...  \n",
       "2   Dear friends... I want to share my experience ...  \n",
       "3   Here is the thingThe only reason why you shoul...  \n",
       "4   It was amazing experience for me. Honestly i a...  \n",
       "..                                                ...  \n",
       "95  brilliant design I personally liked red colour...  \n",
       "96  Wow!! What a beauty.. i was a hardcore fan of ...  \n",
       "97  Features and design is good bt not satisfied w...  \n",
       "98  I was using android phone earlier..I was think...  \n",
       "99  If I consider it just as a smartphone, it's pr...  \n",
       "\n",
       "[100 rows x 3 columns]"
      ]
     },
     "execution_count": 277,
     "metadata": {},
     "output_type": "execute_result"
    }
   ],
   "source": [
    "#Creating DataFrame\n",
    "i_phone11_review = pd.DataFrame({\"Rating\": Rat,\n",
    "                     \"Review_summary\" : Review_summary,\n",
    "                     \"Full review\" : Full_review})\n",
    "\n",
    "i_phone11_review.head(100)"
   ]
  },
  {
   "cell_type": "markdown",
   "id": "cba245a1",
   "metadata": {},
   "source": [
    "# Q6: Scrape data for first 100 sneakers you find when you visit flipkart.com andsearch for “sneakers” in the search field. You have to scrape 4 attributes of each sneaker: 1. Brand 2. Product Description 3. Price As shown in the below image, you have to scrape the tick marked attributes. \n",
    " \n",
    "   \n"
   ]
  },
  {
   "cell_type": "code",
   "execution_count": 303,
   "id": "4138a8dd",
   "metadata": {},
   "outputs": [],
   "source": [
    "#entering the required details in search certeria.\n",
    "driver.get(\"https://www.flipkart.com/\")"
   ]
  },
  {
   "cell_type": "code",
   "execution_count": 305,
   "id": "79a546ea",
   "metadata": {},
   "outputs": [],
   "source": [
    "prod_ser = driver.find_element_by_xpath(\"//div[@class='_3OO5Xc']//input[@type = 'text']\")\n",
    "prod_ser.send_keys(\"sneakers\")\n",
    "\n",
    "sub_button = driver.find_element_by_xpath(\"//div[@class = 'col-12-12 _2oO9oE']//button[@class = 'L0Z3Pu']\")\n",
    "sub_button.click()"
   ]
  },
  {
   "cell_type": "code",
   "execution_count": 306,
   "id": "0a065f16",
   "metadata": {},
   "outputs": [],
   "source": [
    "#sorting the required information and storing in the list.\n",
    "Brand = []\n",
    "Product_Description= []\n",
    "Price = []\n",
    "Discount =[]"
   ]
  },
  {
   "cell_type": "code",
   "execution_count": 308,
   "id": "a171f75c",
   "metadata": {},
   "outputs": [],
   "source": [
    "while True:\n",
    "    \n",
    "        \n",
    "    for i in driver.find_elements_by_xpath(\"//div[@class= '_2B099V']//div[@class = '_2WkVRV']\"):\n",
    "        Brand.append(i.text)\n",
    "        if len(Brand) == 100:\n",
    "            break\n",
    "    \n",
    "    for i in driver.find_elements_by_xpath(\"//div[@class= '_2B099V']//a\"):\n",
    "        Product_Description.append(i.get_attribute('title'))\n",
    "        if len(Product_Description) == 200:\n",
    "            break\n",
    "    \n",
    "    for i in driver.find_elements_by_xpath(\"//div[@class= '_25b18c']//div[@class = '_30jeq3']\"):\n",
    "        Price.append(i.text) \n",
    "        if len(Price) == 100:\n",
    "            break    \n",
    "    for i in driver.find_elements_by_xpath(\"//div[@class= '_3Ay6Sb']/span\"):\n",
    "        Discount.append(i.text)\n",
    "        if len(Discount) == 100:\n",
    "            break  \n",
    "            \n",
    "    if len(Discount) == 100:\n",
    "        break\n",
    "        \n",
    "    for j in driver.find_elements_by_xpath(\"//nav[@class ='yFHi8N']/a[@class = '_1LKTO3']\"):\n",
    "        next=[j.get_attribute(\"href\")]\n",
    "    \n",
    "  \n",
    "        \n",
    "    for n in next:\n",
    "        driver.get(n) \n",
    "    \n",
    "driver.close() "
   ]
  },
  {
   "cell_type": "code",
   "execution_count": 309,
   "id": "7d79ef08",
   "metadata": {},
   "outputs": [
    {
     "data": {
      "text/html": [
       "<div>\n",
       "<style scoped>\n",
       "    .dataframe tbody tr th:only-of-type {\n",
       "        vertical-align: middle;\n",
       "    }\n",
       "\n",
       "    .dataframe tbody tr th {\n",
       "        vertical-align: top;\n",
       "    }\n",
       "\n",
       "    .dataframe thead th {\n",
       "        text-align: right;\n",
       "    }\n",
       "</style>\n",
       "<table border=\"1\" class=\"dataframe\">\n",
       "  <thead>\n",
       "    <tr style=\"text-align: right;\">\n",
       "      <th></th>\n",
       "      <th>Brand</th>\n",
       "      <th>Product_Description</th>\n",
       "      <th>Price</th>\n",
       "      <th>Discount</th>\n",
       "    </tr>\n",
       "  </thead>\n",
       "  <tbody>\n",
       "    <tr>\n",
       "      <th>0</th>\n",
       "      <td>HIGHLANDER</td>\n",
       "      <td>Sneakers For Men</td>\n",
       "      <td>₹719</td>\n",
       "      <td>39% off</td>\n",
       "    </tr>\n",
       "    <tr>\n",
       "      <th>1</th>\n",
       "      <td>HIGHLANDER</td>\n",
       "      <td>Sneakers For Men</td>\n",
       "      <td>₹995</td>\n",
       "      <td>50% off</td>\n",
       "    </tr>\n",
       "    <tr>\n",
       "      <th>2</th>\n",
       "      <td>DUNKASTON</td>\n",
       "      <td>Sneakers For Men</td>\n",
       "      <td>₹343</td>\n",
       "      <td>77% off</td>\n",
       "    </tr>\n",
       "    <tr>\n",
       "      <th>3</th>\n",
       "      <td>BRUTON</td>\n",
       "      <td>Modern Trendy Sneakers Shoes Sneakers For Men</td>\n",
       "      <td>₹259</td>\n",
       "      <td>80% off</td>\n",
       "    </tr>\n",
       "    <tr>\n",
       "      <th>4</th>\n",
       "      <td>World Wear Footwear</td>\n",
       "      <td>Sneakers For Men</td>\n",
       "      <td>₹199</td>\n",
       "      <td>60% off</td>\n",
       "    </tr>\n",
       "    <tr>\n",
       "      <th>...</th>\n",
       "      <td>...</td>\n",
       "      <td>...</td>\n",
       "      <td>...</td>\n",
       "      <td>...</td>\n",
       "    </tr>\n",
       "    <tr>\n",
       "      <th>95</th>\n",
       "      <td>RapidBox</td>\n",
       "      <td>Sneakers For Men</td>\n",
       "      <td>₹630</td>\n",
       "      <td>36% off</td>\n",
       "    </tr>\n",
       "    <tr>\n",
       "      <th>96</th>\n",
       "      <td>HOTSTYLE</td>\n",
       "      <td>CR-1 Sneakers For Men</td>\n",
       "      <td>₹249</td>\n",
       "      <td>50% off</td>\n",
       "    </tr>\n",
       "    <tr>\n",
       "      <th>97</th>\n",
       "      <td>CLYMB</td>\n",
       "      <td>Khalifa/Walking/Outdoor/Sneakers Sneakers For Men</td>\n",
       "      <td>₹616</td>\n",
       "      <td>58% off</td>\n",
       "    </tr>\n",
       "    <tr>\n",
       "      <th>98</th>\n",
       "      <td>URBANBOX</td>\n",
       "      <td>STYLISH-WHITE-6 Sneakers For Men</td>\n",
       "      <td>₹179</td>\n",
       "      <td>64% off</td>\n",
       "    </tr>\n",
       "    <tr>\n",
       "      <th>99</th>\n",
       "      <td>HIGHLANDER</td>\n",
       "      <td>Sneakers For Men</td>\n",
       "      <td>₹995</td>\n",
       "      <td>50% off</td>\n",
       "    </tr>\n",
       "  </tbody>\n",
       "</table>\n",
       "<p>100 rows × 4 columns</p>\n",
       "</div>"
      ],
      "text/plain": [
       "                  Brand                                Product_Description  \\\n",
       "0            HIGHLANDER                                   Sneakers For Men   \n",
       "1            HIGHLANDER                                   Sneakers For Men   \n",
       "2             DUNKASTON                                   Sneakers For Men   \n",
       "3                BRUTON      Modern Trendy Sneakers Shoes Sneakers For Men   \n",
       "4   World Wear Footwear                                   Sneakers For Men   \n",
       "..                  ...                                                ...   \n",
       "95             RapidBox                                   Sneakers For Men   \n",
       "96             HOTSTYLE                              CR-1 Sneakers For Men   \n",
       "97                CLYMB  Khalifa/Walking/Outdoor/Sneakers Sneakers For Men   \n",
       "98             URBANBOX                   STYLISH-WHITE-6 Sneakers For Men   \n",
       "99           HIGHLANDER                                   Sneakers For Men   \n",
       "\n",
       "   Price Discount  \n",
       "0   ₹719  39% off  \n",
       "1   ₹995  50% off  \n",
       "2   ₹343  77% off  \n",
       "3   ₹259  80% off  \n",
       "4   ₹199  60% off  \n",
       "..   ...      ...  \n",
       "95  ₹630  36% off  \n",
       "96  ₹249  50% off  \n",
       "97  ₹616  58% off  \n",
       "98  ₹179  64% off  \n",
       "99  ₹995  50% off  \n",
       "\n",
       "[100 rows x 4 columns]"
      ]
     },
     "execution_count": 309,
     "metadata": {},
     "output_type": "execute_result"
    }
   ],
   "source": [
    "Product = [] # Since Product_Description have many unwanted information am following this method to clense it.\n",
    "for i in range(0,len(Product_Description)):\n",
    "    if i == 0 or  i/2 == i//2:\n",
    "        Product.append(Product_Description[i])\n",
    "\n",
    "#Creating DataFrame.\n",
    "Flipkart_sneakers = pd.DataFrame({\"Brand\": Brand, \n",
    "                                  \"Product_Description\": Product, \n",
    "                                  \"Price\": Price , \n",
    "                                  \"Discount\": Discount})\n",
    "Flipkart_sneakers        "
   ]
  },
  {
   "cell_type": "markdown",
   "id": "b470958f",
   "metadata": {},
   "source": [
    "# Questtion 7: Go to the link - https://www.myntra.com/shoes Set Price filter to “Rs. 7149 to Rs. 14099 ” , Color filter to “Black”, as shown inthe below image.   \n",
    "And then scrape First 100 shoes data you get. The data should include “Brand” of the shoes , Short Shoe description, price of the shoe as shown in the below image. \n",
    "   "
   ]
  },
  {
   "cell_type": "code",
   "execution_count": 312,
   "id": "1d38d2c9",
   "metadata": {},
   "outputs": [],
   "source": [
    "driver = webdriver.Chrome('chromedriver.exe')\n",
    "driver.get(\"https://www.myntra.com/shoes\")"
   ]
  },
  {
   "cell_type": "code",
   "execution_count": 313,
   "id": "7a0b20ee",
   "metadata": {},
   "outputs": [],
   "source": [
    "#selecting black color.\n",
    "Filter2 = driver.find_elements_by_xpath(\"//li[@class ='colour-listItem']//label[@class ='common-customCheckbox']/div[@class = 'common-checkboxIndicator']\") \n",
    "Filter2[0].click()\n",
    "\n",
    "\n",
    "#setting price filter\n",
    "Filter1 = driver.find_elements_by_xpath(\"//ul[@class ='price-list']//label[@class ='common-customCheckbox vertical-filters-label']/div[@class = 'common-checkboxIndicator']\") \n",
    "Filter1[1].click()"
   ]
  },
  {
   "cell_type": "code",
   "execution_count": 319,
   "id": "53752dc8",
   "metadata": {},
   "outputs": [
    {
     "ename": "StaleElementReferenceException",
     "evalue": "Message: stale element reference: element is not attached to the page document\n  (Session info: chrome=99.0.4844.74)\nStacktrace:\nBacktrace:\n\tOrdinal0 [0x00C39943+2595139]\n\tOrdinal0 [0x00BCC9F1+2148849]\n\tOrdinal0 [0x00AC4528+1066280]\n\tOrdinal0 [0x00AC6E04+1076740]\n\tOrdinal0 [0x00AC6CBE+1076414]\n\tOrdinal0 [0x00AC6F50+1077072]\n\tOrdinal0 [0x00AEC920+1231136]\n\tOrdinal0 [0x00B0B9EC+1358316]\n\tOrdinal0 [0x00AE7474+1209460]\n\tOrdinal0 [0x00B0BC04+1358852]\n\tOrdinal0 [0x00B1BAF2+1424114]\n\tOrdinal0 [0x00B0B806+1357830]\n\tOrdinal0 [0x00AE6086+1204358]\n\tOrdinal0 [0x00AE6F96+1208214]\n\tGetHandleVerifier [0x00DDB232+1658114]\n\tGetHandleVerifier [0x00E9312C+2411516]\n\tGetHandleVerifier [0x00CCF261+560433]\n\tGetHandleVerifier [0x00CCE366+556598]\n\tOrdinal0 [0x00BD286B+2173035]\n\tOrdinal0 [0x00BD75F8+2192888]\n\tOrdinal0 [0x00BD76E5+2193125]\n\tOrdinal0 [0x00BE11FC+2232828]\n\tBaseThreadInitThunk [0x76A2919F+14]\n\tRtlInitializeExceptionChain [0x7708AD1F+143]\n\tRtlInitializeExceptionChain [0x7708ACEA+90]\n",
     "output_type": "error",
     "traceback": [
      "\u001b[1;31m---------------------------------------------------------------------------\u001b[0m",
      "\u001b[1;31mStaleElementReferenceException\u001b[0m            Traceback (most recent call last)",
      "\u001b[1;32mC:\\Users\\INDERJ~1\\AppData\\Local\\Temp/ipykernel_8776/1025675906.py\u001b[0m in \u001b[0;36m<module>\u001b[1;34m\u001b[0m\n\u001b[0;32m      4\u001b[0m \u001b[1;32mwhile\u001b[0m \u001b[0mq\u001b[0m\u001b[1;33m<\u001b[0m\u001b[1;36m2\u001b[0m\u001b[1;33m:\u001b[0m\u001b[1;33m\u001b[0m\u001b[1;33m\u001b[0m\u001b[0m\n\u001b[0;32m      5\u001b[0m     \u001b[1;32mfor\u001b[0m \u001b[0mi\u001b[0m \u001b[1;32min\u001b[0m \u001b[0mdriver\u001b[0m\u001b[1;33m.\u001b[0m\u001b[0mfind_elements_by_xpath\u001b[0m\u001b[1;33m(\u001b[0m\u001b[1;34m\"//h3[@class = 'product-brand']\"\u001b[0m\u001b[1;33m)\u001b[0m\u001b[1;33m:\u001b[0m\u001b[1;33m\u001b[0m\u001b[1;33m\u001b[0m\u001b[0m\n\u001b[1;32m----> 6\u001b[1;33m         \u001b[0mbrand\u001b[0m\u001b[1;33m.\u001b[0m\u001b[0mappend\u001b[0m\u001b[1;33m(\u001b[0m\u001b[0mi\u001b[0m\u001b[1;33m.\u001b[0m\u001b[0mtext\u001b[0m\u001b[1;33m)\u001b[0m\u001b[1;33m\u001b[0m\u001b[1;33m\u001b[0m\u001b[0m\n\u001b[0m\u001b[0;32m      7\u001b[0m         \u001b[1;32mif\u001b[0m \u001b[0mlen\u001b[0m\u001b[1;33m(\u001b[0m\u001b[0mBrand\u001b[0m\u001b[1;33m)\u001b[0m \u001b[1;33m==\u001b[0m \u001b[1;36m100\u001b[0m\u001b[1;33m:\u001b[0m\u001b[1;33m\u001b[0m\u001b[1;33m\u001b[0m\u001b[0m\n\u001b[0;32m      8\u001b[0m             \u001b[1;32mbreak\u001b[0m\u001b[1;33m\u001b[0m\u001b[1;33m\u001b[0m\u001b[0m\n",
      "\u001b[1;32mC:\\ProgramData\\Anaconda3\\lib\\site-packages\\selenium\\webdriver\\remote\\webelement.py\u001b[0m in \u001b[0;36mtext\u001b[1;34m(self)\u001b[0m\n\u001b[0;32m     75\u001b[0m     \u001b[1;32mdef\u001b[0m \u001b[0mtext\u001b[0m\u001b[1;33m(\u001b[0m\u001b[0mself\u001b[0m\u001b[1;33m)\u001b[0m \u001b[1;33m->\u001b[0m \u001b[0mstr\u001b[0m\u001b[1;33m:\u001b[0m\u001b[1;33m\u001b[0m\u001b[1;33m\u001b[0m\u001b[0m\n\u001b[0;32m     76\u001b[0m         \u001b[1;34m\"\"\"The text of the element.\"\"\"\u001b[0m\u001b[1;33m\u001b[0m\u001b[1;33m\u001b[0m\u001b[0m\n\u001b[1;32m---> 77\u001b[1;33m         \u001b[1;32mreturn\u001b[0m \u001b[0mself\u001b[0m\u001b[1;33m.\u001b[0m\u001b[0m_execute\u001b[0m\u001b[1;33m(\u001b[0m\u001b[0mCommand\u001b[0m\u001b[1;33m.\u001b[0m\u001b[0mGET_ELEMENT_TEXT\u001b[0m\u001b[1;33m)\u001b[0m\u001b[1;33m[\u001b[0m\u001b[1;34m'value'\u001b[0m\u001b[1;33m]\u001b[0m\u001b[1;33m\u001b[0m\u001b[1;33m\u001b[0m\u001b[0m\n\u001b[0m\u001b[0;32m     78\u001b[0m \u001b[1;33m\u001b[0m\u001b[0m\n\u001b[0;32m     79\u001b[0m     \u001b[1;32mdef\u001b[0m \u001b[0mclick\u001b[0m\u001b[1;33m(\u001b[0m\u001b[0mself\u001b[0m\u001b[1;33m)\u001b[0m \u001b[1;33m->\u001b[0m \u001b[1;32mNone\u001b[0m\u001b[1;33m:\u001b[0m\u001b[1;33m\u001b[0m\u001b[1;33m\u001b[0m\u001b[0m\n",
      "\u001b[1;32mC:\\ProgramData\\Anaconda3\\lib\\site-packages\\selenium\\webdriver\\remote\\webelement.py\u001b[0m in \u001b[0;36m_execute\u001b[1;34m(self, command, params)\u001b[0m\n\u001b[0;32m    708\u001b[0m             \u001b[0mparams\u001b[0m \u001b[1;33m=\u001b[0m \u001b[1;33m{\u001b[0m\u001b[1;33m}\u001b[0m\u001b[1;33m\u001b[0m\u001b[1;33m\u001b[0m\u001b[0m\n\u001b[0;32m    709\u001b[0m         \u001b[0mparams\u001b[0m\u001b[1;33m[\u001b[0m\u001b[1;34m'id'\u001b[0m\u001b[1;33m]\u001b[0m \u001b[1;33m=\u001b[0m \u001b[0mself\u001b[0m\u001b[1;33m.\u001b[0m\u001b[0m_id\u001b[0m\u001b[1;33m\u001b[0m\u001b[1;33m\u001b[0m\u001b[0m\n\u001b[1;32m--> 710\u001b[1;33m         \u001b[1;32mreturn\u001b[0m \u001b[0mself\u001b[0m\u001b[1;33m.\u001b[0m\u001b[0m_parent\u001b[0m\u001b[1;33m.\u001b[0m\u001b[0mexecute\u001b[0m\u001b[1;33m(\u001b[0m\u001b[0mcommand\u001b[0m\u001b[1;33m,\u001b[0m \u001b[0mparams\u001b[0m\u001b[1;33m)\u001b[0m\u001b[1;33m\u001b[0m\u001b[1;33m\u001b[0m\u001b[0m\n\u001b[0m\u001b[0;32m    711\u001b[0m \u001b[1;33m\u001b[0m\u001b[0m\n\u001b[0;32m    712\u001b[0m     \u001b[1;32mdef\u001b[0m \u001b[0mfind_element\u001b[0m\u001b[1;33m(\u001b[0m\u001b[0mself\u001b[0m\u001b[1;33m,\u001b[0m \u001b[0mby\u001b[0m\u001b[1;33m=\u001b[0m\u001b[0mBy\u001b[0m\u001b[1;33m.\u001b[0m\u001b[0mID\u001b[0m\u001b[1;33m,\u001b[0m \u001b[0mvalue\u001b[0m\u001b[1;33m=\u001b[0m\u001b[1;32mNone\u001b[0m\u001b[1;33m)\u001b[0m\u001b[1;33m:\u001b[0m\u001b[1;33m\u001b[0m\u001b[1;33m\u001b[0m\u001b[0m\n",
      "\u001b[1;32mC:\\ProgramData\\Anaconda3\\lib\\site-packages\\selenium\\webdriver\\remote\\webdriver.py\u001b[0m in \u001b[0;36mexecute\u001b[1;34m(self, driver_command, params)\u001b[0m\n\u001b[0;32m    423\u001b[0m         \u001b[0mresponse\u001b[0m \u001b[1;33m=\u001b[0m \u001b[0mself\u001b[0m\u001b[1;33m.\u001b[0m\u001b[0mcommand_executor\u001b[0m\u001b[1;33m.\u001b[0m\u001b[0mexecute\u001b[0m\u001b[1;33m(\u001b[0m\u001b[0mdriver_command\u001b[0m\u001b[1;33m,\u001b[0m \u001b[0mparams\u001b[0m\u001b[1;33m)\u001b[0m\u001b[1;33m\u001b[0m\u001b[1;33m\u001b[0m\u001b[0m\n\u001b[0;32m    424\u001b[0m         \u001b[1;32mif\u001b[0m \u001b[0mresponse\u001b[0m\u001b[1;33m:\u001b[0m\u001b[1;33m\u001b[0m\u001b[1;33m\u001b[0m\u001b[0m\n\u001b[1;32m--> 425\u001b[1;33m             \u001b[0mself\u001b[0m\u001b[1;33m.\u001b[0m\u001b[0merror_handler\u001b[0m\u001b[1;33m.\u001b[0m\u001b[0mcheck_response\u001b[0m\u001b[1;33m(\u001b[0m\u001b[0mresponse\u001b[0m\u001b[1;33m)\u001b[0m\u001b[1;33m\u001b[0m\u001b[1;33m\u001b[0m\u001b[0m\n\u001b[0m\u001b[0;32m    426\u001b[0m             response['value'] = self._unwrap_value(\n\u001b[0;32m    427\u001b[0m                 response.get('value', None))\n",
      "\u001b[1;32mC:\\ProgramData\\Anaconda3\\lib\\site-packages\\selenium\\webdriver\\remote\\errorhandler.py\u001b[0m in \u001b[0;36mcheck_response\u001b[1;34m(self, response)\u001b[0m\n\u001b[0;32m    245\u001b[0m                 \u001b[0malert_text\u001b[0m \u001b[1;33m=\u001b[0m \u001b[0mvalue\u001b[0m\u001b[1;33m[\u001b[0m\u001b[1;34m'alert'\u001b[0m\u001b[1;33m]\u001b[0m\u001b[1;33m.\u001b[0m\u001b[0mget\u001b[0m\u001b[1;33m(\u001b[0m\u001b[1;34m'text'\u001b[0m\u001b[1;33m)\u001b[0m\u001b[1;33m\u001b[0m\u001b[1;33m\u001b[0m\u001b[0m\n\u001b[0;32m    246\u001b[0m             \u001b[1;32mraise\u001b[0m \u001b[0mexception_class\u001b[0m\u001b[1;33m(\u001b[0m\u001b[0mmessage\u001b[0m\u001b[1;33m,\u001b[0m \u001b[0mscreen\u001b[0m\u001b[1;33m,\u001b[0m \u001b[0mstacktrace\u001b[0m\u001b[1;33m,\u001b[0m \u001b[0malert_text\u001b[0m\u001b[1;33m)\u001b[0m  \u001b[1;31m# type: ignore[call-arg]  # mypy is not smart enough here\u001b[0m\u001b[1;33m\u001b[0m\u001b[1;33m\u001b[0m\u001b[0m\n\u001b[1;32m--> 247\u001b[1;33m         \u001b[1;32mraise\u001b[0m \u001b[0mexception_class\u001b[0m\u001b[1;33m(\u001b[0m\u001b[0mmessage\u001b[0m\u001b[1;33m,\u001b[0m \u001b[0mscreen\u001b[0m\u001b[1;33m,\u001b[0m \u001b[0mstacktrace\u001b[0m\u001b[1;33m)\u001b[0m\u001b[1;33m\u001b[0m\u001b[1;33m\u001b[0m\u001b[0m\n\u001b[0m\u001b[0;32m    248\u001b[0m \u001b[1;33m\u001b[0m\u001b[0m\n\u001b[0;32m    249\u001b[0m     \u001b[1;32mdef\u001b[0m \u001b[0m_value_or_default\u001b[0m\u001b[1;33m(\u001b[0m\u001b[0mself\u001b[0m\u001b[1;33m,\u001b[0m \u001b[0mobj\u001b[0m\u001b[1;33m:\u001b[0m \u001b[0mMapping\u001b[0m\u001b[1;33m[\u001b[0m\u001b[0m_KT\u001b[0m\u001b[1;33m,\u001b[0m \u001b[0m_VT\u001b[0m\u001b[1;33m]\u001b[0m\u001b[1;33m,\u001b[0m \u001b[0mkey\u001b[0m\u001b[1;33m:\u001b[0m \u001b[0m_KT\u001b[0m\u001b[1;33m,\u001b[0m \u001b[0mdefault\u001b[0m\u001b[1;33m:\u001b[0m \u001b[0m_VT\u001b[0m\u001b[1;33m)\u001b[0m \u001b[1;33m->\u001b[0m \u001b[0m_VT\u001b[0m\u001b[1;33m:\u001b[0m\u001b[1;33m\u001b[0m\u001b[1;33m\u001b[0m\u001b[0m\n",
      "\u001b[1;31mStaleElementReferenceException\u001b[0m: Message: stale element reference: element is not attached to the page document\n  (Session info: chrome=99.0.4844.74)\nStacktrace:\nBacktrace:\n\tOrdinal0 [0x00C39943+2595139]\n\tOrdinal0 [0x00BCC9F1+2148849]\n\tOrdinal0 [0x00AC4528+1066280]\n\tOrdinal0 [0x00AC6E04+1076740]\n\tOrdinal0 [0x00AC6CBE+1076414]\n\tOrdinal0 [0x00AC6F50+1077072]\n\tOrdinal0 [0x00AEC920+1231136]\n\tOrdinal0 [0x00B0B9EC+1358316]\n\tOrdinal0 [0x00AE7474+1209460]\n\tOrdinal0 [0x00B0BC04+1358852]\n\tOrdinal0 [0x00B1BAF2+1424114]\n\tOrdinal0 [0x00B0B806+1357830]\n\tOrdinal0 [0x00AE6086+1204358]\n\tOrdinal0 [0x00AE6F96+1208214]\n\tGetHandleVerifier [0x00DDB232+1658114]\n\tGetHandleVerifier [0x00E9312C+2411516]\n\tGetHandleVerifier [0x00CCF261+560433]\n\tGetHandleVerifier [0x00CCE366+556598]\n\tOrdinal0 [0x00BD286B+2173035]\n\tOrdinal0 [0x00BD75F8+2192888]\n\tOrdinal0 [0x00BD76E5+2193125]\n\tOrdinal0 [0x00BE11FC+2232828]\n\tBaseThreadInitThunk [0x76A2919F+14]\n\tRtlInitializeExceptionChain [0x7708AD1F+143]\n\tRtlInitializeExceptionChain [0x7708ACEA+90]\n"
     ]
    }
   ],
   "source": [
    "brand,description,price = [], [], []\n",
    "q = 0\n",
    "\n",
    "while q<2:\n",
    "    for i in driver.find_elements_by_xpath(\"//h3[@class = 'product-brand']\"):\n",
    "        brand.append(i.text)\n",
    "        if len(Brand) == 100:\n",
    "            break\n",
    "    \n",
    "    for i in driver.find_elements_by_xpath(\"//div[@class= 'product-productMetaInfo']//h4[@class = 'product-product']\"):\n",
    "        description.append(i.text)\n",
    "        if len(description) == 100:\n",
    "            break\n",
    "    \n",
    "    for i in driver.find_elements_by_xpath(\"//div[@class= 'product-productMetaInfo']//div[@class = 'product-price']\"):\n",
    "        price.append(i.text)\n",
    "        if len(price) == 100:\n",
    "            break\n",
    "    \n",
    "    nxt = driver.find_element_by_xpath(\"//a[@rel = 'next']\")\n",
    "    nxt.click()\n",
    "    q +=1\n",
    "    \n",
    "    \n",
    "\n",
    "driver.close()     \n",
    "price= [i.split('Rs. ')[1] for i in price]   \n",
    "\n",
    "myntra_blackshoes = pd.DataFrame({\"Brand\":brand,\"description\":description,\"price\":price})\n",
    "myntra_blackshoes\n",
    "    "
   ]
  },
  {
   "cell_type": "markdown",
   "id": "a029afa6",
   "metadata": {},
   "source": [
    "# Q8: Go to webpage https://www.amazon.in/ Enter “Laptop” in the search field and then click the search icon. Then set CPU Type filter to “Intel Core i7” and “Intel Core i9” as shown in the below image:   \n",
    "After setting the filters scrape first 10 laptops data. You have to scrape 3 attributesfor each laptop: 1. Title 2. Ratings 3. Price As shown in the below image as the tick marked attributes. \n",
    " \n",
    " "
   ]
  },
  {
   "cell_type": "code",
   "execution_count": 322,
   "id": "637bd9d1",
   "metadata": {},
   "outputs": [],
   "source": [
    "#entering the required details in search certeria.\n",
    "driver.get(\"https://www.amazon.in/\")\n",
    "\n",
    "search_Box = driver.find_element_by_xpath(\"//div[@class = 'nav-search-field ']/input[@type='text']\")\n",
    "search_Box.send_keys(\"Laptop\")\n",
    "search_btn = driver.find_element_by_xpath(\"//input[@id= 'nav-search-submit-button']\")\n",
    "search_btn.click()\n"
   ]
  },
  {
   "cell_type": "code",
   "execution_count": 325,
   "id": "d19b6da7",
   "metadata": {},
   "outputs": [],
   "source": [
    "#Locating the filters from the webpage\n",
    "#Filtering Intel Core i7 from filters\n",
    "filter1=driver.find_elements_by_xpath(\"//a[@class='a-link-normal s-navigation-item']/span\")\n",
    "for i in filter1:\n",
    "    if i.text=='Intel Core i7':\n",
    "        i.click()\n",
    "        break    "
   ]
  },
  {
   "cell_type": "code",
   "execution_count": 326,
   "id": "07938206",
   "metadata": {},
   "outputs": [],
   "source": [
    "#Filtering Intel Core i9 from filters\n",
    "filter1=driver.find_elements_by_xpath(\"//a[@class='a-link-normal s-navigation-item']/span\")\n",
    "for i in filter1:\n",
    "    if i.text=='Intel Core i9':\n",
    "        i.click()\n",
    "        break"
   ]
  },
  {
   "cell_type": "code",
   "execution_count": 327,
   "id": "1f85d0a3",
   "metadata": {},
   "outputs": [
    {
     "data": {
      "text/plain": [
       "['₹1,54,850',\n",
       " '₹1,43,990',\n",
       " '₹2,68,965',\n",
       " '₹2,99,990',\n",
       " '₹2,32,000',\n",
       " '₹2,68,995',\n",
       " '₹1,48,990',\n",
       " '₹1,38,000',\n",
       " '₹2,93,000',\n",
       " '₹1,72,000']"
      ]
     },
     "execution_count": 327,
     "metadata": {},
     "output_type": "execute_result"
    }
   ],
   "source": [
    "#Extracting the tags having the product title\n",
    "title=driver.find_elements_by_xpath(\"//span[@class='a-size-medium a-color-base a-text-normal']\")\n",
    "title\n",
    "\n",
    "#Extracting the text from the tags\n",
    "prod_title=[]  #Empty list\n",
    "\n",
    "#As we need to scrap data for the first 10 product results, we are running a for loop for first 10 results only\n",
    "for i in title[:10]:\n",
    "    prod_title.append(i.text)\n",
    "prod_title    \n",
    "\n",
    "#Extracting the tags having the price of the product\n",
    "price=driver.find_elements_by_xpath(\"//span[@class='a-price']\")\n",
    "price\n",
    "\n",
    "#Extracting the text from the tags\n",
    "prod_price=[]  #Empty list\n",
    "\n",
    "#As we need to scrap data for the first 10 product results, we are running a for loop for first 10 results only\n",
    "for i in price[:10]:\n",
    "    prod_price.append(i.text)\n",
    "prod_price"
   ]
  },
  {
   "cell_type": "code",
   "execution_count": 328,
   "id": "14f99a45",
   "metadata": {},
   "outputs": [
    {
     "name": "stdout",
     "output_type": "stream",
     "text": [
      "10 10 10\n"
     ]
    }
   ],
   "source": [
    "#Extracting the tags having the product ratings\n",
    "#First we will collect the urls of all laptops\n",
    "laptop_urls=driver.find_elements_by_xpath(\"//a[@class='a-link-normal a-text-normal']\")\n",
    "URL=[]   #Taking an empty list\n",
    "\n",
    "#Appending the url of first 10 laptops to empty list\n",
    "for i in laptop_urls[:10]:\n",
    "    URL.append(i.get_attribute('href'))   #Getting url alone\n",
    "URL    \n",
    "\n",
    "#Extracting the ratings of the laptop by using exception as some products dont have any ratings\n",
    "Ratings=[]   #Empty list\n",
    "#Loop for every laptops in the list\n",
    "for url in URL:\n",
    "    driver.get(url)\n",
    "    try:   #Exception handling by using NoSuchElementException\n",
    "        prod_rating=driver.find_element_by_id('acrCustomerReviewText')  #Locating the rating link\n",
    "        prod_rating.click()\n",
    "        rating=driver.find_element_by_xpath(\"//span[@class='a-size-medium a-color-base']\") #Locating the rating tags\n",
    "        Ratings.append(rating.text)  #Appending the text from tags to the list\n",
    "    except NoSuchElementException as e:\n",
    "        Ratings.append('No Rating')  #Appending message for products having no ratings\n",
    "        \n",
    "#Checking out the length of the data extracted\n",
    "print(len(prod_title),len(prod_price),len(Ratings))"
   ]
  },
  {
   "cell_type": "code",
   "execution_count": 329,
   "id": "6c86c782",
   "metadata": {},
   "outputs": [
    {
     "data": {
      "text/html": [
       "<div>\n",
       "<style scoped>\n",
       "    .dataframe tbody tr th:only-of-type {\n",
       "        vertical-align: middle;\n",
       "    }\n",
       "\n",
       "    .dataframe tbody tr th {\n",
       "        vertical-align: top;\n",
       "    }\n",
       "\n",
       "    .dataframe thead th {\n",
       "        text-align: right;\n",
       "    }\n",
       "</style>\n",
       "<table border=\"1\" class=\"dataframe\">\n",
       "  <thead>\n",
       "    <tr style=\"text-align: right;\">\n",
       "      <th></th>\n",
       "      <th>Product name</th>\n",
       "      <th>Price</th>\n",
       "      <th>Rating</th>\n",
       "    </tr>\n",
       "  </thead>\n",
       "  <tbody>\n",
       "    <tr>\n",
       "      <th>0</th>\n",
       "      <td>ASUS TUF Gaming F15 (2021), 15.6\" (39.62 cms) ...</td>\n",
       "      <td>₹1,54,850</td>\n",
       "      <td>4.1 out of 5</td>\n",
       "    </tr>\n",
       "    <tr>\n",
       "      <th>1</th>\n",
       "      <td>ASUS TUF Gaming F15 (2021), 15.6-inch (39.62 c...</td>\n",
       "      <td>₹1,43,990</td>\n",
       "      <td>4.3 out of 5</td>\n",
       "    </tr>\n",
       "    <tr>\n",
       "      <th>2</th>\n",
       "      <td>ASUS ROG Strix Scar 17 (2022), 17.3-inch (43.9...</td>\n",
       "      <td>₹2,68,965</td>\n",
       "      <td>4.2 out of 5</td>\n",
       "    </tr>\n",
       "    <tr>\n",
       "      <th>3</th>\n",
       "      <td>ASUS ROG Strix SCAR 15 (2022), 15.6-inch (39.6...</td>\n",
       "      <td>₹2,99,990</td>\n",
       "      <td>4.3 out of 5</td>\n",
       "    </tr>\n",
       "    <tr>\n",
       "      <th>4</th>\n",
       "      <td>HP ZBOOK Power G8/ Intel core i9-11900H 8 Core...</td>\n",
       "      <td>₹2,32,000</td>\n",
       "      <td>4.6 out of 5</td>\n",
       "    </tr>\n",
       "    <tr>\n",
       "      <th>5</th>\n",
       "      <td>ASUS ROG Strix Scar 15 (2022), 15.6-inch (39.6...</td>\n",
       "      <td>₹2,68,995</td>\n",
       "      <td>4 out of 5</td>\n",
       "    </tr>\n",
       "    <tr>\n",
       "      <th>6</th>\n",
       "      <td>ASUS TUF Gaming F15 (2021), 15.6-inch (39.62 c...</td>\n",
       "      <td>₹1,48,990</td>\n",
       "      <td>4.4 out of 5</td>\n",
       "    </tr>\n",
       "    <tr>\n",
       "      <th>7</th>\n",
       "      <td>(Renewed) HP Omen 15-dh0139TX Gaming Laptop (9...</td>\n",
       "      <td>₹1,38,000</td>\n",
       "      <td>4.6 out of 5</td>\n",
       "    </tr>\n",
       "    <tr>\n",
       "      <th>8</th>\n",
       "      <td>HP ZBook Power G8/ Intel Core i9-11950H 2.5GHz...</td>\n",
       "      <td>₹2,93,000</td>\n",
       "      <td>4.5 out of 5</td>\n",
       "    </tr>\n",
       "    <tr>\n",
       "      <th>9</th>\n",
       "      <td>(Renewed) Dell G7 7500 15.6inch FHD 300 Hz Dis...</td>\n",
       "      <td>₹1,72,000</td>\n",
       "      <td>4.3 out of 5</td>\n",
       "    </tr>\n",
       "  </tbody>\n",
       "</table>\n",
       "</div>"
      ],
      "text/plain": [
       "                                        Product name      Price        Rating\n",
       "0  ASUS TUF Gaming F15 (2021), 15.6\" (39.62 cms) ...  ₹1,54,850  4.1 out of 5\n",
       "1  ASUS TUF Gaming F15 (2021), 15.6-inch (39.62 c...  ₹1,43,990  4.3 out of 5\n",
       "2  ASUS ROG Strix Scar 17 (2022), 17.3-inch (43.9...  ₹2,68,965  4.2 out of 5\n",
       "3  ASUS ROG Strix SCAR 15 (2022), 15.6-inch (39.6...  ₹2,99,990  4.3 out of 5\n",
       "4  HP ZBOOK Power G8/ Intel core i9-11900H 8 Core...  ₹2,32,000  4.6 out of 5\n",
       "5  ASUS ROG Strix Scar 15 (2022), 15.6-inch (39.6...  ₹2,68,995    4 out of 5\n",
       "6  ASUS TUF Gaming F15 (2021), 15.6-inch (39.62 c...  ₹1,48,990  4.4 out of 5\n",
       "7  (Renewed) HP Omen 15-dh0139TX Gaming Laptop (9...  ₹1,38,000  4.6 out of 5\n",
       "8  HP ZBook Power G8/ Intel Core i9-11950H 2.5GHz...  ₹2,93,000  4.5 out of 5\n",
       "9  (Renewed) Dell G7 7500 15.6inch FHD 300 Hz Dis...  ₹1,72,000  4.3 out of 5"
      ]
     },
     "execution_count": 329,
     "metadata": {},
     "output_type": "execute_result"
    }
   ],
   "source": [
    "#Creating a new dataframe for saving the data\n",
    "amazon=pd.DataFrame({})\n",
    "amazon['Product name']=prod_title\n",
    "amazon['Price']=prod_price\n",
    "amazon['Rating']=Ratings\n",
    "amazon"
   ]
  },
  {
   "cell_type": "markdown",
   "id": "ac456d16",
   "metadata": {},
   "source": [
    "# Q10: Write a python program to scrape the salary data for Data Scientist designation. You have to scrape Company name, Number of salaries, Average salary, Minsalary, Max Salary. \n",
    "The above task will be, done as shown in the below steps: \n",
    "1. First get the webpage https://www.ambitionbox.com/ 2. Click on the salaries option as shown in the image.  \n",
    " \n",
    " \n",
    "3. After reaching to the following webpage, In place of “Search Job Profile” enters “Data Scientist” and then click on “Data Scientist”.   \n",
    "You have to scrape the data ticked in the above image. \n",
    "4. Scrape the data for the first 10 companies. Scrape the company name, total salary record, average salary, minimum salary, maximum salary, experience required. 5. Store the data in a dataframe. \n",
    "Note: All the steps required during scraping should be done through code only and not manually. "
   ]
  },
  {
   "cell_type": "code",
   "execution_count": 342,
   "id": "1cd9d693",
   "metadata": {},
   "outputs": [],
   "source": [
    "#entering the required details in search certeria.\n",
    "driver.get(\"https://www.ambitionbox.com/\")"
   ]
  },
  {
   "cell_type": "code",
   "execution_count": 343,
   "id": "07469f0c",
   "metadata": {},
   "outputs": [],
   "source": [
    "salaries_btton = driver.find_element_by_xpath(\"/html/body/div[1]/nav/nav/a[4]\")\n",
    "salaries_btton.click()"
   ]
  },
  {
   "cell_type": "code",
   "execution_count": 344,
   "id": "ab53e09a",
   "metadata": {},
   "outputs": [],
   "source": [
    "search_btton=driver.find_element_by_xpath(\"/html/body/div/div/div/main/section[1]/div[2]/div[1]/span/input\")\n",
    "search_btton.send_keys(\"Data Scientist\")"
   ]
  },
  {
   "cell_type": "code",
   "execution_count": 345,
   "id": "7edc583b",
   "metadata": {},
   "outputs": [],
   "source": [
    "serachbtton=driver.find_element_by_xpath(\"/html/body/div/div/div/main/section[1]/div[2]/div[1]/span/div/div/div[1]\")\n",
    "serachbtton.click()"
   ]
  },
  {
   "cell_type": "code",
   "execution_count": null,
   "id": "fb49c073",
   "metadata": {},
   "outputs": [],
   "source": []
  }
 ],
 "metadata": {
  "kernelspec": {
   "display_name": "Python 3 (ipykernel)",
   "language": "python",
   "name": "python3"
  },
  "language_info": {
   "codemirror_mode": {
    "name": "ipython",
    "version": 3
   },
   "file_extension": ".py",
   "mimetype": "text/x-python",
   "name": "python",
   "nbconvert_exporter": "python",
   "pygments_lexer": "ipython3",
   "version": "3.9.7"
  }
 },
 "nbformat": 4,
 "nbformat_minor": 5
}
