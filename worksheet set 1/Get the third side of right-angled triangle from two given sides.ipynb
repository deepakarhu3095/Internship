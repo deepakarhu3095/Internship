{
 "cells": [
  {
   "cell_type": "markdown",
   "id": "b97487f6",
   "metadata": {},
   "source": [
    "# Get the third side of right-angled triangle from two given sides"
   ]
  },
  {
   "cell_type": "code",
   "execution_count": 1,
   "id": "9ff3ed42",
   "metadata": {},
   "outputs": [],
   "source": [
    "# Pythagoras Theoram"
   ]
  },
  {
   "cell_type": "code",
   "execution_count": 3,
   "id": "ae951960",
   "metadata": {},
   "outputs": [
    {
     "name": "stdout",
     "output_type": "stream",
     "text": [
      "what is the a value? 5\n",
      "what is the b value? 6\n",
      "so A: 5 and B: 6 so then C: 7.810249675906654\n"
     ]
    }
   ],
   "source": [
    "a= int(input(\"what is the a value? \"))\n",
    "b= int(input(\"what is the b value? \")) \n",
    "c= (a**2 + b**2)**(.5)\n",
    "print (\"so A: {} and B: {} so then C: {}\" .format(a,b,c))"
   ]
  },
  {
   "cell_type": "code",
   "execution_count": null,
   "id": "0c637931",
   "metadata": {},
   "outputs": [],
   "source": []
  }
 ],
 "metadata": {
  "kernelspec": {
   "display_name": "Python 3",
   "language": "python",
   "name": "python3"
  },
  "language_info": {
   "codemirror_mode": {
    "name": "ipython",
    "version": 3
   },
   "file_extension": ".py",
   "mimetype": "text/x-python",
   "name": "python",
   "nbconvert_exporter": "python",
   "pygments_lexer": "ipython3",
   "version": "3.8.8"
  }
 },
 "nbformat": 4,
 "nbformat_minor": 5
}
