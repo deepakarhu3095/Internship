{
 "cells": [
  {
   "cell_type": "markdown",
   "id": "23ed30c6",
   "metadata": {},
   "source": [
    "# Factorial of a number."
   ]
  },
  {
   "cell_type": "code",
   "execution_count": 3,
   "id": "a95460e8",
   "metadata": {},
   "outputs": [
    {
     "name": "stdout",
     "output_type": "stream",
     "text": [
      "Enter the number:5\n",
      "The Factorial of  5 is 120\n"
     ]
    }
   ],
   "source": [
    "fact = 1\n",
    "num = int (input(\"Enter the number:\"))\n",
    "org = num\n",
    "while num > 0:\n",
    "    fact = fact * num\n",
    "    num = num-1\n",
    "print (\"The Factorial of \", org, \"is\",fact)    "
   ]
  },
  {
   "cell_type": "code",
   "execution_count": null,
   "id": "d2807d28",
   "metadata": {},
   "outputs": [],
   "source": []
  }
 ],
 "metadata": {
  "kernelspec": {
   "display_name": "Python 3",
   "language": "python",
   "name": "python3"
  },
  "language_info": {
   "codemirror_mode": {
    "name": "ipython",
    "version": 3
   },
   "file_extension": ".py",
   "mimetype": "text/x-python",
   "name": "python",
   "nbconvert_exporter": "python",
   "pygments_lexer": "ipython3",
   "version": "3.8.8"
  }
 },
 "nbformat": 4,
 "nbformat_minor": 5
}
