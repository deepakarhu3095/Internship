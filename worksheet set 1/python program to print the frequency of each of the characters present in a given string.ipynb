{
 "cells": [
  {
   "cell_type": "markdown",
   "id": "0ee0fe55",
   "metadata": {},
   "source": [
    "# python program to print the frequency of each of the characters present in a given string"
   ]
  },
  {
   "cell_type": "code",
   "execution_count": 1,
   "id": "856e2407",
   "metadata": {},
   "outputs": [
    {
     "name": "stdout",
     "output_type": "stream",
     "text": [
      "Enter any stringmy name is deepak\n",
      "Enter search characterd\n",
      "Number of time found = 1\n"
     ]
    }
   ],
   "source": [
    "na=input (\"Enter any string\")\n",
    "ch= input(\"Enter search character\")\n",
    "f=0\n",
    "for i in na:\n",
    "    if i == ch:\n",
    "        f=f+1\n",
    "        print(\"Number of time found =\", f)"
   ]
  },
  {
   "cell_type": "code",
   "execution_count": null,
   "id": "304b2765",
   "metadata": {},
   "outputs": [],
   "source": []
  }
 ],
 "metadata": {
  "kernelspec": {
   "display_name": "Python 3",
   "language": "python",
   "name": "python3"
  },
  "language_info": {
   "codemirror_mode": {
    "name": "ipython",
    "version": 3
   },
   "file_extension": ".py",
   "mimetype": "text/x-python",
   "name": "python",
   "nbconvert_exporter": "python",
   "pygments_lexer": "ipython3",
   "version": "3.8.8"
  }
 },
 "nbformat": 4,
 "nbformat_minor": 5
}
